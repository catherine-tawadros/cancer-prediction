{
 "cells": [
  {
   "attachments": {},
   "cell_type": "markdown",
   "id": "183ea5cf",
   "metadata": {
    "id": "183ea5cf"
   },
   "source": [
    "## **AI & ML salaries during 2020-2023**\n",
    "\n",
    "### By Christina Tzavara, Sarah Abdulwahid, Alex Olmeta, Catherine Tawadros, Charles Bugayer"
   ]
  },
  {
   "cell_type": "code",
   "execution_count": 2,
   "id": "46207cd3",
   "metadata": {},
   "outputs": [],
   "source": [
    "import nbformat\n",
    "\n",
    "# Load the first notebook\n",
    "with open('decision_trees.ipynb', 'r') as file:\n",
    "    nb1 = nbformat.read(file, as_version=nbformat.NO_CONVERT)\n",
    "\n",
    "# Load the second notebook\n",
    "with open('Project_Code.ipynb', 'r') as file:\n",
    "    nb2 = nbformat.read(file, as_version=nbformat.NO_CONVERT)\n",
    "\n",
    "# Create a new notebook\n",
    "merged_nb = nbformat.v4.new_notebook()\n",
    "\n",
    "# Combine the cells from both notebooks into the new notebook\n",
    "merged_nb.cells.extend(nb1.cells)\n",
    "merged_nb.cells.extend(nb2.cells)\n",
    "\n",
    "# Save the merged notebook\n",
    "with open('Project_Code_2.ipynb', 'w') as file:\n",
    "    nbformat.write(merged_nb, file)"
   ]
  },
  {
   "cell_type": "code",
   "execution_count": 9,
   "id": "208c25f3",
   "metadata": {
    "id": "208c25f3"
   },
   "outputs": [],
   "source": [
    "import pandas as pd\n",
    "from pyearth import Earth\n",
    "import numpy as np\n",
    "import seaborn as sns\n",
    "import matplotlib.pyplot as plt\n",
    "from sklearn.metrics import mean_absolute_error\n",
    "from sklearn.model_selection import cross_val_score,train_test_split, KFold, cross_val_predict\n",
    "from sklearn.metrics import mean_squared_error,r2_score,roc_curve,auc,precision_recall_curve, accuracy_score, \\\n",
    "recall_score, precision_score, confusion_matrix\n",
    "from sklearn.tree import DecisionTreeRegressor,DecisionTreeClassifier\n",
    "from sklearn.model_selection import GridSearchCV, ParameterGrid, StratifiedKFold\n",
    "from sklearn.ensemble import BaggingRegressor,BaggingClassifier,AdaBoostRegressor,AdaBoostClassifier\n",
    "from sklearn.impute import SimpleImputer\n",
    "from sklearn.linear_model import LinearRegression,LogisticRegression\n",
    "from sklearn.feature_selection import VarianceThreshold\n",
    "from sklearn.neighbors import KNeighborsRegressor\n",
    "from sklearn.ensemble import RandomForestRegressor\n",
    "from sklearn.preprocessing import OneHotEncoder\n",
    "from sklearn.preprocessing import StandardScaler\n",
    "from sklearn.model_selection import RandomizedSearchCV\n",
    "from sklearn.ensemble import GradientBoostingRegressor\n",
    "from sklearn.impute import KNNImputer\n",
    "import xgboost as xgb\n",
    "import itertools as it\n",
    "import time as time \n",
    "import warnings\n",
    "warnings.filterwarnings('ignore')"
   ]
  },
  {
   "attachments": {},
   "cell_type": "markdown",
   "id": "fe7ea9bb",
   "metadata": {
    "id": "fe7ea9bb"
   },
   "source": [
    "## Data quality check / cleaning / preparation \n"
   ]
  },
  {
   "cell_type": "code",
   "execution_count": 3,
   "id": "c5a93d1b",
   "metadata": {
    "colab": {
     "base_uri": "https://localhost:8080/",
     "height": 357
    },
    "id": "c5a93d1b",
    "outputId": "bd5b1f9b-14dc-4e68-b64e-def9bed8d72f"
   },
   "outputs": [
    {
     "data": {
      "text/html": [
       "\n",
       "  <div id=\"df-dd0b9d6d-50e6-47a3-b249-5c747bb65122\">\n",
       "    <div class=\"colab-df-container\">\n",
       "      <div>\n",
       "<style scoped>\n",
       "    .dataframe tbody tr th:only-of-type {\n",
       "        vertical-align: middle;\n",
       "    }\n",
       "\n",
       "    .dataframe tbody tr th {\n",
       "        vertical-align: top;\n",
       "    }\n",
       "\n",
       "    .dataframe thead th {\n",
       "        text-align: right;\n",
       "    }\n",
       "</style>\n",
       "<table border=\"1\" class=\"dataframe\">\n",
       "  <thead>\n",
       "    <tr style=\"text-align: right;\">\n",
       "      <th></th>\n",
       "      <th>work_year</th>\n",
       "      <th>experience_level</th>\n",
       "      <th>employment_type</th>\n",
       "      <th>job_title</th>\n",
       "      <th>salary</th>\n",
       "      <th>salary_currency</th>\n",
       "      <th>salary_in_usd</th>\n",
       "      <th>employee_residence</th>\n",
       "      <th>remote_ratio</th>\n",
       "      <th>company_location</th>\n",
       "      <th>company_size</th>\n",
       "    </tr>\n",
       "  </thead>\n",
       "  <tbody>\n",
       "    <tr>\n",
       "      <th>0</th>\n",
       "      <td>2023</td>\n",
       "      <td>MI</td>\n",
       "      <td>FT</td>\n",
       "      <td>AWS Data Architect</td>\n",
       "      <td>258000</td>\n",
       "      <td>USD</td>\n",
       "      <td>258000</td>\n",
       "      <td>US</td>\n",
       "      <td>100</td>\n",
       "      <td>US</td>\n",
       "      <td>L</td>\n",
       "    </tr>\n",
       "    <tr>\n",
       "      <th>1</th>\n",
       "      <td>2023</td>\n",
       "      <td>SE</td>\n",
       "      <td>FT</td>\n",
       "      <td>Data Scientist</td>\n",
       "      <td>225000</td>\n",
       "      <td>USD</td>\n",
       "      <td>225000</td>\n",
       "      <td>US</td>\n",
       "      <td>0</td>\n",
       "      <td>US</td>\n",
       "      <td>M</td>\n",
       "    </tr>\n",
       "    <tr>\n",
       "      <th>2</th>\n",
       "      <td>2023</td>\n",
       "      <td>SE</td>\n",
       "      <td>FT</td>\n",
       "      <td>Data Scientist</td>\n",
       "      <td>156400</td>\n",
       "      <td>USD</td>\n",
       "      <td>156400</td>\n",
       "      <td>US</td>\n",
       "      <td>0</td>\n",
       "      <td>US</td>\n",
       "      <td>M</td>\n",
       "    </tr>\n",
       "    <tr>\n",
       "      <th>3</th>\n",
       "      <td>2023</td>\n",
       "      <td>SE</td>\n",
       "      <td>FT</td>\n",
       "      <td>Data Engineer</td>\n",
       "      <td>190000</td>\n",
       "      <td>USD</td>\n",
       "      <td>190000</td>\n",
       "      <td>US</td>\n",
       "      <td>100</td>\n",
       "      <td>US</td>\n",
       "      <td>M</td>\n",
       "    </tr>\n",
       "    <tr>\n",
       "      <th>4</th>\n",
       "      <td>2023</td>\n",
       "      <td>SE</td>\n",
       "      <td>FT</td>\n",
       "      <td>Data Engineer</td>\n",
       "      <td>150000</td>\n",
       "      <td>USD</td>\n",
       "      <td>150000</td>\n",
       "      <td>US</td>\n",
       "      <td>100</td>\n",
       "      <td>US</td>\n",
       "      <td>M</td>\n",
       "    </tr>\n",
       "  </tbody>\n",
       "</table>\n",
       "</div>\n",
       "      <button class=\"colab-df-convert\" onclick=\"convertToInteractive('df-dd0b9d6d-50e6-47a3-b249-5c747bb65122')\"\n",
       "              title=\"Convert this dataframe to an interactive table.\"\n",
       "              style=\"display:none;\">\n",
       "        \n",
       "  <svg xmlns=\"http://www.w3.org/2000/svg\" height=\"24px\"viewBox=\"0 0 24 24\"\n",
       "       width=\"24px\">\n",
       "    <path d=\"M0 0h24v24H0V0z\" fill=\"none\"/>\n",
       "    <path d=\"M18.56 5.44l.94 2.06.94-2.06 2.06-.94-2.06-.94-.94-2.06-.94 2.06-2.06.94zm-11 1L8.5 8.5l.94-2.06 2.06-.94-2.06-.94L8.5 2.5l-.94 2.06-2.06.94zm10 10l.94 2.06.94-2.06 2.06-.94-2.06-.94-.94-2.06-.94 2.06-2.06.94z\"/><path d=\"M17.41 7.96l-1.37-1.37c-.4-.4-.92-.59-1.43-.59-.52 0-1.04.2-1.43.59L10.3 9.45l-7.72 7.72c-.78.78-.78 2.05 0 2.83L4 21.41c.39.39.9.59 1.41.59.51 0 1.02-.2 1.41-.59l7.78-7.78 2.81-2.81c.8-.78.8-2.07 0-2.86zM5.41 20L4 18.59l7.72-7.72 1.47 1.35L5.41 20z\"/>\n",
       "  </svg>\n",
       "      </button>\n",
       "      \n",
       "  <style>\n",
       "    .colab-df-container {\n",
       "      display:flex;\n",
       "      flex-wrap:wrap;\n",
       "      gap: 12px;\n",
       "    }\n",
       "\n",
       "    .colab-df-convert {\n",
       "      background-color: #E8F0FE;\n",
       "      border: none;\n",
       "      border-radius: 50%;\n",
       "      cursor: pointer;\n",
       "      display: none;\n",
       "      fill: #1967D2;\n",
       "      height: 32px;\n",
       "      padding: 0 0 0 0;\n",
       "      width: 32px;\n",
       "    }\n",
       "\n",
       "    .colab-df-convert:hover {\n",
       "      background-color: #E2EBFA;\n",
       "      box-shadow: 0px 1px 2px rgba(60, 64, 67, 0.3), 0px 1px 3px 1px rgba(60, 64, 67, 0.15);\n",
       "      fill: #174EA6;\n",
       "    }\n",
       "\n",
       "    [theme=dark] .colab-df-convert {\n",
       "      background-color: #3B4455;\n",
       "      fill: #D2E3FC;\n",
       "    }\n",
       "\n",
       "    [theme=dark] .colab-df-convert:hover {\n",
       "      background-color: #434B5C;\n",
       "      box-shadow: 0px 1px 3px 1px rgba(0, 0, 0, 0.15);\n",
       "      filter: drop-shadow(0px 1px 2px rgba(0, 0, 0, 0.3));\n",
       "      fill: #FFFFFF;\n",
       "    }\n",
       "  </style>\n",
       "\n",
       "      <script>\n",
       "        const buttonEl =\n",
       "          document.querySelector('#df-dd0b9d6d-50e6-47a3-b249-5c747bb65122 button.colab-df-convert');\n",
       "        buttonEl.style.display =\n",
       "          google.colab.kernel.accessAllowed ? 'block' : 'none';\n",
       "\n",
       "        async function convertToInteractive(key) {\n",
       "          const element = document.querySelector('#df-dd0b9d6d-50e6-47a3-b249-5c747bb65122');\n",
       "          const dataTable =\n",
       "            await google.colab.kernel.invokeFunction('convertToInteractive',\n",
       "                                                     [key], {});\n",
       "          if (!dataTable) return;\n",
       "\n",
       "          const docLinkHtml = 'Like what you see? Visit the ' +\n",
       "            '<a target=\"_blank\" href=https://colab.research.google.com/notebooks/data_table.ipynb>data table notebook</a>'\n",
       "            + ' to learn more about interactive tables.';\n",
       "          element.innerHTML = '';\n",
       "          dataTable['output_type'] = 'display_data';\n",
       "          await google.colab.output.renderOutput(dataTable, element);\n",
       "          const docLink = document.createElement('div');\n",
       "          docLink.innerHTML = docLinkHtml;\n",
       "          element.appendChild(docLink);\n",
       "        }\n",
       "      </script>\n",
       "    </div>\n",
       "  </div>\n",
       "  "
      ],
      "text/plain": [
       "   work_year experience_level employment_type           job_title  salary  \\\n",
       "0       2023               MI              FT  AWS Data Architect  258000   \n",
       "1       2023               SE              FT      Data Scientist  225000   \n",
       "2       2023               SE              FT      Data Scientist  156400   \n",
       "3       2023               SE              FT       Data Engineer  190000   \n",
       "4       2023               SE              FT       Data Engineer  150000   \n",
       "\n",
       "  salary_currency  salary_in_usd employee_residence  remote_ratio  \\\n",
       "0             USD         258000                 US           100   \n",
       "1             USD         225000                 US             0   \n",
       "2             USD         156400                 US             0   \n",
       "3             USD         190000                 US           100   \n",
       "4             USD         150000                 US           100   \n",
       "\n",
       "  company_location company_size  \n",
       "0               US            L  \n",
       "1               US            M  \n",
       "2               US            M  \n",
       "3               US            M  \n",
       "4               US            M  "
      ]
     },
     "execution_count": 3,
     "metadata": {},
     "output_type": "execute_result"
    }
   ],
   "source": [
    "# read data\n",
    "\n",
    "salaries = pd.read_csv(\"salaries.csv\")\n",
    "salaries.head()"
   ]
  },
  {
   "cell_type": "code",
   "execution_count": 4,
   "id": "20bcab51",
   "metadata": {
    "colab": {
     "base_uri": "https://localhost:8080/"
    },
    "id": "20bcab51",
    "outputId": "2ecc53b6-8ec7-435d-a65e-d03797a0777f"
   },
   "outputs": [
    {
     "data": {
      "text/plain": [
       "(4134, 11)"
      ]
     },
     "execution_count": 4,
     "metadata": {},
     "output_type": "execute_result"
    }
   ],
   "source": [
    "salaries.shape"
   ]
  },
  {
   "attachments": {},
   "cell_type": "markdown",
   "id": "dee9f53a",
   "metadata": {
    "id": "dee9f53a"
   },
   "source": [
    "#### **In this dataset, there are 4134 observations and there are 10 predictor, since we are using salary_in_usd as a response for our data analysis. The reason for this is that we want the data to be standardized across countries.**"
   ]
  },
  {
   "attachments": {},
   "cell_type": "markdown",
   "id": "371a5a4a",
   "metadata": {
    "id": "371a5a4a"
   },
   "source": [
    "### Distribution of response\n",
    "*By Christina Tzavara*"
   ]
  },
  {
   "cell_type": "code",
   "execution_count": 13,
   "id": "aec7be2d",
   "metadata": {
    "colab": {
     "base_uri": "https://localhost:8080/",
     "height": 527
    },
    "id": "aec7be2d",
    "outputId": "513bbf8a-6dd3-445a-991a-9f110ff4a382"
   },
   "outputs": [
    {
     "data": {
      "text/plain": [
       "<Figure size 1000x500 with 0 Axes>"
      ]
     },
     "metadata": {},
     "output_type": "display_data"
    },
    {
     "data": {
      "image/png": "[encoded data removed]",
      "text/plain": [
       "<Figure size 500x500 with 1 Axes>"
      ]
     },
     "metadata": {},
     "output_type": "display_data"
    }
   ],
   "source": [
    "#Plotting distribution of our response variable, salary_in_usd\n",
    "\n",
    "sns.set(style='ticks', palette='viridis')\n",
    "plt.figure(figsize=(10, 5))\n",
    "g = sns.displot(salaries['salary_in_usd'], kde=True)\n",
    "\n",
    "# Setting plot title and axis labels with larger, bold font\n",
    "g.fig.suptitle(\"Distribution of Salaries in US Dollars\", fontsize=16, fontweight='bold')\n",
    "g.set(xlabel=\"Salary (USD)\", ylabel=\"Count\")\n",
    "\n",
    "# Customizing tick parameters\n",
    "plt.xticks(fontsize=12)\n",
    "plt.yticks(fontsize=12)\n",
    "\n",
    "# Remove the right and top spines\n",
    "sns.despine(right=True, top=True)\n",
    "\n",
    "# Adjustting plot layout\n",
    "plt.tight_layout()\n",
    "plt.show()\n"
   ]
  },
  {
   "attachments": {},
   "cell_type": "markdown",
   "id": "ff6b5e83",
   "metadata": {
    "id": "ff6b5e83"
   },
   "source": [
    "### Data cleaning\n",
    "*Note: dataset is completely clean as shown below*"
   ]
  },
  {
   "cell_type": "code",
   "execution_count": 6,
   "id": "2aef5a7a",
   "metadata": {
    "colab": {
     "base_uri": "https://localhost:8080/"
    },
    "id": "2aef5a7a",
    "outputId": "65571897-a021-4838-9739-d7e8b6318a88"
   },
   "outputs": [
    {
     "name": "stdout",
     "output_type": "stream",
     "text": [
      "Missing values:\n",
      " work_year             0\n",
      "experience_level      0\n",
      "employment_type       0\n",
      "job_title             0\n",
      "salary                0\n",
      "salary_currency       0\n",
      "salary_in_usd         0\n",
      "employee_residence    0\n",
      "remote_ratio          0\n",
      "company_location      0\n",
      "company_size          0\n",
      "dtype: int64\n"
     ]
    }
   ],
   "source": [
    "# Check for missing values\n",
    "missing_values = salaries.isnull().sum()\n",
    "print(\"Missing values:\\n\", missing_values)"
   ]
  },
  {
   "attachments": {},
   "cell_type": "markdown",
   "id": "424479b5",
   "metadata": {
    "id": "424479b5"
   },
   "source": [
    "### Data preparation\n",
    "*By Alex Olmeta*\n",
    "\n",
    "- We needed to bin the hundreds of job titles in 10 main categories since the names for the job positions weren't standardized.\n",
    "- Alex, add comments to your code below as per the instructions"
   ]
  },
  {
   "cell_type": "code",
   "execution_count": null,
   "id": "e2248b7f",
   "metadata": {
    "id": "e2248b7f",
    "outputId": "07b1e089-fd3a-41f2-9bd6-529ada52aaad"
   },
   "outputs": [
    {
     "data": {
      "text/plain": [
       "data_science_and_ml                  1534\n",
       "data_engineering_and_architecture    1474\n",
       "data_analysis_and_visualization       692\n",
       "data_management_and_strategy          146\n",
       "research_and_science                  133\n",
       "business_intelligence                  50\n",
       "other_data_related                     49\n",
       "computer_vision                        29\n",
       "ai_development                         16\n",
       "nlp_engineer                           11\n",
       "Name: job_title_binned, dtype: int64"
      ]
     },
     "execution_count": 15,
     "metadata": {},
     "output_type": "execute_result"
    }
   ],
   "source": [
    "salaries.job_title_binned.value_counts()"
   ]
  },
  {
   "cell_type": "code",
   "execution_count": null,
   "id": "5cc24aed",
   "metadata": {
    "id": "5cc24aed"
   },
   "outputs": [],
   "source": [
    "job_categories = {\n",
    "    'data_science_and_ml': ['Data Scientist', 'Applied Scientist', 'ML Engineer', 'Machine Learning Engineer', 'Applied Machine Learning Engineer', 'Research Engineer', 'Machine Learning Developer', 'Machine Learning Scientist', 'AI Scientist', 'Machine Learning Software Engineer', 'Principal Data Scientist', 'Machine Learning Researcher', 'Decision Scientist', 'Machine Learning Research Engineer', 'Principal Machine Learning Engineer', 'Machine Learning Manager', 'Lead Machine Learning Engineer', 'Principal Data Analyst', 'Staff Data Scientist', 'Applied Machine Learning Scientist', 'Lead Data Scientist'],\n",
    "    'data_engineering_and_architecture': ['AWS Data Architect', 'Data Engineer', 'Data Manager', 'Data Architect', 'Data Integration Specialist', 'ETL Developer', 'BI Data Analyst', 'Data Modeler', 'Cloud Data Engineer', 'Data Operations Analyst', 'ETL Engineer', 'Data DevOps Engineer', 'Data Quality Analyst', 'Big Data Engineer', 'BI Data Engineer', 'Cloud Database Engineer', 'Data Infrastructure Engineer', 'Software Data Engineer', 'Data Operations Engineer', 'Big Data Architect', 'Azure Data Engineer', 'Marketing Data Engineer', 'Data Management Specialist', 'Principal Data Architect', 'Cloud Data Architect', 'Principal Data Engineer', 'Machine Learning Infrastructure Engineer', 'MLOps Engineer', 'Analytics Engineer'],\n",
    "    'data_analysis_and_visualization': ['Data Analyst', 'Product Data Analyst', 'Data Visualization Analyst', 'Sales Data Analyst', 'BI Developer', 'Business Data Analyst', 'Lead Data Analyst', 'BI Analyst', 'Insight Analyst', 'Marketing Data Analyst', 'Data Analytics Lead'],\n",
    "    'data_management_and_strategy': ['Head of Data', 'Data Specialist', 'Director of Data Science', 'Data Science Manager', 'Data Science Lead', 'Data Strategist', 'Data Analytics Manager', 'Manager Data Management', 'Data Management Specialist'],\n",
    "    'ai_development': ['Autonomous Vehicle Operations Lead', 'Autonomous Vehicle Technician', 'AI Developer', 'AI Programmer'],\n",
    "    'computer_vision': ['Computer Vision Engineer', 'Computer Vision Software Engineer', '3D Computer Vision Researcher'],\n",
    "    'nlp_engineer': ['NLP Engineer'],\n",
    "    'business_intelligence': ['Business Intelligence Engineer', 'BI Data Analyst', 'BI Developer', 'BI Data Engineer', 'BI Analyst', 'Power BI Developer'],\n",
    "    'research_and_science': ['Research Scientist', 'Applied Data Scientist', 'Data Science Consultant', 'Deep Learning Researcher', 'Deep Learning Engineer'],\n",
    "    'other_data_related': ['Finance Data Analyst', 'Compliance Data Analyst', 'Data Science Tech Lead', 'Marketing Data Scientist', 'Product Data Scientist', 'Staff Data Analyst', 'Data Analytics Specialist', 'Data Analytics Engineer', 'Data Analytics Consultant', 'Data Management Specialist', 'Head of Data Science', 'Data Lead', 'Data Science Engineer', 'Insight Analyst', 'Data Science Engineer', 'Data Analytics Engineer', 'Data Analytics Consultant', 'Data Management Specialist', 'Data Scientist Lead', 'Principal Data Architect', 'Lead Data Engineer', 'Head of Machine Learning', 'Staff Data Scientist', 'Financial Data Analyst']\n",
    "}"
   ]
  },
  {
   "cell_type": "code",
   "execution_count": null,
   "id": "acaa9ace",
   "metadata": {
    "id": "acaa9ace",
    "outputId": "0b5a8a0a-9adb-4611-9ebd-2e87dcede23e"
   },
   "outputs": [
    {
     "data": {
      "text/plain": [
       "[]"
      ]
     },
     "execution_count": 12,
     "metadata": {},
     "output_type": "execute_result"
    }
   ],
   "source": [
    "# check to make sure all jobs fall in a category\n",
    "\n",
    "not_cat = []\n",
    "for i in range(len(salaries.job_title)):\n",
    "    title = salaries.job_title[i]\n",
    "    categorized = False\n",
    "    for key in job_categories.keys():\n",
    "        cat = job_categories[key]\n",
    "        if title in cat:\n",
    "            categorized = True\n",
    "    if not categorized:\n",
    "        not_cat.append(title)\n",
    "\n",
    "list(set(not_cat))"
   ]
  },
  {
   "cell_type": "code",
   "execution_count": null,
   "id": "45f11835",
   "metadata": {
    "id": "45f11835"
   },
   "outputs": [],
   "source": [
    "# bin jobs based on category\n",
    "\n",
    "binned_jobs = [None] * len(salaries.job_title)\n",
    "for i in range(len(salaries.job_title)):\n",
    "    title = salaries.job_title[i]\n",
    "    categorized = False\n",
    "    for key in job_categories.keys():\n",
    "        cat = job_categories[key]\n",
    "        if title in cat:\n",
    "            binned_jobs[i] = key\n",
    "\n",
    "\n",
    "salaries['job_title_binned'] = binned_jobs"
   ]
  },
  {
   "cell_type": "code",
   "execution_count": null,
   "id": "87009ef1",
   "metadata": {
    "id": "87009ef1",
    "outputId": "253ceaad-6671-4bbf-84c6-1e8a9d5cd28c"
   },
   "outputs": [
    {
     "data": {
      "text/plain": [
       "10"
      ]
     },
     "execution_count": 14,
     "metadata": {},
     "output_type": "execute_result"
    }
   ],
   "source": [
    "len(salaries.job_title_binned.unique())"
   ]
  },
  {
   "cell_type": "code",
   "execution_count": null,
   "id": "f9fc8100",
   "metadata": {
    "id": "f9fc8100"
   },
   "outputs": [],
   "source": [
    "salaries.to_csv('binned_jobs.csv', index=False) "
   ]
  },
  {
   "attachments": {},
   "cell_type": "markdown",
   "id": "fbb11c9b",
   "metadata": {
    "id": "fbb11c9b"
   },
   "source": [
    "## Exploratory data analysis\n",
    "*By Christina Tzavara*"
   ]
  },
  {
   "cell_type": "code",
   "execution_count": 4,
   "id": "edbd2d10",
   "metadata": {
    "colab": {
     "base_uri": "https://localhost:8080/",
     "height": 270
    },
    "id": "edbd2d10",
    "outputId": "9682390f-9dd4-4bdf-ca81-d3bfd560c4af"
   },
   "outputs": [
    {
     "data": {
      "text/html": [
       "<div>\n",
       "<style scoped>\n",
       "    .dataframe tbody tr th:only-of-type {\n",
       "        vertical-align: middle;\n",
       "    }\n",
       "\n",
       "    .dataframe tbody tr th {\n",
       "        vertical-align: top;\n",
       "    }\n",
       "\n",
       "    .dataframe thead th {\n",
       "        text-align: right;\n",
       "    }\n",
       "</style>\n",
       "<table border=\"1\" class=\"dataframe\">\n",
       "  <thead>\n",
       "    <tr style=\"text-align: right;\">\n",
       "      <th></th>\n",
       "      <th>work_year</th>\n",
       "      <th>experience_level</th>\n",
       "      <th>employment_type</th>\n",
       "      <th>salary_currency</th>\n",
       "      <th>salary_in_usd</th>\n",
       "      <th>employee_residence</th>\n",
       "      <th>remote_ratio</th>\n",
       "      <th>company_location</th>\n",
       "      <th>company_size</th>\n",
       "      <th>job_title_binned</th>\n",
       "    </tr>\n",
       "  </thead>\n",
       "  <tbody>\n",
       "    <tr>\n",
       "      <th>0</th>\n",
       "      <td>2023</td>\n",
       "      <td>MI</td>\n",
       "      <td>FT</td>\n",
       "      <td>USD</td>\n",
       "      <td>258000</td>\n",
       "      <td>US</td>\n",
       "      <td>100</td>\n",
       "      <td>US</td>\n",
       "      <td>L</td>\n",
       "      <td>data_engineering_and_architecture</td>\n",
       "    </tr>\n",
       "    <tr>\n",
       "      <th>1</th>\n",
       "      <td>2023</td>\n",
       "      <td>SE</td>\n",
       "      <td>FT</td>\n",
       "      <td>USD</td>\n",
       "      <td>225000</td>\n",
       "      <td>US</td>\n",
       "      <td>0</td>\n",
       "      <td>US</td>\n",
       "      <td>M</td>\n",
       "      <td>data_science_and_ml</td>\n",
       "    </tr>\n",
       "    <tr>\n",
       "      <th>2</th>\n",
       "      <td>2023</td>\n",
       "      <td>SE</td>\n",
       "      <td>FT</td>\n",
       "      <td>USD</td>\n",
       "      <td>156400</td>\n",
       "      <td>US</td>\n",
       "      <td>0</td>\n",
       "      <td>US</td>\n",
       "      <td>M</td>\n",
       "      <td>data_science_and_ml</td>\n",
       "    </tr>\n",
       "    <tr>\n",
       "      <th>3</th>\n",
       "      <td>2023</td>\n",
       "      <td>SE</td>\n",
       "      <td>FT</td>\n",
       "      <td>USD</td>\n",
       "      <td>190000</td>\n",
       "      <td>US</td>\n",
       "      <td>100</td>\n",
       "      <td>US</td>\n",
       "      <td>M</td>\n",
       "      <td>data_engineering_and_architecture</td>\n",
       "    </tr>\n",
       "    <tr>\n",
       "      <th>4</th>\n",
       "      <td>2023</td>\n",
       "      <td>SE</td>\n",
       "      <td>FT</td>\n",
       "      <td>USD</td>\n",
       "      <td>150000</td>\n",
       "      <td>US</td>\n",
       "      <td>100</td>\n",
       "      <td>US</td>\n",
       "      <td>M</td>\n",
       "      <td>data_engineering_and_architecture</td>\n",
       "    </tr>\n",
       "  </tbody>\n",
       "</table>\n",
       "</div>"
      ],
      "text/plain": [
       "   work_year experience_level employment_type salary_currency  salary_in_usd  \\\n",
       "0       2023               MI              FT             USD         258000   \n",
       "1       2023               SE              FT             USD         225000   \n",
       "2       2023               SE              FT             USD         156400   \n",
       "3       2023               SE              FT             USD         190000   \n",
       "4       2023               SE              FT             USD         150000   \n",
       "\n",
       "  employee_residence  remote_ratio company_location company_size  \\\n",
       "0                 US           100               US            L   \n",
       "1                 US             0               US            M   \n",
       "2                 US             0               US            M   \n",
       "3                 US           100               US            M   \n",
       "4                 US           100               US            M   \n",
       "\n",
       "                    job_title_binned  \n",
       "0  data_engineering_and_architecture  \n",
       "1                data_science_and_ml  \n",
       "2                data_science_and_ml  \n",
       "3  data_engineering_and_architecture  \n",
       "4  data_engineering_and_architecture  "
      ]
     },
     "execution_count": 4,
     "metadata": {},
     "output_type": "execute_result"
    }
   ],
   "source": [
    "binned_jobs = pd.read_csv(\"binned_jobs.csv\")\n",
    "binned_jobs =  binned_jobs.drop('job_title', axis = 1)\n",
    "binned_jobs =  binned_jobs.drop('salary', axis = 1)\n",
    "#check updated dataset with new column job_title_binned\n",
    "binned_jobs.head()"
   ]
  },
  {
   "cell_type": "code",
   "execution_count": null,
   "id": "4dc826ff",
   "metadata": {
    "id": "4dc826ff",
    "outputId": "792c1047-074d-44e6-cca2-d9dbb95561b8"
   },
   "outputs": [
    {
     "name": "stdout",
     "output_type": "stream",
     "text": [
      "Summary Statistics for 'salary_in_usd':\n",
      "╒═════════════╤══════════╕\n",
      "│ Statistic   │    Value │\n",
      "╞═════════════╪══════════╡\n",
      "│ count       │   4134   │\n",
      "├─────────────┼──────────┤\n",
      "│ mean        │ 139416   │\n",
      "├─────────────┼──────────┤\n",
      "│ std         │  63605.5 │\n",
      "├─────────────┼──────────┤\n",
      "│ min         │   5132   │\n",
      "├─────────────┼──────────┤\n",
      "│ 25%         │  96817   │\n",
      "├─────────────┼──────────┤\n",
      "│ 50%         │ 136000   │\n",
      "├─────────────┼──────────┤\n",
      "│ 75%         │ 179820   │\n",
      "├─────────────┼──────────┤\n",
      "│ max         │ 450000   │\n",
      "╘═════════════╧══════════╛\n"
     ]
    }
   ],
   "source": [
    "import pandas as pd\n",
    "from tabulate import tabulate\n",
    "\n",
    "# Compute summary statistics for 'salary_in_usd'\n",
    "salary_stats = salaries['salary_in_usd'].describe().reset_index()\n",
    "salary_stats.columns = ['Statistic', 'Value']\n",
    "\n",
    "# Convert the summary statistics to a table\n",
    "salary_table = tabulate(salary_stats, headers='keys', tablefmt='fancy_grid', showindex=False)\n",
    "print(\"Summary Statistics for 'salary_in_usd':\")\n",
    "print(salary_table)\n"
   ]
  },
  {
   "attachments": {},
   "cell_type": "markdown",
   "id": "rVkmXqENpoi9",
   "metadata": {
    "id": "rVkmXqENpoi9"
   },
   "source": [
    "#### **Looking at the average values for our repsonse per job title:**"
   ]
  },
  {
   "cell_type": "code",
   "execution_count": 12,
   "id": "a9c823ec",
   "metadata": {
    "colab": {
     "base_uri": "https://localhost:8080/",
     "height": 501
    },
    "id": "a9c823ec",
    "outputId": "96adc8cf-92c1-435e-8aa7-881deb9453c8"
   },
   "outputs": [
    {
     "data": {
      "image/png": "[encoded data removed]",
      "text/plain": [
       "<Figure size 1000x500 with 1 Axes>"
      ]
     },
     "metadata": {},
     "output_type": "display_data"
    }
   ],
   "source": [
    "\n",
    "# Group the data by job title and calculate the average salary\n",
    "average_salary_by_title = binned_jobs.groupby('job_title_binned')['salary_in_usd'].mean().sort_values(ascending=False)\n",
    "\n",
    "# Create a bar plot with each job title having its own color\n",
    "plt.figure(figsize=(10, 5))\n",
    "\n",
    "# Generate a color map with a unique color for each job title\n",
    "color_map = plt.get_cmap('tab20', len(average_salary_by_title))\n",
    "\n",
    "# Get the list of job titles and corresponding average salaries\n",
    "job_titles = average_salary_by_title.index\n",
    "average_salaries = average_salary_by_title.values\n",
    "\n",
    "# Plot each bar with a unique color\n",
    "for i in range(len(job_titles)):\n",
    "    plt.barh(job_titles[i], average_salaries[i], color=color_map(i))\n",
    "\n",
    "plt.xlabel('Average Salary (USD)')\n",
    "plt.ylabel('Job Title')\n",
    "\n",
    "# Customize the title\n",
    "plt.title('Average Salaries by Job Title', fontweight='bold', fontsize=16)\n",
    "\n",
    "# Adjust the layout\n",
    "plt.tight_layout()\n",
    "\n",
    "# Display the plot\n",
    "plt.show()\n"
   ]
  },
  {
   "attachments": {},
   "cell_type": "markdown",
   "id": "acab331a",
   "metadata": {
    "id": "acab331a"
   },
   "source": [
    "## Developing the model: Hyperparameter tuning"
   ]
  },
  {
   "attachments": {},
   "cell_type": "markdown",
   "id": "21bc9dcc",
   "metadata": {
    "id": "21bc9dcc"
   },
   "source": [
    "### MARS \n",
    "*By Christina Tzavara*"
   ]
  },
  {
   "attachments": {},
   "cell_type": "markdown",
   "id": "cb68672e",
   "metadata": {},
   "source": [
    "### First, running a general baseline model:"
   ]
  },
  {
   "cell_type": "code",
   "execution_count": 5,
   "id": "2d65f3db",
   "metadata": {
    "id": "2d65f3db"
   },
   "outputs": [],
   "source": [
    "binned_jobs_encoded = pd.get_dummies(binned_jobs, drop_first=True)\n",
    "X = binned_jobs_encoded.drop('salary_in_usd',axis=1)\n",
    "y = binned_jobs_encoded['salary_in_usd']\n",
    "\n",
    "# Split the data into train and test sets\n",
    "X_train, X_test, y_train, y_test = train_test_split(X, y, test_size=0.2, random_state=45)\n",
    "\n",
    "# Create a baseline linear regression model\n",
    "baseline_model = LinearRegression()\n",
    "\n",
    "# Fit the model on the training data\n",
    "baseline_model.fit(X_train, y_train)\n",
    "\n",
    "# Predict on the test data\n",
    "y_pred = baseline_model.predict(X_test)\n"
   ]
  },
  {
   "cell_type": "code",
   "execution_count": 10,
   "id": "91906f65",
   "metadata": {},
   "outputs": [
    {
     "name": "stdout",
     "output_type": "stream",
     "text": [
      "Mean Absolute Error: $ 280696947960.07605\n"
     ]
    }
   ],
   "source": [
    "# Calculate the mean absolute error (MAE)\n",
    "mae = mean_absolute_error(y_test, y_pred)\n",
    "print(\"Mean Absolute Error: $\", mae)"
   ]
  },
  {
   "attachments": {},
   "cell_type": "markdown",
   "id": "1f3d66dd",
   "metadata": {},
   "source": [
    "### Developing MARS initial model by finding max_degree that minimizes MAE:"
   ]
  },
  {
   "cell_type": "code",
   "execution_count": null,
   "id": "27dbc934",
   "metadata": {
    "id": "27dbc934",
    "outputId": "7222844f-4da3-46d0-95ec-2396ae3234ee"
   },
   "outputs": [
    {
     "name": "stdout",
     "output_type": "stream",
     "text": [
      "Best Model max_degree:  1\n",
      "MAE:  37315.428132284724\n"
     ]
    }
   ],
   "source": [
    "from sklearn.model_selection import GridSearchCV\n",
    "from pyearth import Earth\n",
    "\n",
    "# Define the parameter grid\n",
    "param_grid = {\n",
    "    'max_degree': [1, 2, 3, 4, 5]  # Vary the max_degree values as needed\n",
    "}\n",
    "\n",
    "\n",
    "mars = Earth()\n",
    "#MAE as the scoring metric\n",
    "grid_search = GridSearchCV(mars, param_grid, scoring='neg_mean_absolute_error', cv=3)\n",
    "\n",
    "# Fit the grid search on the training data\n",
    "grid_search.fit(X_train, y_train)\n",
    "\n",
    "# Get the best model max_degree and MAE\n",
    "print(\"Best Model max_degree: \", grid_search.best_params_['max_degree'])\n",
    "print(\"MAE: \", -grid_search.best_score_)  # Convert negative score back to positive\n"
   ]
  },
  {
   "attachments": {},
   "cell_type": "markdown",
   "id": "c7443fff",
   "metadata": {},
   "source": [
    "### Visualizing max_degree - MAE trade-off:"
   ]
  },
  {
   "cell_type": "code",
   "execution_count": null,
   "id": "dfc3c3c6",
   "metadata": {
    "id": "dfc3c3c6",
    "outputId": "0b4c9b7f-d33d-46f5-a9dc-84432e97279f",
    "scrolled": true
   },
   "outputs": [
    {
     "data": {
      "image/png": "[encoded data removed]",
      "text/plain": [
       "<Figure size 432x288 with 1 Axes>"
      ]
     },
     "metadata": {
      "needs_background": "light"
     },
     "output_type": "display_data"
    }
   ],
   "source": [
    "import matplotlib.pyplot as plt\n",
    "\n",
    "# Get the max_degree values and corresponding mean_test_score\n",
    "max_degrees = grid_search.cv_results_['param_max_degree'].data.astype(int)\n",
    "mae_scores = -grid_search.cv_results_['mean_test_score']\n",
    "\n",
    "# Plot \n",
    "plt.plot(max_degrees, mae_scores, marker='o')\n",
    "plt.xlabel('max_degree')\n",
    "plt.ylabel('MAE')\n",
    "plt.title('Grid Search Results')\n",
    "plt.grid(True)\n",
    "plt.show()\n"
   ]
  },
  {
   "attachments": {},
   "cell_type": "markdown",
   "id": "44bb1e2d",
   "metadata": {},
   "source": [
    "### Second MARS model after silmutaneous tuning of max_terms & max_degree:"
   ]
  },
  {
   "cell_type": "code",
   "execution_count": null,
   "id": "3861e859",
   "metadata": {},
   "outputs": [],
   "source": [
    "# Finer search for degree + silmutaneous tuning for max terms\n",
    "\n",
    "#Define the parameter grid\n",
    "param_grid = {\n",
    "    'max_terms': [50,100, 200],  # Vary the max_terms values as needed\n",
    "    'max_degree': [1, 2, 3]  # Vary the degree values as needed\n",
    "}\n",
    "\n",
    "mars = Earth()\n",
    "\n",
    "#MAE as the scoring metric\n",
    "grid_search = GridSearchCV(mars, param_grid, scoring='neg_mean_absolute_error', cv=3)\n",
    "\n",
    "# Fit the grid search on the training data\n",
    "grid_search.fit(X_train, y_train)"
   ]
  },
  {
   "cell_type": "code",
   "execution_count": null,
   "id": "4dddaf64",
   "metadata": {
    "id": "4dddaf64",
    "outputId": "466e4771-5e21-4130-fafd-b41f0635542c"
   },
   "outputs": [
    {
     "data": {
      "text/plain": [
       "{'max_degree': 1, 'max_terms': 50}"
      ]
     },
     "execution_count": 55,
     "metadata": {},
     "output_type": "execute_result"
    }
   ],
   "source": [
    "grid_search.best_params_"
   ]
  },
  {
   "attachments": {},
   "cell_type": "markdown",
   "id": "81976d61",
   "metadata": {},
   "source": [
    "### Visualizing max_terms vs MAE:"
   ]
  },
  {
   "cell_type": "code",
   "execution_count": null,
   "id": "cc27a2d7",
   "metadata": {
    "id": "cc27a2d7",
    "outputId": "0da1b601-930a-429d-f36a-398517ba896d",
    "scrolled": true
   },
   "outputs": [
    {
     "data": {
      "image/png": "[encoded data removed]",
      "text/plain": [
       "<Figure size 432x288 with 1 Axes>"
      ]
     },
     "metadata": {
      "needs_background": "light"
     },
     "output_type": "display_data"
    }
   ],
   "source": [
    "# Get the max_degree values and corresponding mean_test_score\n",
    "max_degrees = grid_search.cv_results_['param_max_terms'].data.astype(int)\n",
    "mae_scores = -grid_search.cv_results_['mean_test_score']\n",
    "\n",
    "# Plot\n",
    "plt.plot(max_degrees, mae_scores, marker='o')\n",
    "plt.xlabel('max_terms')\n",
    "plt.ylabel('MAE')\n",
    "plt.title('Grid Search Results')\n",
    "plt.grid(True)\n",
    "plt.show()\n"
   ]
  },
  {
   "attachments": {},
   "cell_type": "markdown",
   "id": "180b6b23",
   "metadata": {},
   "source": [
    "### Final optimized model MAE:"
   ]
  },
  {
   "cell_type": "code",
   "execution_count": null,
   "id": "6b293de4",
   "metadata": {
    "id": "6b293de4",
    "outputId": "95481c38-efb0-4074-d5e5-eefa53b502e9"
   },
   "outputs": [
    {
     "name": "stdout",
     "output_type": "stream",
     "text": [
      "Mean Absolute Error: $ 36813.0367444063\n"
     ]
    }
   ],
   "source": [
    "model3 = Earth(max_terms = 50, max_degree=1) # note, terms in brackets are the hyperparameters \n",
    "model3.fit(X_train,y_train)\n",
    "\n",
    "# Predict on the test data using the best model\n",
    "y_pred = model3.predict(X_test)\n",
    "\n",
    "# Calculate the mean absolute error (MAE)\n",
    "mae = mean_absolute_error(y_test, y_pred)\n",
    "\n",
    "# Print the mean absolute error\n",
    "print(\"Mean Absolute Error: $\", mae)\n"
   ]
  },
  {
   "attachments": {},
   "cell_type": "markdown",
   "id": "32631c7c",
   "metadata": {},
   "source": [
    "# Decision Trees with Cost Complexity Pruning\n",
    "*By Sarah Abdulwahid*"
   ]
  },
  {
   "attachments": {},
   "cell_type": "markdown",
   "id": "2c6648d4",
   "metadata": {},
   "source": [
    "### 1) Untuned & Unpruned Decision Tree Regressor Model"
   ]
  },
  {
   "cell_type": "code",
   "execution_count": 31,
   "id": "933263b8",
   "metadata": {},
   "outputs": [
    {
     "data": {
      "text/plain": [
       "37495.05557190754"
      ]
     },
     "execution_count": 31,
     "metadata": {},
     "output_type": "execute_result"
    }
   ],
   "source": [
    "model = DecisionTreeRegressor(random_state=0) \n",
    "model.fit(X_train, y_train)\n",
    "mean_absolute_error(model.predict(X_test), y_test)"
   ]
  },
  {
   "attachments": {},
   "cell_type": "markdown",
   "id": "85ccd6b5",
   "metadata": {},
   "source": [
    "### 2) Getting max depth and max leaf nodes for ranges in GridSearch to tune these hyperparameters."
   ]
  },
  {
   "cell_type": "code",
   "execution_count": 32,
   "id": "85f0982a",
   "metadata": {},
   "outputs": [
    {
     "name": "stdout",
     "output_type": "stream",
     "text": [
      "Maximum tree depth = 44\n",
      "Maximum leaves = 632\n"
     ]
    }
   ],
   "source": [
    "print(\"Maximum tree depth =\", model.get_depth())\n",
    "print(\"Maximum leaves =\", model.get_n_leaves())"
   ]
  },
  {
   "cell_type": "code",
   "execution_count": 33,
   "id": "d2ed841a",
   "metadata": {},
   "outputs": [
    {
     "name": "stdout",
     "output_type": "stream",
     "text": [
      "Fitting 5 folds for each of 1323 candidates, totalling 6615 fits\n",
      "-37326.32686683002 {'max_depth': 6, 'max_leaf_nodes': 42}\n"
     ]
    }
   ],
   "source": [
    "# Coarse grid-search \n",
    "parameters = {'max_depth':range(2,44, 2),\n",
    "              'max_leaf_nodes':range(2,632, 10)}\n",
    "\n",
    "cv = KFold(n_splits = 5,shuffle=True,random_state=1)\n",
    "model = GridSearchCV(DecisionTreeRegressor(random_state=1), parameters, n_jobs=-1,verbose=1,cv=cv, \n",
    "                    scoring='neg_mean_absolute_error')\n",
    "\n",
    "model.fit(X_train, y_train)\n",
    "print (model.best_score_, model.best_params_) "
   ]
  },
  {
   "attachments": {},
   "cell_type": "markdown",
   "id": "3f74ce4c",
   "metadata": {},
   "source": [
    "### 3) Plotting results of 5-fold cross validation to narrow range for finer grid search"
   ]
  },
  {
   "cell_type": "code",
   "execution_count": 34,
   "id": "0d1a9a23",
   "metadata": {},
   "outputs": [
    {
     "data": {
      "image/png": "[encoded data removed]",
      "text/plain": [
       "<Figure size 1152x864 with 4 Axes>"
      ]
     },
     "metadata": {
      "needs_background": "light"
     },
     "output_type": "display_data"
    }
   ],
   "source": [
    "# Detailed results of k-fold cross validation\n",
    "cv_results = pd.DataFrame(model.cv_results_)\n",
    "\n",
    "# Create the figure and axes with adjusted size\n",
    "fig, axes = plt.subplots(2, 2, figsize=(16, 12))\n",
    "plt.subplots_adjust(wspace=0.2, hspace=0.3)\n",
    "\n",
    "# Plot Tree Depth vs. K-Fold MAE\n",
    "axes[0, 0].plot(cv_results.param_max_depth, -cv_results.mean_test_score, 'o')\n",
    "axes[0, 0].set_xlabel('Tree Depth')\n",
    "axes[0, 0].set_ylabel('K-Fold MAE')\n",
    "axes[0, 0].set_title('Tree Depth vs. K-Fold MAE')\n",
    "\n",
    "# Plot Number of Leaves vs. K-Fold MAE\n",
    "axes[0, 1].plot(cv_results.param_max_leaf_nodes, -cv_results.mean_test_score, 'o')\n",
    "axes[0, 1].set_xlabel('Number of Leaves')\n",
    "axes[0, 1].set_ylabel('K-Fold MAE')\n",
    "axes[0, 1].set_title('Number of Leaves vs. K-Fold MAE')\n",
    "# Adjust the size of the plots on the screen\n",
    "plt.tight_layout()\n",
    "\n",
    "# Display the plots\n",
    "plt.show()\n"
   ]
  },
  {
   "cell_type": "code",
   "execution_count": 53,
   "id": "d544f7e6",
   "metadata": {},
   "outputs": [
    {
     "name": "stdout",
     "output_type": "stream",
     "text": [
      "Fitting 5 folds for each of 240 candidates, totalling 1200 fits\n",
      "-37326.32686683002 {'max_depth': 6, 'max_leaf_nodes': 42}\n"
     ]
    }
   ],
   "source": [
    "# Finer grid search\n",
    "parameters = {'max_depth':range(4,10, 1),\n",
    "              'max_leaf_nodes':range(2,200, 5)}\n",
    "cv = KFold(n_splits = 5,shuffle=True,random_state=1)\n",
    "model = GridSearchCV(DecisionTreeRegressor(random_state=1), parameters, n_jobs=-1,verbose=1,cv=cv, \n",
    "                    scoring='neg_mean_absolute_error')\n",
    "model.fit(X_train, y_train)\n",
    "print (model.best_score_, model.best_params_) "
   ]
  },
  {
   "attachments": {},
   "cell_type": "markdown",
   "id": "58082d73",
   "metadata": {},
   "source": [
    "### 4) Fit a new Decision Tree Regressor with tuned hyperparameters"
   ]
  },
  {
   "cell_type": "code",
   "execution_count": 54,
   "id": "cd5e536a",
   "metadata": {},
   "outputs": [
    {
     "data": {
      "text/plain": [
       "36561.470960578925"
      ]
     },
     "execution_count": 54,
     "metadata": {},
     "output_type": "execute_result"
    }
   ],
   "source": [
    "model = DecisionTreeRegressor(random_state=1, max_depth=6, max_leaf_nodes=40).fit(X_train, y_train)\n",
    "mean_absolute_error(model.predict(X_test), y_test)"
   ]
  },
  {
   "attachments": {},
   "cell_type": "markdown",
   "id": "e3790cb7",
   "metadata": {},
   "source": [
    "### 5) Cost-Complexity Pruning: use cost_complexity_pruning_path to find a range of alpha values to consider for tuning process"
   ]
  },
  {
   "cell_type": "code",
   "execution_count": 59,
   "id": "2a2502e8",
   "metadata": {},
   "outputs": [],
   "source": [
    "model = DecisionTreeRegressor(random_state = 1)#model without any restrictions\n",
    "path= model.cost_complexity_pruning_path(X_train,y_train)# Compute the pruning path during Minimal Cost-Complexity Pruning.\n",
    "alphas=path['ccp_alphas']"
   ]
  },
  {
   "attachments": {},
   "cell_type": "markdown",
   "id": "3f9ed1c2",
   "metadata": {},
   "source": [
    "### 6) Perform 5-fold CV to find the optimal alpha that minimizes MAE"
   ]
  },
  {
   "cell_type": "code",
   "execution_count": 45,
   "id": "294fc2cc",
   "metadata": {},
   "outputs": [
    {
     "name": "stdout",
     "output_type": "stream",
     "text": [
      "Fitting 5 folds for each of 505 candidates, totalling 2525 fits\n",
      "-37385.459996302816 {'ccp_alpha': 8824077.621291757}\n",
      "Time taken = 0 minutes\n"
     ]
    }
   ],
   "source": [
    "cv = KFold(n_splits = 5,shuffle=True,random_state=1)\n",
    "tree = GridSearchCV(DecisionTreeRegressor(random_state=1), param_grid = {'ccp_alpha':alphas}, \n",
    "                     scoring = 'neg_mean_absolute_error',n_jobs=-1,verbose=1,cv=cv)\n",
    "tree.fit(X, y)\n",
    "print (tree.best_score_, tree.best_params_)\n",
    "print(\"Time taken =\",round((tm.time()-start_time)/60), \"minutes\")"
   ]
  },
  {
   "attachments": {},
   "cell_type": "markdown",
   "id": "fb577f8b",
   "metadata": {},
   "source": [
    "### 7) Use this alpha to fit a new Decision Tree Regressor and get optimized model MAE"
   ]
  },
  {
   "cell_type": "code",
   "execution_count": 46,
   "id": "3dab4c98",
   "metadata": {},
   "outputs": [
    {
     "data": {
      "text/plain": [
       "36258.07866139093"
      ]
     },
     "execution_count": 46,
     "metadata": {},
     "output_type": "execute_result"
    }
   ],
   "source": [
    "model = DecisionTreeRegressor(ccp_alpha=8824077.621291757,random_state=1)\n",
    "model.fit(X, y)\n",
    "pred = model.predict(X_test)\n",
    "mean_absolute_error(y_test, pred)"
   ]
  },
  {
   "attachments": {},
   "cell_type": "markdown",
   "id": "2850d674",
   "metadata": {},
   "source": [
    "# Gradient Boosting\n",
    "*By Charles Bugayer*"
   ]
  },
  {
   "attachments": {},
   "cell_type": "markdown",
   "id": "3c7cc684",
   "metadata": {},
   "source": [
    "This is the base GradientBoosting Model and its resulting MAE."
   ]
  },
  {
   "cell_type": "code",
   "execution_count": null,
   "id": "807fe1e6",
   "metadata": {},
   "outputs": [],
   "source": [
    "base = GradientBoostingRegressor()\n",
    "scores = cross_val_score(base, X_train, y_train, cv=5, scoring='neg_mean_absolute_error')\n",
    "-scores.mean()"
   ]
  },
  {
   "attachments": {},
   "cell_type": "markdown",
   "id": "b2d4f7f0",
   "metadata": {},
   "source": [
    "36775.600316829295"
   ]
  },
  {
   "attachments": {},
   "cell_type": "markdown",
   "id": "4ea0bc62",
   "metadata": {},
   "source": [
    "For efficiency, I used RandomizedSearchCV with 100000 iterations, as a GridSearchCV would be totalling 9878400 fits with 5-fold cross validation."
   ]
  },
  {
   "cell_type": "code",
   "execution_count": null,
   "id": "c3a610ac",
   "metadata": {},
   "outputs": [],
   "source": [
    "gbr = GradientBoostingRegressor()\n",
    "gbr_params = {'n_estimators': [100, 120, 140, 160, 170, 180, 200],\n",
    "                'max_depth': [3,4,5,6,7,8],\n",
    "                'learning_rate': [0,0.01, 0.001, 0.1, 0.095, 0.4, 0.2],\n",
    "                'subsample': [0,0.1, 0.3, 0.8, 1.0],\n",
    "              'min_samples_split': [2,3,4,5],\n",
    "              'min_samples_leaf': [0.1,0.3,0.5,0.7,0.9,1],\n",
    "              'min_weight_fraction_leaf': [0,0.1,0.3,0.5,0.7,0.9,1],\n",
    "              'criterion': ['friedman_mse', 'squared_error'],\n",
    "              'loss': ['huber', 'log_loss', 'deviance', 'exponential']}\n",
    "gbr_gridsearch = RandomizedSearchCV(gbr, gbr_params, n_iter = 100000, cv=5, verbose=1, n_jobs=-1, scoring='neg_mean_absolute_error')\n",
    "gbr_gridsearch.fit(X_train, y_train)\n",
    "print('Best gbr params:', gbr_gridsearch.best_params_)\n",
    "print('Best gbr score:', gbr_gridsearch.best_score_)"
   ]
  },
  {
   "attachments": {},
   "cell_type": "markdown",
   "id": "f147c1c4",
   "metadata": {},
   "source": [
    "Best gbr params: {'subsample': 1.0, 'n_estimators': 160, 'min_weight_fraction_leaf': 0, 'min_samples_split': 5, 'min_samples_leaf': 1, 'max_depth': 3, 'loss': 'huber', 'learning_rate': 0.095, 'criterion': 'squared_error'}\n",
    "Best gbr score: -36322.8451418078"
   ]
  },
  {
   "attachments": {},
   "cell_type": "markdown",
   "id": "e0729abc",
   "metadata": {},
   "source": [
    "After getting the initial best parameters, I used GridSearchCV to find the best parameters in a smaller range. After a couple of rounds of tuning, n_estimators moved to a higher value than the first round would have suggested. Because the value for min_samples_split was on the edge of the range, I increased the range."
   ]
  },
  {
   "cell_type": "code",
   "execution_count": null,
   "id": "97d3a77e",
   "metadata": {},
   "outputs": [],
   "source": [
    "gbr = GradientBoostingRegressor()\n",
    "gbr_params = {'n_estimators': range(172,190),\n",
    "                'max_depth': [2,3,4,5],\n",
    "                'learning_rate': [0.094, 0.095, 0.096],\n",
    "                'subsample': [1.0],\n",
    "              'min_samples_split': range(4,11),\n",
    "              'min_samples_leaf': [1],\n",
    "              'min_weight_fraction_leaf': [0],\n",
    "              'loss': ['huber']}\n",
    "gbr_gridsearch = GridSearchCV(gbr, gbr_params, cv=5, verbose=1, n_jobs=-1, scoring='neg_mean_absolute_error')\n",
    "gbr_gridsearch.fit(X_train, y_train)\n",
    "print('Best gbr params:', gbr_gridsearch.best_params_)\n",
    "print('Best gbr score:', gbr_gridsearch.best_score_)"
   ]
  },
  {
   "cell_type": "code",
   "execution_count": null,
   "id": "88f316c2",
   "metadata": {},
   "outputs": [],
   "source": [
    "gbr = GradientBoostingRegressor(n_estimators=189, max_depth=3, learning_rate=0.095, subsample=1.0, min_samples_split=7, min_samples_leaf=1, min_weight_fraction_leaf=0, loss='huber', subsample=1.0)"
   ]
  },
  {
   "attachments": {},
   "cell_type": "markdown",
   "id": "eae780c4",
   "metadata": {},
   "source": [
    "Best gbr params: {'learning_rate': 0.095, 'loss': 'huber', 'max_depth': 3, 'min_samples_leaf': 1, 'min_samples_split': 7, 'min_weight_fraction_leaf': 0, 'n_estimators': 189, 'subsample': 1.0}\n",
    "Best gbr score: -36216.57778386479\n"
   ]
  },
  {
   "attachments": {},
   "cell_type": "markdown",
   "id": "e576d408",
   "metadata": {},
   "source": [
    "After this round of tuning, the MAE on train data only got worse, so I decided to stop there."
   ]
  },
  {
   "attachments": {},
   "cell_type": "markdown",
   "id": "28a0c192",
   "metadata": {},
   "source": [
    "# XGBoost Model Development\n",
    "By Alex Olmeta"
   ]
  },
  {
   "cell_type": "code",
   "execution_count": null,
   "id": "18347377",
   "metadata": {},
   "outputs": [],
   "source": [
    "data = pd.read_csv('binned_jobs.csv')\n",
    "\n",
    "data.head()"
   ]
  },
  {
   "cell_type": "code",
   "execution_count": null,
   "id": "212cf3d0",
   "metadata": {},
   "outputs": [],
   "source": [
    "y1 = data['salary_in_usd']\n",
    "\n",
    "X1 = data.drop(columns=['salary_in_usd', 'job_title', 'salary'], axis=1)\n",
    "X1 = pd.get_dummies(X1, drop_first=True)"
   ]
  },
  {
   "cell_type": "code",
   "execution_count": null,
   "id": "98f14403",
   "metadata": {},
   "outputs": [],
   "source": [
    "# Scaling test data\n",
    "\n",
    "sc = StandardScaler()\n",
    "sc.fit(X1)\n",
    "\n",
    "X_scaled = sc.transform(X1)\n",
    "X1 = pd.DataFrame(X_scaled)"
   ]
  },
  {
   "cell_type": "code",
   "execution_count": null,
   "id": "5a4043e8",
   "metadata": {},
   "outputs": [],
   "source": [
    "X_train, X_test, y_train, y_test = train_test_split(X1, y1, test_size=0.2, random_state=45)"
   ]
  },
  {
   "attachments": {},
   "cell_type": "markdown",
   "id": "3e633ea6",
   "metadata": {},
   "source": [
    "In this next section I looped through to test the best values of individual hyperparameters on base models. I then used this insight as a starting place for my random search. For sake of redundancy, I will only show the code I used to show the best number of trees on a base XGBoost model since testing for the other hyperparameters was the same process and essentially the same code."
   ]
  },
  {
   "cell_type": "code",
   "execution_count": null,
   "id": "00153765",
   "metadata": {},
   "outputs": [],
   "source": [
    "def get_models():\n",
    "    models = dict()\n",
    "    # define number of trees to consider\n",
    "    n_trees = [5, 10, 50, 100, 500, 1000, 2000, 5000]\n",
    "    for n in n_trees:\n",
    "        models[str(n)] = xgb.XGBRegressor(n_estimators=n,random_state=1)\n",
    "    return models\n",
    "\n",
    "# evaluate a given model using cross-validation\n",
    "def evaluate_model(model, X_train, y_train):\n",
    "    # define the evaluation procedure\n",
    "    cv = KFold(n_splits=5, shuffle=True, random_state=1)\n",
    "    # evaluate the model and collect the results\n",
    "    scores = np.sqrt(-cross_val_score(model, X_train, y_train, scoring='neg_mean_squared_error', cv=cv, n_jobs=-1))\n",
    "    return scores\n",
    "\n",
    "# get the models to evaluate\n",
    "models = get_models()\n",
    "# evaluate the models and store results\n",
    "results, names = list(), list()\n",
    "for name, model in models.items():\n",
    "    # evaluate the model\n",
    "    scores = evaluate_model(model, X_train, y_train)\n",
    "    # store the results\n",
    "    results.append(scores)\n",
    "    names.append(name)\n",
    "    # summarize the performance along the way\n",
    "    print('>%s %.3f (%.3f)' % (name, np.mean(scores), np.std(scores)))\n",
    "# plot model performance for comparison\n",
    "plt.boxplot(results, labels=names, showmeans=True)\n",
    "plt.ylabel('Cross validation error',fontsize=15)\n",
    "plt.xlabel('Number of trees',fontsize=15)"
   ]
  },
  {
   "attachments": {},
   "cell_type": "markdown",
   "id": "d99842f8",
   "metadata": {},
   "source": [
    "I then ran the following broad RandomSearchCV using my previous findings to narrow down the potential hyperparameter range. I used 3 fold cross validation because the range quite large and the code took several hours to execute"
   ]
  },
  {
   "cell_type": "code",
   "execution_count": 15,
   "id": "5c827623",
   "metadata": {},
   "outputs": [
    {
     "name": "stdout",
     "output_type": "stream",
     "text": [
      "Fitting 2 folds for each of 500 candidates, totalling 1000 fits\n",
      "Optimal parameter values = {'subsample': 0.5, 'reg_lambda': 100, 'n_estimators': 1000, 'max_depth': 8, 'learning_rate': 0.01, 'gamma': 10}\n",
      "Optimal cross validation R-squared =  -36568.345355902624\n",
      "Time taken =  142  minutes\n"
     ]
    }
   ],
   "source": [
    "start_time = time.time()\n",
    "param_grid = {'max_depth': [4,6,8,12,15],\n",
    "              'learning_rate': [0.01, 0.05, 0.1],\n",
    "               'reg_lambda':[0, 1, 10, 100],\n",
    "                'n_estimators':[1000, 2000, 3000, 4000],\n",
    "                'gamma': [0, 10, 100, 10000, 1e6, 1e9] ,\n",
    "                'subsample': [0.5, 0.75, 1.0]\n",
    "                }\n",
    "\n",
    "cv = KFold(n_splits=3,shuffle=True,random_state=45)\n",
    "optimal_params = RandomizedSearchCV(estimator=xgb.XGBRegressor(random_state=45),                                                       \n",
    "                             param_distributions = param_grid, n_iter = 500,\n",
    "                             verbose = 1,\n",
    "                             n_jobs=-1,\n",
    "                             scoring='neg_mean_absolute_error',\n",
    "                             cv = cv)\n",
    "optimal_params.fit(X_train,y_train)\n",
    "print(\"Optimal parameter values =\", optimal_params.best_params_)\n",
    "print(\"Optimal cross validation R-squared = \",optimal_params.best_score_)\n",
    "print(\"Time taken = \", round((time.time()-start_time)/60), \" minutes\")"
   ]
  },
  {
   "attachments": {},
   "cell_type": "markdown",
   "id": "495b90a3",
   "metadata": {},
   "source": [
    "I then ran a further, finer RandomSearchCV based on the results of the last broad random search. Again I used three folds to strike a balance between computation time and accuracy."
   ]
  },
  {
   "cell_type": "code",
   "execution_count": 16,
   "id": "d2fbbdbd",
   "metadata": {},
   "outputs": [
    {
     "name": "stdout",
     "output_type": "stream",
     "text": [
      "Fitting 2 folds for each of 200 candidates, totalling 400 fits\n",
      "Optimal parameter values = {'subsample': 0.625, 'reg_lambda': 100, 'n_estimators': 1500, 'max_depth': 7, 'learning_rate': 0.01, 'gamma': 10}\n",
      "Optimal cross validation R-squared =  -36488.927135106496\n",
      "Time taken =  37  minutes\n"
     ]
    }
   ],
   "source": [
    "start_time = time.time()\n",
    "param_grid = {'max_depth': [7,8,9],\n",
    "              'learning_rate': [0.01, 0.025, 0.05, 0.1],\n",
    "               'reg_lambda':[0, 1, 10, 100],\n",
    "                'n_estimators':[1000, 1500, 2000, 2500],\n",
    "                'gamma': [0, 10, 100, 10000, 1e6, 1e9] ,\n",
    "                'subsample': [0.5, 0.625, 0.75, 0.875, 1.0]\n",
    "                }\n",
    "\n",
    "cv = KFold(n_splits=3,shuffle=True,random_state=45)\n",
    "optimal_params = RandomizedSearchCV(estimator=xgb.XGBRegressor(random_state=45),                                                       \n",
    "                             param_distributions = param_grid, n_iter = 500,\n",
    "                             verbose = 1,\n",
    "                             n_jobs=-1,\n",
    "                             scoring='neg_mean_absolute_error',\n",
    "                             cv = cv)\n",
    "optimal_params.fit(X_train,y_train)\n",
    "print(\"Optimal parameter values =\", optimal_params.best_params_)\n",
    "print(\"Optimal cross validation R-squared = \",optimal_params.best_score_)\n",
    "print(\"Time taken = \", round((time.time()-start_time)/60), \" minutes\")"
   ]
  },
  {
   "attachments": {},
   "cell_type": "markdown",
   "id": "482af161",
   "metadata": {},
   "source": [
    "After this I tried many rounds of manual hyperparameter tuning. This included trying values in and outside of the range I narrowed in on. I also performed further random and grid searches but none producted a model with a lower cross validated mae on the data. The following model contains my final hyperparameters I found."
   ]
  },
  {
   "attachments": {},
   "cell_type": "markdown",
   "id": "ce11ab4e",
   "metadata": {},
   "source": [
    "Also, I used the huber loss function because it helped mitigate the impact of several very large outliers"
   ]
  },
  {
   "cell_type": "code",
   "execution_count": null,
   "id": "84cbc618",
   "metadata": {},
   "outputs": [],
   "source": [
    "model = xgb.XGBRegressor(max_depth=7,n_estimators=2600,learning_rate=0.016, reg_lambda= 100,\n",
    "                         random_state=1,subsample=0.68,gamma=10,loss='huber')"
   ]
  },
  {
   "attachments": {},
   "cell_type": "markdown",
   "id": "de48dc89",
   "metadata": {},
   "source": [
    "# RandomForest Model Development\n",
    "By Catherine Tawadros"
   ]
  },
  {
   "cell_type": "code",
   "execution_count": 21,
   "id": "f5756b7c",
   "metadata": {},
   "outputs": [],
   "source": [
    "import pandas as pd\n",
    "import numpy as np\n",
    "import seaborn as sns\n",
    "import matplotlib.pyplot as plt\n",
    "from sklearn.metrics import mean_squared_error\n",
    "from sklearn.model_selection import cross_val_score,train_test_split\n",
    "from sklearn.model_selection import KFold\n",
    "from sklearn.tree import DecisionTreeRegressor,DecisionTreeClassifier\n",
    "from sklearn.model_selection import GridSearchCV, ParameterGrid, RandomizedSearchCV\n",
    "from sklearn.ensemble import BaggingRegressor,BaggingClassifier,RandomForestRegressor,RandomForestClassifier\n",
    "from sklearn.linear_model import LinearRegression,LogisticRegression\n",
    "from sklearn.neighbors import KNeighborsRegressor\n",
    "from sklearn.metrics import roc_curve, precision_recall_curve, auc, make_scorer, recall_score, \\\n",
    "accuracy_score, precision_score, confusion_matrix, mean_squared_error, r2_score, mean_absolute_error\n",
    "\n",
    "#Libraries for visualizing trees\n",
    "from sklearn.tree import export_graphviz \n",
    "from six import StringIO\n",
    "from IPython.display import Image\n",
    "import time as tm"
   ]
  },
  {
   "cell_type": "code",
   "execution_count": 38,
   "id": "623be187",
   "metadata": {},
   "outputs": [],
   "source": [
    "import warnings\n",
    "warnings.filterwarnings('ignore')"
   ]
  },
  {
   "cell_type": "code",
   "execution_count": 16,
   "id": "06ba3201",
   "metadata": {},
   "outputs": [],
   "source": [
    "binned_jobs = pd.read_csv(\"binned_jobs.csv\")\n",
    "binned_jobs.drop(['job_title', 'salary'], axis = 1)\n",
    "\n",
    "# Convert categorical variables to dummy variables\n",
    "binned_jobs_encoded = pd.get_dummies(binned_jobs, drop_first=True)\n",
    "\n",
    "# Separate the features (X) and the target variable (y)\n",
    "X = binned_jobs_encoded.drop(['salary_in_usd', 'salary'],axis=1)\n",
    "y = binned_jobs_encoded['salary_in_usd']\n",
    "\n",
    "# Split the data into train and test sets\n",
    "X_train, X_test, y_train, y_test = train_test_split(X, y, test_size=0.2, random_state=45)"
   ]
  },
  {
   "attachments": {},
   "cell_type": "markdown",
   "id": "de1a8eac",
   "metadata": {},
   "source": [
    "## parameter tuning iterations, each more specific than the previous:"
   ]
  },
  {
   "cell_type": "code",
   "execution_count": 26,
   "id": "17a29228",
   "metadata": {},
   "outputs": [
    {
     "name": "stdout",
     "output_type": "stream",
     "text": [
      "Fitting 2 folds for each of 250 candidates, totalling 500 fits\n",
      "{'max_leaf_nodes': 2400, 'max_features': 4, 'max_depth': 33, 'ccp_alpha': 0.1, 'bootstrap': True}\n"
     ]
    }
   ],
   "source": [
    "parameters = {'max_depth': np.arange(5,50,7), \"max_features\": np.arange(4,10,2), 'max_leaf_nodes': np.arange(1000,2500,200), 'bootstrap':[True, False], 'ccp_alpha': np.arange(0.0, .5, 0.1)}\n",
    "cv = KFold(n_splits = 2, shuffle=True, random_state=1)\n",
    "model = RandomizedSearchCV(RandomForestRegressor(random_state=1, n_estimators=50), parameters, n_jobs=-1, n_iter=250, verbose=1, cv=cv, scoring=\"neg_mean_absolute_error\")\n",
    "model.fit(X_train, y_train)\n",
    "print (model.best_params_)"
   ]
  },
  {
   "cell_type": "code",
   "execution_count": 27,
   "id": "2c5304fa",
   "metadata": {},
   "outputs": [
    {
     "name": "stderr",
     "output_type": "stream",
     "text": [
      "C:\\Users\\ctawa\\anaconda3\\lib\\site-packages\\sklearn\\model_selection\\_search.py:292: UserWarning: The total space of parameters 224 is smaller than n_iter=250. Running 224 iterations. For exhaustive searches, use GridSearchCV.\n",
      "  warnings.warn(\n"
     ]
    },
    {
     "name": "stdout",
     "output_type": "stream",
     "text": [
      "Fitting 2 folds for each of 224 candidates, totalling 448 fits\n",
      "{'max_leaf_nodes': 2000, 'max_features': 4, 'max_depth': 33, 'ccp_alpha': 0.05, 'bootstrap': True}\n"
     ]
    }
   ],
   "source": [
    "parameters = {'max_depth': np.arange(5,50,7), \"max_features\": np.arange(2,10,2), 'max_leaf_nodes': np.arange(2000,4000,500), 'bootstrap':[True], 'ccp_alpha': np.arange(0.05, .15, 0.05)}\n",
    "cv = KFold(n_splits = 2, shuffle=True, random_state=1)\n",
    "model2 = RandomizedSearchCV(RandomForestRegressor(random_state=1, n_estimators=50), parameters, n_jobs=-1, n_iter=250, verbose=1, cv=cv, scoring=\"neg_mean_absolute_error\")\n",
    "model2.fit(X_train, y_train)\n",
    "print (model2.best_params_)"
   ]
  },
  {
   "cell_type": "code",
   "execution_count": 52,
   "id": "0868a6f1",
   "metadata": {},
   "outputs": [
    {
     "name": "stdout",
     "output_type": "stream",
     "text": [
      "Fitting 2 folds for each of 250 candidates, totalling 500 fits\n",
      "{'max_leaf_nodes': 2400, 'max_features': 4, 'max_depth': 33, 'ccp_alpha': 0.07500000000000001, 'bootstrap': True}\n"
     ]
    }
   ],
   "source": [
    "parameters = {'max_depth': np.arange(5,50,7), \"max_features\": np.arange(2,8,1), 'max_leaf_nodes': np.arange(2000,2500,100), 'bootstrap':[True], 'ccp_alpha': np.arange(0.025, .1, 0.025)}\n",
    "cv = KFold(n_splits = 2, shuffle=True, random_state=1)\n",
    "model3 = RandomizedSearchCV(RandomForestRegressor(random_state=1, n_estimators=100), parameters, n_jobs=-1, n_iter=250, verbose=1, cv=cv, scoring=\"neg_mean_absolute_error\")\n",
    "model3.fit(X_train, y_train)\n",
    "print (model3.best_params_)"
   ]
  },
  {
   "cell_type": "code",
   "execution_count": 49,
   "id": "1fd1694c",
   "metadata": {},
   "outputs": [
    {
     "name": "stdout",
     "output_type": "stream",
     "text": [
      "Fitting 4 folds for each of 6 candidates, totalling 24 fits\n",
      "{'oob_score': True, 'max_leaf_nodes': 2400, 'max_features': 4, 'max_depth': 36, 'ccp_alpha': 0.075, 'bootstrap': True}\n"
     ]
    }
   ],
   "source": [
    "parameters = {'max_depth': [30,33,36], \"max_features\": [4], 'max_leaf_nodes': [2400], 'bootstrap':[True], 'ccp_alpha': [.075], 'oob_score':[True,False]}\n",
    "cv = KFold(n_splits = 4, shuffle=True, random_state=1)\n",
    "model4 = RandomizedSearchCV(RandomForestRegressor(random_state=1, n_estimators=100), parameters, n_jobs=-1, n_iter=250, verbose=1, cv=cv, scoring=\"neg_mean_absolute_error\")\n",
    "model4.fit(X_train, y_train)\n",
    "print (model4.best_params_)"
   ]
  },
  {
   "cell_type": "code",
   "execution_count": 33,
   "id": "63ce923e",
   "metadata": {},
   "outputs": [
    {
     "name": "stderr",
     "output_type": "stream",
     "text": [
      "C:\\Users\\ctawa\\anaconda3\\lib\\site-packages\\sklearn\\model_selection\\_search.py:292: UserWarning: The total space of parameters 12 is smaller than n_iter=250. Running 12 iterations. For exhaustive searches, use GridSearchCV.\n",
      "  warnings.warn(\n"
     ]
    },
    {
     "name": "stdout",
     "output_type": "stream",
     "text": [
      "Fitting 4 folds for each of 12 candidates, totalling 48 fits\n",
      "{'oob_score': True, 'max_leaf_nodes': 2400, 'max_features': 4, 'max_depth': 38, 'criterion': 'absolute_error', 'ccp_alpha': 0.075, 'bootstrap': True}\n"
     ]
    }
   ],
   "source": [
    "parameters = {'max_depth': [34,36,38], \"max_features\": [4], 'max_leaf_nodes': [2400], 'bootstrap':[True], 'ccp_alpha': [.075], 'oob_score':[True], 'criterion':['squared_error', 'absolute_error', 'friedman_mse', 'poisson']}\n",
    "cv = KFold(n_splits = 4, shuffle=True, random_state=1)\n",
    "model5 = RandomizedSearchCV(RandomForestRegressor(random_state=1, n_estimators=100), parameters, n_jobs=-1, n_iter=250, verbose=1, cv=cv, scoring=\"neg_mean_absolute_error\")\n",
    "model5.fit(X_train, y_train)\n",
    "print (model5.best_params_)"
   ]
  },
  {
   "cell_type": "code",
   "execution_count": 34,
   "id": "5066bebe",
   "metadata": {},
   "outputs": [
    {
     "data": {
      "text/plain": [
       "49486.09454826788"
      ]
     },
     "execution_count": 34,
     "metadata": {},
     "output_type": "execute_result"
    }
   ],
   "source": [
    "preds = model5.predict(X_test)\n",
    "np.sqrt(mean_squared_error(y_test, preds))"
   ]
  },
  {
   "cell_type": "code",
   "execution_count": 36,
   "id": "b1626654",
   "metadata": {},
   "outputs": [
    {
     "name": "stdout",
     "output_type": "stream",
     "text": [
      "Fitting 4 folds for each of 1 candidates, totalling 4 fits\n"
     ]
    },
    {
     "data": {
      "text/plain": [
       "49479.01528064572"
      ]
     },
     "execution_count": 36,
     "metadata": {},
     "output_type": "execute_result"
    }
   ],
   "source": [
    "parameters = {'oob_score': [True], 'max_leaf_nodes': [2400], 'max_features': [4], 'max_depth': [38], 'criterion': ['absolute_error'], 'ccp_alpha': [0.075], 'bootstrap': [True]}\n",
    "cv = KFold(n_splits = 4, shuffle=True, random_state=1)\n",
    "model6 = RandomizedSearchCV(RandomForestRegressor(random_state=1, n_estimators=2500), parameters, n_jobs=-1, n_iter=1, verbose=1, cv=cv, scoring=\"neg_mean_absolute_error\")\n",
    "model6.fit(X_train, y_train)\n",
    "preds = model6.predict(X_test)\n",
    "np.sqrt(mean_squared_error(y_test, preds))"
   ]
  },
  {
   "attachments": {},
   "cell_type": "markdown",
   "id": "7b740a44",
   "metadata": {},
   "source": [
    "## Visualization of model performance:"
   ]
  },
  {
   "cell_type": "code",
   "execution_count": 57,
   "id": "a3cab723",
   "metadata": {},
   "outputs": [
    {
     "data": {
      "text/plain": [
       "Text(0.5, 1.0, 'model MAE')"
      ]
     },
     "execution_count": 57,
     "metadata": {},
     "output_type": "execute_result"
    },
    {
     "data": {
      "image/png": "[encoded data removed]",
      "text/plain": [
       "<Figure size 432x288 with 1 Axes>"
      ]
     },
     "metadata": {
      "needs_background": "light"
     },
     "output_type": "display_data"
    }
   ],
   "source": [
    "l = [model, model2, model3, model4, model5, model6]\n",
    "bests = []\n",
    "bests_t = []\n",
    "for m in l:\n",
    "    bests.append(mean_absolute_error(m.predict(X_test), y_test))\n",
    "    bests_t.append(mean_absolute_error(m.predict(X_train), y_train))\n",
    "sns.lineplot(x=[1,2,3,4,5,6], y=bests, label=\"test MAE\")\n",
    "plt.xlabel(\"model number\")\n",
    "plt.ylabel(\"MAE\")\n",
    "sns.lineplot(x=[1,2,3,4,5,6], y=bests_t, label = \"train MAE\")\n",
    "plt.title(\"model MAE\")"
   ]
  },
  {
   "cell_type": "code",
   "execution_count": 58,
   "id": "d43713d5",
   "metadata": {},
   "outputs": [
    {
     "data": {
      "text/plain": [
       "Text(0.5, 1.0, 'model MAE')"
      ]
     },
     "execution_count": 58,
     "metadata": {},
     "output_type": "execute_result"
    },
    {
     "data": {
      "image/png": "[encoded data removed]",
      "text/plain": [
       "<Figure size 432x288 with 1 Axes>"
      ]
     },
     "metadata": {
      "needs_background": "light"
     },
     "output_type": "display_data"
    }
   ],
   "source": [
    "sns.lineplot(x=[1,2,3,4,5,6], y=bests, label=\"test MAE\")\n",
    "plt.xlabel(\"model number\")\n",
    "plt.ylabel(\"MAE\")\n",
    "plt.title(\"model MAE\")"
   ]
  },
  {
   "cell_type": "code",
   "execution_count": 54,
   "id": "b9b6f62e",
   "metadata": {},
   "outputs": [
    {
     "data": {
      "text/plain": [
       "[35734.21531427414,\n",
       " 35734.21531427414,\n",
       " 35655.02933215456,\n",
       " 35388.54260580971,\n",
       " 35620.710737605805,\n",
       " 35597.43756058041]"
      ]
     },
     "execution_count": 54,
     "metadata": {},
     "output_type": "execute_result"
    }
   ],
   "source": [
    "# best MAE across each iteration of grid/randomized search\n",
    "bests"
   ]
  },
  {
   "cell_type": "code",
   "execution_count": 59,
   "id": "af1eb3ee",
   "metadata": {},
   "outputs": [
    {
     "name": "stdout",
     "output_type": "stream",
     "text": [
      "Fitting 4 folds for each of 6 candidates, totalling 24 fits\n",
      "{'oob_score': True, 'max_leaf_nodes': 2400, 'max_features': 4, 'max_depth': 36, 'ccp_alpha': 0.075, 'bootstrap': True}\n"
     ]
    }
   ],
   "source": [
    "parameters = {'max_depth': [30,33,36], \"max_features\": [4], 'max_leaf_nodes': [2400], 'bootstrap':[True], 'ccp_alpha': [.075], 'oob_score':[True,False]}\n",
    "cv = KFold(n_splits = 4, shuffle=True, random_state=1)\n",
    "model4 = RandomizedSearchCV(RandomForestRegressor(random_state=1, n_estimators=1000), parameters, n_jobs=-1, n_iter=250, verbose=1, cv=cv, scoring=\"neg_mean_absolute_error\")\n",
    "model4.fit(X_train, y_train)\n",
    "print (model4.best_params_)"
   ]
  },
  {
   "cell_type": "code",
   "execution_count": 60,
   "id": "b664da31",
   "metadata": {},
   "outputs": [
    {
     "data": {
      "text/plain": [
       "35292.425234087365"
      ]
     },
     "execution_count": 60,
     "metadata": {},
     "output_type": "execute_result"
    }
   ],
   "source": [
    "# FINAL TEST MAE\n",
    "mean_absolute_error(y_test, model4.predict(X_test))"
   ]
  },
  {
   "cell_type": "code",
   "execution_count": 64,
   "id": "4babb692",
   "metadata": {},
   "outputs": [],
   "source": [
    "y_pred = model4.predict(X_test)\n",
    "# Convert y_pred array to a DataFrame\n",
    "df_pred = pd.DataFrame({'y_pred': y_pred})\n",
    "\n",
    "# Save the DataFrame to a CSV file\n",
    "df_pred.to_csv('random_forest_predictions.csv', index=False)"
   ]
  },
  {
   "cell_type": "code",
   "execution_count": 63,
   "id": "f6e4c142",
   "metadata": {},
   "outputs": [
    {
     "data": {
      "text/plain": [
       "employee_residence_US                 0.072878\n",
       "experience_level_SE                   0.071320\n",
       "salary_currency_USD                   0.070693\n",
       "company_location_US                   0.070281\n",
       "work_year                             0.054844\n",
       "                                        ...   \n",
       "salary_currency_HKD                   0.000000\n",
       "job_title_AWS Data Architect          0.000000\n",
       "salary_currency_CZK                   0.000000\n",
       "company_location_VN                   0.000000\n",
       "job_title_Head of Machine Learning    0.000000\n",
       "Length: 290, dtype: float64"
      ]
     },
     "execution_count": 63,
     "metadata": {},
     "output_type": "execute_result"
    }
   ],
   "source": [
    "# Feature importance can be found by averaging the feature importance in individual trees\n",
    "# this is mainly for reference in the recommendations to stakeholders section\n",
    "feature_importances = np.mean([\n",
    "    tree.feature_importances_ for tree in model4.best_estimator_.estimators_\n",
    "], axis=0)\n",
    "series = pd.Series(feature_importances, X_train.columns).sort_values(ascending=False)"
   ]
  },
  {
   "cell_type": "code",
   "execution_count": 68,
   "id": "a7cdb67a",
   "metadata": {},
   "outputs": [],
   "source": [
    "y_pred = model4.predict(X_test)\n",
    "# Convert y_pred array to a DataFrame\n",
    "df_pred = pd.DataFrame({'y_pred': y_pred, 'y_true': y_test})\n",
    "\n",
    "# Save the DataFrame to a CSV file\n",
    "df_pred.to_csv('random_forest_predictions_with_ytest.csv', index=False)"
   ]
  },
  {
   "attachments": {},
   "cell_type": "markdown",
   "id": "bbe77944",
   "metadata": {},
   "source": [
    "# ENSEMBLING MODELS\n",
    "By Catherine Tawadros"
   ]
  },
  {
   "cell_type": "code",
   "execution_count": 7,
   "id": "b740febb",
   "metadata": {
    "id": "WbU_roix3CzU"
   },
   "outputs": [],
   "source": [
    "import pandas as pd\n",
    "import numpy as np\n",
    "import seaborn as sns\n",
    "import matplotlib.pyplot as plt\n",
    "from sklearn.metrics import mean_squared_error\n",
    "from sklearn.model_selection import cross_val_score,train_test_split, GridSearchCV, ParameterGrid, StratifiedKFold, RandomizedSearchCV, cross_val_predict\n",
    "from sklearn.metrics import mean_squared_error,r2_score,roc_curve,auc,precision_recall_curve, accuracy_score,mean_absolute_error\n",
    "from sklearn.model_selection import KFold\n",
    "from sklearn.tree import DecisionTreeRegressor,DecisionTreeClassifier\n",
    "from sklearn.ensemble import VotingRegressor, VotingClassifier, StackingRegressor, StackingClassifier, GradientBoostingRegressor,GradientBoostingClassifier, BaggingRegressor,BaggingClassifier,RandomForestRegressor,RandomForestClassifier,AdaBoostRegressor,AdaBoostClassifier\n",
    "from sklearn.linear_model import LinearRegression,LogisticRegression, LassoCV, RidgeCV, ElasticNetCV\n",
    "from sklearn.neighbors import KNeighborsRegressor\n",
    "import itertools as it\n",
    "import time as time\n",
    "import xgboost as xgb\n",
    "from sklearn.experimental import enable_iterative_imputer\n",
    "from sklearn.impute import IterativeImputer\n",
    "from pyearth import Earth\n",
    "import warnings\n",
    "warnings.filterwarnings('ignore')"
   ]
  },
  {
   "cell_type": "code",
   "execution_count": 2,
   "id": "405ae634",
   "metadata": {
    "id": "d6udQtP763Y0"
   },
   "outputs": [],
   "source": [
    "X_train = pd.read_csv(\"X_train.csv\", index_col=0)\n",
    "X_test = pd.read_csv(\"X_test.csv\", index_col=0)\n",
    "y_train = pd.read_csv(\"y_train.csv\", index_col=0)\n",
    "y_test = pd.read_csv(\"y_test.csv\", index_col=0)\n",
    "cv = KFold(5, shuffle=True, random_state=12)"
   ]
  },
  {
   "attachments": {},
   "cell_type": "markdown",
   "id": "2baea799",
   "metadata": {},
   "source": [
    "## base models:"
   ]
  },
  {
   "cell_type": "code",
   "execution_count": 53,
   "id": "915b01ce",
   "metadata": {
    "id": "rXpmc_lTDloj"
   },
   "outputs": [],
   "source": [
    "# MARS MODEL\n",
    "ma = Earth(max_terms=50, max_degree=1)\n",
    "ma_train_preds = cross_val_predict(ma, X_train, y_train, cv = cv)\n",
    "ma_train_preds_df = pd.DataFrame(ma_train_preds)\n",
    "ma_train_preds_df.to_csv(\"ma_train_preds.csv\")"
   ]
  },
  {
   "cell_type": "code",
   "execution_count": 54,
   "id": "ae9caea6",
   "metadata": {
    "id": "d015LwoCWccR"
   },
   "outputs": [],
   "source": [
    "ma.fit(X_train, y_train)\n",
    "ma_test_preds = ma.predict(X_test)\n",
    "ma_test_preds_df = pd.DataFrame(ma_test_preds)\n",
    "ma_test_preds_df.to_csv(\"ma_test_preds.csv\")"
   ]
  },
  {
   "cell_type": "code",
   "execution_count": 52,
   "id": "eb79daf3",
   "metadata": {
    "id": "FDBo3xK2VNWO"
   },
   "outputs": [],
   "source": [
    "# BAGGING MODEL\n",
    "bg = BaggingRegressor(base_estimator=DecisionTreeRegressor(random_state=1), random_state=1, n_estimators=200, bootstrap=True, bootstrap_features=False, max_features=.75, max_samples=.5)\n",
    "bg.fit(X_train, y_train)\n",
    "bg_train_preds = cross_val_predict(bg, X_train, y_train, cv = cv)\n",
    "bg_train_preds_df = pd.DataFrame(bg_train_preds)\n",
    "bg_train_preds_df.to_csv(\"bg_train_preds.csv\")"
   ]
  },
  {
   "cell_type": "code",
   "execution_count": 55,
   "id": "10d642e9",
   "metadata": {
    "id": "PIG4gxR-WEqN"
   },
   "outputs": [],
   "source": [
    "bg.fit(X_train, y_train)\n",
    "bg_test_preds = bg.predict(X_test)\n",
    "bg_test_preds_df = pd.DataFrame(bg_test_preds)\n",
    "bg_test_preds_df.to_csv(\"bg_test_preds.csv\")"
   ]
  },
  {
   "cell_type": "code",
   "execution_count": 80,
   "id": "384beb68",
   "metadata": {
    "id": "vXJ8TqKh-r7M"
   },
   "outputs": [],
   "source": [
    "# RANDOM FOREST MODEL\n",
    "rf = RandomForestRegressor(random_state=1, criterion=\"absolute_error\", n_estimators=100, max_leaf_nodes=2400, max_features=4, max_depth=36, oob_score=True, bootstrap=True, ccp_alpha=.075)\n",
    "rf.fit(X_train, y_train)\n",
    "rf_train_preds = cross_val_predict(rf, X_train, y_train, cv = cv)\n",
    "rf_train_preds_df = pd.DataFrame(rf_train_preds)\n",
    "rf_train_preds_df.to_csv(\"rf_train_preds.csv\")"
   ]
  },
  {
   "cell_type": "code",
   "execution_count": 81,
   "id": "4a4adaba",
   "metadata": {
    "id": "2hldoxhmKrgj"
   },
   "outputs": [],
   "source": [
    "rf.fit(X_train, y_train)\n",
    "rf_test_preds = rf.predict(X_test)\n",
    "rf_test_preds_df = pd.DataFrame(rf_test_preds)\n",
    "rf_test_preds_df.to_csv(\"rf_test_preds.csv\")"
   ]
  },
  {
   "cell_type": "code",
   "execution_count": 4,
   "id": "192e44fe",
   "metadata": {
    "id": "VytDAqXLBMQ0"
   },
   "outputs": [],
   "source": [
    "# GRADIENT BOOSTING MODEL\n",
    "gb = GradientBoostingRegressor(random_state=1, n_estimators=189, max_depth=3, learning_rate=0.095, subsample=1.0, min_samples_split=7, min_samples_leaf=1, min_weight_fraction_leaf=0, loss='huber')\n",
    "gb_train_preds = cross_val_predict(gb, X_train, y_train, cv = cv)\n",
    "gb_train_preds_df = pd.DataFrame(rf_train_preds)\n",
    "gb_train_preds_df.to_csv(\"gb_train_preds.csv\")"
   ]
  },
  {
   "cell_type": "code",
   "execution_count": 28,
   "id": "a73b7a35",
   "metadata": {
    "id": "o_g99j_mKmsm"
   },
   "outputs": [],
   "source": [
    "gb.fit(X_train, y_train)\n",
    "gb_test_preds = gb.predict(X_test)\n",
    "gb_test_preds_df = pd.DataFrame(gb_test_preds)\n",
    "gb_test_preds_df.to_csv(\"gb_test_preds.csv\")"
   ]
  },
  {
   "cell_type": "code",
   "execution_count": 8,
   "id": "7fbecf00",
   "metadata": {
    "colab": {
     "base_uri": "https://localhost:8080/"
    },
    "id": "i2zz2vhsDAbX",
    "outputId": "32fd0dee-9cd6-4d05-b198-46e6546569d5"
   },
   "outputs": [
    {
     "name": "stdout",
     "output_type": "stream",
     "text": [
      "[04:17:00] WARNING: ../src/learner.cc:767: \n",
      "Parameters: { \"loss\" } are not used.\n",
      "\n",
      "[04:18:00] WARNING: ../src/learner.cc:767: \n",
      "Parameters: { \"loss\" } are not used.\n",
      "\n",
      "[04:18:34] WARNING: ../src/learner.cc:767: \n",
      "Parameters: { \"loss\" } are not used.\n",
      "\n",
      "[04:19:28] WARNING: ../src/learner.cc:767: \n",
      "Parameters: { \"loss\" } are not used.\n",
      "\n",
      "[04:20:02] WARNING: ../src/learner.cc:767: \n",
      "Parameters: { \"loss\" } are not used.\n",
      "\n"
     ]
    }
   ],
   "source": [
    "# XGB MODEL\n",
    "xg = xgb.XGBRegressor(max_depth=7,n_estimators=1500,learning_rate=0.01, reg_lambda= 100,\n",
    "                         random_state=1,subsample=0.625,gamma=10)\n",
    "xg_train_preds = cross_val_predict(xg, X_train, y_train, cv = cv)\n",
    "xg_train_preds_df = pd.DataFrame(xg_train_preds)\n",
    "xg_train_preds_df.to_csv(\"xg_train_preds.csv\")"
   ]
  },
  {
   "cell_type": "code",
   "execution_count": 13,
   "id": "de3a5d10",
   "metadata": {
    "colab": {
     "base_uri": "https://localhost:8080/"
    },
    "id": "80ISPgULFiNe",
    "outputId": "dda69c25-c738-4687-a2d0-93154390a8e0"
   },
   "outputs": [
    {
     "name": "stdout",
     "output_type": "stream",
     "text": [
      "[04:22:45] WARNING: ../src/learner.cc:767: \n",
      "Parameters: { \"loss\" } are not used.\n",
      "\n"
     ]
    }
   ],
   "source": [
    "xg.fit(X_train, y_train)\n",
    "xg_test_preds = xg.predict(X_test)\n",
    "xg_test_preds_df = pd.DataFrame(xg_test_preds)\n",
    "xg_test_preds_df.to_csv(\"xg_test_preds.csv\")"
   ]
  },
  {
   "cell_type": "code",
   "execution_count": 82,
   "id": "b98a33e6",
   "metadata": {
    "id": "OAvPvb9b5IvS"
   },
   "outputs": [],
   "source": [
    "# read in test predictions\n",
    "ma_test_preds_csv = pd.read_csv(\"ma_test_preds.csv\")\n",
    "bg_test_preds_csv = pd.read_csv(\"bg_test_preds.csv\")\n",
    "rf_test_preds_csv = pd.read_csv(\"rf_test_preds.csv\")\n",
    "gb_test_preds_csv = pd.read_csv(\"gb_test_preds.csv\")\n",
    "xg_test_preds_csv = pd.read_csv(\"xg_test_preds.csv\")\n",
    "ma_test_preds = np.asarray(ma_test_preds_csv[\"0\"])\n",
    "bg_test_preds = np.asarray(bg_test_preds_csv[\"0\"])\n",
    "rf_test_preds = np.asarray(rf_test_preds_csv[\"0\"])\n",
    "gb_test_preds = np.asarray(gb_test_preds_csv[\"0\"])\n",
    "xg_test_preds = np.asarray(xg_test_preds_csv[\"0\"])"
   ]
  },
  {
   "cell_type": "code",
   "execution_count": 83,
   "id": "427d4028",
   "metadata": {
    "colab": {
     "base_uri": "https://localhost:8080/"
    },
    "id": "ffmMnS-xKOP6",
    "outputId": "39528208-0013-4442-9124-46495381aa69"
   },
   "outputs": [
    {
     "name": "stdout",
     "output_type": "stream",
     "text": [
      "MARS MAE:\n",
      "36966.12909507691\n",
      "Bagging MAE:\n",
      "35962.31408492376\n",
      "RandomForest MAE:\n",
      "36044.76051390568\n",
      "GradientBooster MAE:\n",
      "36033.63512253498\n",
      "XGB MAE:\n",
      "35679.131675937126\n"
     ]
    }
   ],
   "source": [
    "# base model MAEs for future comparison\n",
    "print(\"MARS MAE:\")\n",
    "print(mean_absolute_error(y_test, ma_test_preds))\n",
    "print(\"Bagging MAE:\")\n",
    "print(mean_absolute_error(y_test, bg_test_preds))\n",
    "print(\"RandomForest MAE:\")\n",
    "print(mean_absolute_error(y_test, rf_test_preds))\n",
    "print(\"GradientBooster MAE:\")\n",
    "print(mean_absolute_error(y_test, gb_test_preds))\n",
    "print(\"XGB MAE:\")\n",
    "print(mean_absolute_error(y_test, xg_test_preds))"
   ]
  },
  {
   "cell_type": "code",
   "execution_count": 84,
   "id": "47e876ad",
   "metadata": {
    "id": "q2t6_8mVEvox"
   },
   "outputs": [],
   "source": [
    "# compile train and test predictors for metamodels\n",
    "all_test_preds = np.transpose(np.stack([ma_test_preds, bg_test_preds, rf_test_preds, gb_test_preds, xg_test_preds]))\n",
    "all_train_preds = np.transpose(np.stack([ma_train_preds, bg_train_preds, rf_train_preds, gb_train_preds, xg_train_preds]))"
   ]
  },
  {
   "cell_type": "code",
   "execution_count": 131,
   "id": "5082d7ca",
   "metadata": {
    "colab": {
     "base_uri": "https://localhost:8080/"
    },
    "id": "YyIZ5KEBMYPh",
    "outputId": "66e41a1c-c691-4cca-9412-d05a09d7038f"
   },
   "outputs": [
    {
     "name": "stdout",
     "output_type": "stream",
     "text": [
      "35671.828809594466\n"
     ]
    }
   ],
   "source": [
    "# VOTING MODEL\n",
    "meta_vt_test_preds = np.mean(all_test_preds, axis=1)\n",
    "meta_vt_train_preds = np.mean(all_train_preds, axis=1)\n",
    "print(mean_absolute_error(y_test, meta_vt_test_preds))"
   ]
  },
  {
   "cell_type": "code",
   "execution_count": 123,
   "id": "e3313336",
   "metadata": {
    "colab": {
     "base_uri": "https://localhost:8080/"
    },
    "id": "2N4Z47DVLrxs",
    "outputId": "31ef45d4-ae63-4cc8-e420-a1ca99fdbbc3"
   },
   "outputs": [
    {
     "name": "stdout",
     "output_type": "stream",
     "text": [
      "35758.66450925252\n"
     ]
    }
   ],
   "source": [
    "# STACKED LINEAR MODEL\n",
    "meta_ln = LinearRegression()\n",
    "meta_ln.fit(all_train_preds, y_train)\n",
    "meta_ln_test_preds = meta_ln.predict(all_test_preds)\n",
    "print(mean_absolute_error(y_test, meta_ln_test_preds))"
   ]
  },
  {
   "cell_type": "code",
   "execution_count": 133,
   "id": "a896db1b",
   "metadata": {
    "id": "fmpUaCO4jiR8"
   },
   "outputs": [],
   "source": [
    "meta_ln_train_preds = cross_val_predict(meta_ln, all_train_preds, y_train, cv = cv)"
   ]
  },
  {
   "cell_type": "code",
   "execution_count": 125,
   "id": "3f388505",
   "metadata": {
    "colab": {
     "base_uri": "https://localhost:8080/"
    },
    "id": "_5HfGZxWGhbd",
    "outputId": "98bc9bac-5932-422c-8f17-a0a9d287a01d"
   },
   "outputs": [
    {
     "name": "stdout",
     "output_type": "stream",
     "text": [
      "{'bootstrap': True, 'ccp_alpha': 0.1, 'max_depth': 10, 'max_features': 1}\n",
      "35606.6262933011\n"
     ]
    }
   ],
   "source": [
    "# STACKED RANDOM FOREST MODEL\n",
    "meta_rf_params = {\"max_features\": [1,2,3], \"max_depth\": [2, 5, 10], \"bootstrap\": [True, False], \"ccp_alpha\": [.001, .01, .1]}\n",
    "meta_rf = RandomForestRegressor(random_state=1)\n",
    "meta_rf_grid = GridSearchCV(meta_rf, meta_rf_params, scoring=\"neg_mean_absolute_error\", n_jobs=-1, cv=cv)\n",
    "meta_rf_grid.fit(all_train_preds, y_train)\n",
    "print(meta_rf_grid.best_params_)\n",
    "meta_rf_test_preds = meta_rf_grid.predict(all_test_preds)\n",
    "print(mean_absolute_error(y_test, meta_rf_test_preds))"
   ]
  },
  {
   "cell_type": "code",
   "execution_count": 126,
   "id": "9205a953",
   "metadata": {
    "id": "uWhmfbW2j9Dc"
   },
   "outputs": [],
   "source": [
    "meta_rf = RandomForestRegressor(random_state=1, bootstrap=True, ccp_alpha=.1, max_depth=10, max_features=1)\n",
    "meta_rf_train_preds = cross_val_predict(meta_rf, all_train_preds, y_train, cv = cv)"
   ]
  },
  {
   "cell_type": "code",
   "execution_count": 127,
   "id": "001c0764",
   "metadata": {
    "colab": {
     "base_uri": "https://localhost:8080/"
    },
    "id": "DmONZXQRNgUG",
    "outputId": "6f85c59f-f652-4332-fbad-5ac14cdc4aec"
   },
   "outputs": [
    {
     "name": "stdout",
     "output_type": "stream",
     "text": [
      "{'alpha': 0.5, 'learning_rate': 0.1, 'subsample': 1}\n",
      "36157.0764871618\n"
     ]
    }
   ],
   "source": [
    "# STACKED XGBOOST MODEL\n",
    "meta_xg_params = {\"subsample\": [.25, .5, .75, 1], \"learning_rate\": [.001, .01, .1], \"alpha\": [.05, .1, .5, 1]}\n",
    "meta_xg = xgb.XGBRegressor(random_state=1)\n",
    "meta_xg_grid = GridSearchCV(meta_xg, meta_xg_params, scoring=\"neg_mean_absolute_error\", n_jobs=-1, cv=cv)\n",
    "meta_xg_grid.fit(all_train_preds, y_train)\n",
    "print(meta_xg_grid.best_params_)\n",
    "meta_xg_test_preds = meta_xg_grid.predict(all_test_preds)\n",
    "print(mean_absolute_error(y_test, meta_xg_test_preds))"
   ]
  },
  {
   "cell_type": "code",
   "execution_count": 128,
   "id": "c865fd3d",
   "metadata": {
    "id": "YGkk3h-mkUx4"
   },
   "outputs": [],
   "source": [
    "meta_xg = xgb.XGBRegressor(random_state=1, alpha=.1, learning_rate=.1, subsample=1)\n",
    "meta_xg_train_preds = cross_val_predict(meta_xg, all_train_preds, y_train, cv = cv)"
   ]
  },
  {
   "cell_type": "code",
   "execution_count": 129,
   "id": "285a8f86",
   "metadata": {
    "colab": {
     "base_uri": "https://localhost:8080/"
    },
    "id": "JKML0ldWOTgF",
    "outputId": "afbe12ad-04d6-48bd-d31c-a8bcf2e55b78"
   },
   "outputs": [
    {
     "name": "stdout",
     "output_type": "stream",
     "text": [
      "35569.19911845313\n"
     ]
    }
   ],
   "source": [
    "# VOTING METAMETA MODEL\n",
    "meta_test_preds = np.transpose(np.stack([meta_vt_test_preds, meta_ln_test_preds.flatten(), meta_rf_test_preds]))\n",
    "metameta_test_preds = np.mean(meta_test_preds, axis=1)\n",
    "print(mean_absolute_error(metameta_test_preds, y_test))"
   ]
  },
  {
   "cell_type": "code",
   "execution_count": 134,
   "id": "1ce8058b",
   "metadata": {
    "colab": {
     "base_uri": "https://localhost:8080/"
    },
    "id": "eK1BNQWFkz_9",
    "outputId": "73d2ebe1-039f-45a6-cc85-8f1624a93337"
   },
   "outputs": [
    {
     "name": "stdout",
     "output_type": "stream",
     "text": [
      "35510.69402672526\n"
     ]
    }
   ],
   "source": [
    "# METAMETA LINEAR REGRESSION MODEL\n",
    "meta_extra_test_preds = np.transpose(np.stack([meta_vt_test_preds, meta_ln_test_preds.flatten(), meta_rf_test_preds, meta_xg_test_preds]))\n",
    "meta_train_preds = np.transpose(np.stack([meta_vt_train_preds, meta_ln_train_preds.flatten(), meta_rf_train_preds, meta_xg_train_preds]))\n",
    "metameta_ln_model = LinearRegression().fit(meta_train_preds, y_train)\n",
    "metameta_ln_test_preds = metameta_ln_model.predict(meta_extra_test_preds)\n",
    "print(mean_absolute_error(metameta_ln_test_preds, y_test))"
   ]
  },
  {
   "cell_type": "code",
   "execution_count": 138,
   "id": "c58c4469",
   "metadata": {
    "id": "W_HfsLTvmBMb"
   },
   "outputs": [],
   "source": [
    "# METAMETA RANDOM FOREST MODEL\n",
    "# metameta_rf_params = {\"max_features\": [1,2,3], \"max_depth\": [5, 10, 20], \"oob_score\": [True, False], \"ccp_alpha\": [.001, .01, .1]}\n",
    "# metameta_rf = RandomForestRegressor(random_state=1, bootstrap=True)\n",
    "# metameta_rf_grid = GridSearchCV(metameta_rf, metameta_rf_params, scoring=\"neg_mean_absolute_error\", n_jobs=-1, cv=cv)\n",
    "# metameta_rf_grid.fit(meta_train_preds, y_train)\n",
    "# print(metameta_rf_grid.best_params_)\n",
    "# metameta_rf_test_preds = metameta_rf_grid.predict(meta_extra_test_preds)\n",
    "# print(mean_absolute_error(y_test, metameta_rf_test_preds))"
   ]
  },
  {
   "attachments": {},
   "cell_type": "markdown",
   "id": "73042198",
   "metadata": {},
   "source": [
    "this model was bad."
   ]
  },
  {
   "attachments": {},
   "cell_type": "markdown",
   "id": "c7036767",
   "metadata": {},
   "source": [
    "## Results of each base model and ensembled model"
   ]
  },
  {
   "cell_type": "code",
   "execution_count": 136,
   "id": "15221879",
   "metadata": {
    "colab": {
     "base_uri": "https://localhost:8080/",
     "height": 394
    },
    "id": "BPC1YyG3bSfC",
    "outputId": "27a01e60-3770-4c79-9e2c-652074da5f55"
   },
   "outputs": [
    {
     "data": {
      "text/html": [
       "\n",
       "  <div id=\"df-a44fcd89-383f-4d93-9015-d9aa329f5066\">\n",
       "    <div class=\"colab-df-container\">\n",
       "      <div>\n",
       "<style scoped>\n",
       "    .dataframe tbody tr th:only-of-type {\n",
       "        vertical-align: middle;\n",
       "    }\n",
       "\n",
       "    .dataframe tbody tr th {\n",
       "        vertical-align: top;\n",
       "    }\n",
       "\n",
       "    .dataframe thead th {\n",
       "        text-align: right;\n",
       "    }\n",
       "</style>\n",
       "<table border=\"1\" class=\"dataframe\">\n",
       "  <thead>\n",
       "    <tr style=\"text-align: right;\">\n",
       "      <th></th>\n",
       "      <th>model_type</th>\n",
       "      <th>model</th>\n",
       "      <th>model_level</th>\n",
       "      <th>MAE</th>\n",
       "      <th>RMSE</th>\n",
       "    </tr>\n",
       "  </thead>\n",
       "  <tbody>\n",
       "    <tr>\n",
       "      <th>0</th>\n",
       "      <td>MARS</td>\n",
       "      <td>Earth(max_degree=1, max_terms=50)</td>\n",
       "      <td>1</td>\n",
       "      <td>36966.129095</td>\n",
       "      <td>49756.778999</td>\n",
       "    </tr>\n",
       "    <tr>\n",
       "      <th>1</th>\n",
       "      <td>BaggingRegressor</td>\n",
       "      <td>(DecisionTreeRegressor(random_state=1028862084...</td>\n",
       "      <td>1</td>\n",
       "      <td>35962.314085</td>\n",
       "      <td>49008.562799</td>\n",
       "    </tr>\n",
       "    <tr>\n",
       "      <th>2</th>\n",
       "      <td>RandomForestRegressor</td>\n",
       "      <td>(DecisionTreeRegressor(ccp_alpha=0.075, criter...</td>\n",
       "      <td>1</td>\n",
       "      <td>36044.760514</td>\n",
       "      <td>50005.958054</td>\n",
       "    </tr>\n",
       "    <tr>\n",
       "      <th>3</th>\n",
       "      <td>GradientBoostingRegressor</td>\n",
       "      <td>([DecisionTreeRegressor(criterion='friedman_ms...</td>\n",
       "      <td>1</td>\n",
       "      <td>36033.635123</td>\n",
       "      <td>49690.104180</td>\n",
       "    </tr>\n",
       "    <tr>\n",
       "      <th>4</th>\n",
       "      <td>XGBRegressor</td>\n",
       "      <td>XGBRegressor(base_score=None, booster=None, ca...</td>\n",
       "      <td>1</td>\n",
       "      <td>35679.131676</td>\n",
       "      <td>49125.461608</td>\n",
       "    </tr>\n",
       "    <tr>\n",
       "      <th>5</th>\n",
       "      <td>Voting</td>\n",
       "      <td>&lt;function mean at 0x7ff4ea7c12d0&gt;</td>\n",
       "      <td>2</td>\n",
       "      <td>35671.828810</td>\n",
       "      <td>48979.558239</td>\n",
       "    </tr>\n",
       "    <tr>\n",
       "      <th>6</th>\n",
       "      <td>LinearRegression</td>\n",
       "      <td>LinearRegression()</td>\n",
       "      <td>2</td>\n",
       "      <td>35758.664509</td>\n",
       "      <td>48984.964197</td>\n",
       "    </tr>\n",
       "    <tr>\n",
       "      <th>7</th>\n",
       "      <td>RandomForestRegressor</td>\n",
       "      <td>RandomForestRegressor(ccp_alpha=0.1, max_depth...</td>\n",
       "      <td>2</td>\n",
       "      <td>35606.626293</td>\n",
       "      <td>48882.229066</td>\n",
       "    </tr>\n",
       "    <tr>\n",
       "      <th>8</th>\n",
       "      <td>XGBRegressor</td>\n",
       "      <td>XGBRegressor(alpha=0.1, base_score=None, boost...</td>\n",
       "      <td>2</td>\n",
       "      <td>36157.076487</td>\n",
       "      <td>49247.803209</td>\n",
       "    </tr>\n",
       "    <tr>\n",
       "      <th>9</th>\n",
       "      <td>Voting</td>\n",
       "      <td>&lt;function mean at 0x7ff4ea7c12d0&gt;</td>\n",
       "      <td>3</td>\n",
       "      <td>35569.199118</td>\n",
       "      <td>48816.591080</td>\n",
       "    </tr>\n",
       "    <tr>\n",
       "      <th>10</th>\n",
       "      <td>LinearRegression</td>\n",
       "      <td>LinearRegression()</td>\n",
       "      <td>3</td>\n",
       "      <td>35510.694027</td>\n",
       "      <td>48692.780073</td>\n",
       "    </tr>\n",
       "  </tbody>\n",
       "</table>\n",
       "</div>\n",
       "      <button class=\"colab-df-convert\" onclick=\"convertToInteractive('df-a44fcd89-383f-4d93-9015-d9aa329f5066')\"\n",
       "              title=\"Convert this dataframe to an interactive table.\"\n",
       "              style=\"display:none;\">\n",
       "        \n",
       "  <svg xmlns=\"http://www.w3.org/2000/svg\" height=\"24px\"viewBox=\"0 0 24 24\"\n",
       "       width=\"24px\">\n",
       "    <path d=\"M0 0h24v24H0V0z\" fill=\"none\"/>\n",
       "    <path d=\"M18.56 5.44l.94 2.06.94-2.06 2.06-.94-2.06-.94-.94-2.06-.94 2.06-2.06.94zm-11 1L8.5 8.5l.94-2.06 2.06-.94-2.06-.94L8.5 2.5l-.94 2.06-2.06.94zm10 10l.94 2.06.94-2.06 2.06-.94-2.06-.94-.94-2.06-.94 2.06-2.06.94z\"/><path d=\"M17.41 7.96l-1.37-1.37c-.4-.4-.92-.59-1.43-.59-.52 0-1.04.2-1.43.59L10.3 9.45l-7.72 7.72c-.78.78-.78 2.05 0 2.83L4 21.41c.39.39.9.59 1.41.59.51 0 1.02-.2 1.41-.59l7.78-7.78 2.81-2.81c.8-.78.8-2.07 0-2.86zM5.41 20L4 18.59l7.72-7.72 1.47 1.35L5.41 20z\"/>\n",
       "  </svg>\n",
       "      </button>\n",
       "      \n",
       "  <style>\n",
       "    .colab-df-container {\n",
       "      display:flex;\n",
       "      flex-wrap:wrap;\n",
       "      gap: 12px;\n",
       "    }\n",
       "\n",
       "    .colab-df-convert {\n",
       "      background-color: #E8F0FE;\n",
       "      border: none;\n",
       "      border-radius: 50%;\n",
       "      cursor: pointer;\n",
       "      display: none;\n",
       "      fill: #1967D2;\n",
       "      height: 32px;\n",
       "      padding: 0 0 0 0;\n",
       "      width: 32px;\n",
       "    }\n",
       "\n",
       "    .colab-df-convert:hover {\n",
       "      background-color: #E2EBFA;\n",
       "      box-shadow: 0px 1px 2px rgba(60, 64, 67, 0.3), 0px 1px 3px 1px rgba(60, 64, 67, 0.15);\n",
       "      fill: #174EA6;\n",
       "    }\n",
       "\n",
       "    [theme=dark] .colab-df-convert {\n",
       "      background-color: #3B4455;\n",
       "      fill: #D2E3FC;\n",
       "    }\n",
       "\n",
       "    [theme=dark] .colab-df-convert:hover {\n",
       "      background-color: #434B5C;\n",
       "      box-shadow: 0px 1px 3px 1px rgba(0, 0, 0, 0.15);\n",
       "      filter: drop-shadow(0px 1px 2px rgba(0, 0, 0, 0.3));\n",
       "      fill: #FFFFFF;\n",
       "    }\n",
       "  </style>\n",
       "\n",
       "      <script>\n",
       "        const buttonEl =\n",
       "          document.querySelector('#df-a44fcd89-383f-4d93-9015-d9aa329f5066 button.colab-df-convert');\n",
       "        buttonEl.style.display =\n",
       "          google.colab.kernel.accessAllowed ? 'block' : 'none';\n",
       "\n",
       "        async function convertToInteractive(key) {\n",
       "          const element = document.querySelector('#df-a44fcd89-383f-4d93-9015-d9aa329f5066');\n",
       "          const dataTable =\n",
       "            await google.colab.kernel.invokeFunction('convertToInteractive',\n",
       "                                                     [key], {});\n",
       "          if (!dataTable) return;\n",
       "\n",
       "          const docLinkHtml = 'Like what you see? Visit the ' +\n",
       "            '<a target=\"_blank\" href=https://colab.research.google.com/notebooks/data_table.ipynb>data table notebook</a>'\n",
       "            + ' to learn more about interactive tables.';\n",
       "          element.innerHTML = '';\n",
       "          dataTable['output_type'] = 'display_data';\n",
       "          await google.colab.output.renderOutput(dataTable, element);\n",
       "          const docLink = document.createElement('div');\n",
       "          docLink.innerHTML = docLinkHtml;\n",
       "          element.appendChild(docLink);\n",
       "        }\n",
       "      </script>\n",
       "    </div>\n",
       "  </div>\n",
       "  "
      ],
      "text/plain": [
       "                   model_type  \\\n",
       "0                        MARS   \n",
       "1            BaggingRegressor   \n",
       "2       RandomForestRegressor   \n",
       "3   GradientBoostingRegressor   \n",
       "4                XGBRegressor   \n",
       "5                      Voting   \n",
       "6            LinearRegression   \n",
       "7       RandomForestRegressor   \n",
       "8                XGBRegressor   \n",
       "9                      Voting   \n",
       "10           LinearRegression   \n",
       "\n",
       "                                                model  model_level  \\\n",
       "0                   Earth(max_degree=1, max_terms=50)            1   \n",
       "1   (DecisionTreeRegressor(random_state=1028862084...            1   \n",
       "2   (DecisionTreeRegressor(ccp_alpha=0.075, criter...            1   \n",
       "3   ([DecisionTreeRegressor(criterion='friedman_ms...            1   \n",
       "4   XGBRegressor(base_score=None, booster=None, ca...            1   \n",
       "5                   <function mean at 0x7ff4ea7c12d0>            2   \n",
       "6                                  LinearRegression()            2   \n",
       "7   RandomForestRegressor(ccp_alpha=0.1, max_depth...            2   \n",
       "8   XGBRegressor(alpha=0.1, base_score=None, boost...            2   \n",
       "9                   <function mean at 0x7ff4ea7c12d0>            3   \n",
       "10                                 LinearRegression()            3   \n",
       "\n",
       "             MAE          RMSE  \n",
       "0   36966.129095  49756.778999  \n",
       "1   35962.314085  49008.562799  \n",
       "2   36044.760514  50005.958054  \n",
       "3   36033.635123  49690.104180  \n",
       "4   35679.131676  49125.461608  \n",
       "5   35671.828810  48979.558239  \n",
       "6   35758.664509  48984.964197  \n",
       "7   35606.626293  48882.229066  \n",
       "8   36157.076487  49247.803209  \n",
       "9   35569.199118  48816.591080  \n",
       "10  35510.694027  48692.780073  "
      ]
     },
     "execution_count": 136,
     "metadata": {},
     "output_type": "execute_result"
    }
   ],
   "source": [
    "col1 = 'model_type'\n",
    "list1 = ['MARS', 'BaggingRegressor', 'RandomForestRegressor', 'GradientBoostingRegressor', 'XGBRegressor', 'Voting', 'LinearRegression', 'RandomForestRegressor', 'XGBRegressor', 'Voting', 'LinearRegression']\n",
    "col2 = \"model\"\n",
    "list2 = [ma, bg, rf, gb, xg, np.mean, meta_ln, meta_rf, meta_xg, np.mean, metameta_ln_model]\n",
    "col3 = 'test_predictions'\n",
    "list3 = [ma_test_preds, bg_test_preds, rf_test_preds, gb_test_preds, xg_test_preds, meta_vt_test_preds, meta_ln_test_preds, meta_rf_test_preds, meta_xg_test_preds, metameta_test_preds, metameta_ln_test_preds]\n",
    "col4 = 'model_level'\n",
    "list4 = [1,1,1,1,1,2,2,2,2,3,3]\n",
    "all_models = pd.DataFrame(data = {col1:list1, col2:list2, col4:list4})\n",
    "all_models[\"MAE\"] = list(map(lambda x: mean_absolute_error(x, y_test), list3))\n",
    "all_models[\"RMSE\"] = list(map(lambda x: np.sqrt(mean_squared_error(x, y_test)), list3))\n",
    "all_models"
   ]
  },
  {
   "cell_type": "code",
   "execution_count": 143,
   "id": "3f57249c",
   "metadata": {
    "id": "snB56ytTnZA7"
   },
   "outputs": [],
   "source": [
    "# export final predictions into a csv file\n",
    "y_test_array = np.asarray(y_test).flatten()\n",
    "final = pd.DataFrame(data = {\"predicted\": metameta_ln_test_preds.flatten(), \"y_true\": y_test_array})\n",
    "final.to_csv(\"final_predictions.csv\")"
   ]
  },
  {
   "attachments": {},
   "cell_type": "markdown",
   "id": "64b975c7",
   "metadata": {},
   "source": [
    "# Limitations\n",
    "*By Charles Bugayer*"
   ]
  },
  {
   "attachments": {},
   "cell_type": "markdown",
   "id": "f4510ae4",
   "metadata": {},
   "source": [
    "Our model is limited by the fact that we only have 4134 observations. This is a relatively small dataset, and we would have liked to have more observations to train our model on. We were able to predict salaries with a MAE of 35510.69, which is a relatively large error. We would have liked to have a smaller error, but we believe that this is the best we could do with the data we had.\n"
   ]
  },
  {
   "attachments": {},
   "cell_type": "markdown",
   "id": "03dba41c",
   "metadata": {},
   "source": [
    "# Conclusions and Recommendations\n",
    "*By Charles Bugayer*"
   ]
  },
  {
   "attachments": {},
   "cell_type": "markdown",
   "id": "a4f6197c",
   "metadata": {},
   "source": [
    "Being that for our models, employee_residence_US was an important feature, it is clear that both companies and employees should be aware of the differences in salaries between countries. \n",
    "\n",
    "Because our model doesn't predict salaries above $350k, we recommend that companies and employees be aware of the fact that our model is not accurate for salaries above this amount. "
   ]
  },
  {
   "attachments": {},
   "cell_type": "markdown",
   "id": "a32e376e",
   "metadata": {},
   "source": []
  }
 ],
 "metadata": {
  "kernelspec": {
   "display_name": "Python 3 (ipykernel)",
   "language": "python",
   "name": "python3"
  },
  "language_info": {
   "codemirror_mode": {
    "name": "ipython",
    "version": 3
   },
   "file_extension": ".py",
   "mimetype": "text/x-python",
   "name": "python",
   "nbconvert_exporter": "python",
   "pygments_lexer": "ipython3",
   "version": "3.9.12"
  }
 },
 "nbformat": 4,
 "nbformat_minor": 5
}
