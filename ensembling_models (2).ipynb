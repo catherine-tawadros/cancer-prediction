{
 "cells": [
  {
   "cell_type": "code",
   "execution_count": 7,
   "metadata": {
    "id": "WbU_roix3CzU"
   },
   "outputs": [],
   "source": [
    "import pandas as pd\n",
    "import numpy as np\n",
    "import seaborn as sns\n",
    "import matplotlib.pyplot as plt\n",
    "from sklearn.metrics import mean_squared_error\n",
    "from sklearn.model_selection import cross_val_score,train_test_split, GridSearchCV, ParameterGrid, StratifiedKFold, RandomizedSearchCV, cross_val_predict\n",
    "from sklearn.metrics import mean_squared_error,r2_score,roc_curve,auc,precision_recall_curve, accuracy_score,mean_absolute_error\n",
    "from sklearn.model_selection import KFold\n",
    "from sklearn.tree import DecisionTreeRegressor,DecisionTreeClassifier\n",
    "from sklearn.ensemble import VotingRegressor, VotingClassifier, StackingRegressor, StackingClassifier, GradientBoostingRegressor,GradientBoostingClassifier, BaggingRegressor,BaggingClassifier,RandomForestRegressor,RandomForestClassifier,AdaBoostRegressor,AdaBoostClassifier\n",
    "from sklearn.linear_model import LinearRegression,LogisticRegression, LassoCV, RidgeCV, ElasticNetCV\n",
    "from sklearn.neighbors import KNeighborsRegressor\n",
    "import itertools as it\n",
    "import time as time\n",
    "import xgboost as xgb\n",
    "from sklearn.experimental import enable_iterative_imputer\n",
    "from sklearn.impute import IterativeImputer\n",
    "from pyearth import Earth\n",
    "import warnings\n",
    "warnings.filterwarnings('ignore')"
   ]
  },
  {
   "cell_type": "code",
   "execution_count": 2,
   "metadata": {
    "id": "d6udQtP763Y0"
   },
   "outputs": [],
   "source": [
    "X_train = pd.read_csv(\"X_train.csv\", index_col=0)\n",
    "X_test = pd.read_csv(\"X_test.csv\", index_col=0)\n",
    "y_train = pd.read_csv(\"y_train.csv\", index_col=0)\n",
    "y_test = pd.read_csv(\"y_test.csv\", index_col=0)\n",
    "cv = KFold(5, shuffle=True, random_state=12)"
   ]
  },
  {
   "cell_type": "code",
   "execution_count": 53,
   "metadata": {
    "id": "rXpmc_lTDloj"
   },
   "outputs": [],
   "source": [
    "# MARS MODEL\n",
    "ma = Earth(max_terms=50, max_degree=1)\n",
    "ma_train_preds = cross_val_predict(ma, X_train, y_train, cv = cv)\n",
    "ma_train_preds_df = pd.DataFrame(ma_train_preds)\n",
    "ma_train_preds_df.to_csv(\"ma_train_preds.csv\")"
   ]
  },
  {
   "cell_type": "code",
   "execution_count": 54,
   "metadata": {
    "id": "d015LwoCWccR"
   },
   "outputs": [],
   "source": [
    "ma.fit(X_train, y_train)\n",
    "ma_test_preds = ma.predict(X_test)\n",
    "ma_test_preds_df = pd.DataFrame(ma_test_preds)\n",
    "ma_test_preds_df.to_csv(\"ma_test_preds.csv\")"
   ]
  },
  {
   "cell_type": "code",
   "execution_count": 52,
   "metadata": {
    "id": "FDBo3xK2VNWO"
   },
   "outputs": [],
   "source": [
    "# BAGGING MODEL\n",
    "bg = BaggingRegressor(base_estimator=DecisionTreeRegressor(random_state=1), random_state=1, n_estimators=200, bootstrap=True, bootstrap_features=False, max_features=.75, max_samples=.5)\n",
    "bg.fit(X_train, y_train)\n",
    "bg_train_preds = cross_val_predict(bg, X_train, y_train, cv = cv)\n",
    "bg_train_preds_df = pd.DataFrame(bg_train_preds)\n",
    "bg_train_preds_df.to_csv(\"bg_train_preds.csv\")"
   ]
  },
  {
   "cell_type": "code",
   "execution_count": 55,
   "metadata": {
    "id": "PIG4gxR-WEqN"
   },
   "outputs": [],
   "source": [
    "bg.fit(X_train, y_train)\n",
    "bg_test_preds = bg.predict(X_test)\n",
    "bg_test_preds_df = pd.DataFrame(bg_test_preds)\n",
    "bg_test_preds_df.to_csv(\"bg_test_preds.csv\")"
   ]
  },
  {
   "cell_type": "code",
   "execution_count": 80,
   "metadata": {
    "id": "vXJ8TqKh-r7M"
   },
   "outputs": [],
   "source": [
    "# RANDOM FOREST MODEL\n",
    "rf = RandomForestRegressor(random_state=1, criterion=\"absolute_error\", n_estimators=100, max_leaf_nodes=2400, max_features=4, max_depth=36, oob_score=True, bootstrap=True, ccp_alpha=.075)\n",
    "rf.fit(X_train, y_train)\n",
    "rf_train_preds = cross_val_predict(rf, X_train, y_train, cv = cv)\n",
    "rf_train_preds_df = pd.DataFrame(rf_train_preds)\n",
    "rf_train_preds_df.to_csv(\"rf_train_preds.csv\")"
   ]
  },
  {
   "cell_type": "code",
   "execution_count": 81,
   "metadata": {
    "id": "2hldoxhmKrgj"
   },
   "outputs": [],
   "source": [
    "rf.fit(X_train, y_train)\n",
    "rf_test_preds = rf.predict(X_test)\n",
    "rf_test_preds_df = pd.DataFrame(rf_test_preds)\n",
    "rf_test_preds_df.to_csv(\"rf_test_preds.csv\")"
   ]
  },
  {
   "cell_type": "code",
   "execution_count": 4,
   "metadata": {
    "id": "VytDAqXLBMQ0"
   },
   "outputs": [],
   "source": [
    "# GRADIENT BOOSTING MODEL\n",
    "gb = GradientBoostingRegressor(random_state=1, n_estimators=189, max_depth=3, learning_rate=0.095, subsample=1.0, min_samples_split=7, min_samples_leaf=1, min_weight_fraction_leaf=0, loss='huber')\n",
    "gb_train_preds = cross_val_predict(gb, X_train, y_train, cv = cv)\n",
    "gb_train_preds_df = pd.DataFrame(rf_train_preds)\n",
    "gb_train_preds_df.to_csv(\"gb_train_preds.csv\")"
   ]
  },
  {
   "cell_type": "code",
   "execution_count": 28,
   "metadata": {
    "id": "o_g99j_mKmsm"
   },
   "outputs": [],
   "source": [
    "gb.fit(X_train, y_train)\n",
    "gb_test_preds = gb.predict(X_test)\n",
    "gb_test_preds_df = pd.DataFrame(gb_test_preds)\n",
    "gb_test_preds_df.to_csv(\"gb_test_preds.csv\")"
   ]
  },
  {
   "cell_type": "code",
   "execution_count": 8,
   "metadata": {
    "colab": {
     "base_uri": "https://localhost:8080/"
    },
    "id": "i2zz2vhsDAbX",
    "outputId": "32fd0dee-9cd6-4d05-b198-46e6546569d5"
   },
   "outputs": [
    {
     "name": "stdout",
     "output_type": "stream",
     "text": [
      "[04:17:00] WARNING: ../src/learner.cc:767: \n",
      "Parameters: { \"loss\" } are not used.\n",
      "\n",
      "[04:18:00] WARNING: ../src/learner.cc:767: \n",
      "Parameters: { \"loss\" } are not used.\n",
      "\n",
      "[04:18:34] WARNING: ../src/learner.cc:767: \n",
      "Parameters: { \"loss\" } are not used.\n",
      "\n",
      "[04:19:28] WARNING: ../src/learner.cc:767: \n",
      "Parameters: { \"loss\" } are not used.\n",
      "\n",
      "[04:20:02] WARNING: ../src/learner.cc:767: \n",
      "Parameters: { \"loss\" } are not used.\n",
      "\n"
     ]
    }
   ],
   "source": [
    "# XGB MODEL\n",
    "xg = xgb.XGBRegressor(max_depth=7,n_estimators=1500,learning_rate=0.01, reg_lambda= 100,\n",
    "                         random_state=1,subsample=0.625,gamma=10)\n",
    "xg_train_preds = cross_val_predict(xg, X_train, y_train, cv = cv)\n",
    "xg_train_preds_df = pd.DataFrame(xg_train_preds)\n",
    "xg_train_preds_df.to_csv(\"xg_train_preds.csv\")"
   ]
  },
  {
   "cell_type": "code",
   "execution_count": 13,
   "metadata": {
    "colab": {
     "base_uri": "https://localhost:8080/"
    },
    "id": "80ISPgULFiNe",
    "outputId": "dda69c25-c738-4687-a2d0-93154390a8e0"
   },
   "outputs": [
    {
     "name": "stdout",
     "output_type": "stream",
     "text": [
      "[04:22:45] WARNING: ../src/learner.cc:767: \n",
      "Parameters: { \"loss\" } are not used.\n",
      "\n"
     ]
    }
   ],
   "source": [
    "xg.fit(X_train, y_train)\n",
    "xg_test_preds = xg.predict(X_test)\n",
    "xg_test_preds_df = pd.DataFrame(xg_test_preds)\n",
    "xg_test_preds_df.to_csv(\"xg_test_preds.csv\")"
   ]
  },
  {
   "cell_type": "code",
   "execution_count": 82,
   "metadata": {
    "id": "OAvPvb9b5IvS"
   },
   "outputs": [],
   "source": [
    "# read in test predictions\n",
    "ma_test_preds_csv = pd.read_csv(\"ma_test_preds.csv\")\n",
    "bg_test_preds_csv = pd.read_csv(\"bg_test_preds.csv\")\n",
    "rf_test_preds_csv = pd.read_csv(\"rf_test_preds.csv\")\n",
    "gb_test_preds_csv = pd.read_csv(\"gb_test_preds.csv\")\n",
    "xg_test_preds_csv = pd.read_csv(\"xg_test_preds.csv\")\n",
    "ma_test_preds = np.asarray(ma_test_preds_csv[\"0\"])\n",
    "bg_test_preds = np.asarray(bg_test_preds_csv[\"0\"])\n",
    "rf_test_preds = np.asarray(rf_test_preds_csv[\"0\"])\n",
    "gb_test_preds = np.asarray(gb_test_preds_csv[\"0\"])\n",
    "xg_test_preds = np.asarray(xg_test_preds_csv[\"0\"])"
   ]
  },
  {
   "cell_type": "code",
   "execution_count": 83,
   "metadata": {
    "colab": {
     "base_uri": "https://localhost:8080/"
    },
    "id": "ffmMnS-xKOP6",
    "outputId": "39528208-0013-4442-9124-46495381aa69"
   },
   "outputs": [
    {
     "name": "stdout",
     "output_type": "stream",
     "text": [
      "MARS MAE:\n",
      "36966.12909507691\n",
      "Bagging MAE:\n",
      "35962.31408492376\n",
      "RandomForest MAE:\n",
      "36044.76051390568\n",
      "GradientBooster MAE:\n",
      "36033.63512253498\n",
      "XGB MAE:\n",
      "35679.131675937126\n"
     ]
    }
   ],
   "source": [
    "# base model MAEs for future comparison\n",
    "print(\"MARS MAE:\")\n",
    "print(mean_absolute_error(y_test, ma_test_preds))\n",
    "print(\"Bagging MAE:\")\n",
    "print(mean_absolute_error(y_test, bg_test_preds))\n",
    "print(\"RandomForest MAE:\")\n",
    "print(mean_absolute_error(y_test, rf_test_preds))\n",
    "print(\"GradientBooster MAE:\")\n",
    "print(mean_absolute_error(y_test, gb_test_preds))\n",
    "print(\"XGB MAE:\")\n",
    "print(mean_absolute_error(y_test, xg_test_preds))"
   ]
  },
  {
   "cell_type": "code",
   "execution_count": 84,
   "metadata": {
    "id": "q2t6_8mVEvox"
   },
   "outputs": [],
   "source": [
    "# compile train and test predictors for metamodels\n",
    "all_test_preds = np.transpose(np.stack([ma_test_preds, bg_test_preds, rf_test_preds, gb_test_preds, xg_test_preds]))\n",
    "all_train_preds = np.transpose(np.stack([ma_train_preds, bg_train_preds, rf_train_preds, gb_train_preds, xg_train_preds]))"
   ]
  },
  {
   "cell_type": "code",
   "execution_count": 131,
   "metadata": {
    "colab": {
     "base_uri": "https://localhost:8080/"
    },
    "id": "YyIZ5KEBMYPh",
    "outputId": "66e41a1c-c691-4cca-9412-d05a09d7038f"
   },
   "outputs": [
    {
     "name": "stdout",
     "output_type": "stream",
     "text": [
      "35671.828809594466\n"
     ]
    }
   ],
   "source": [
    "# VOTING MODEL\n",
    "meta_vt_test_preds = np.mean(all_test_preds, axis=1)\n",
    "meta_vt_train_preds = np.mean(all_train_preds, axis=1)\n",
    "print(mean_absolute_error(y_test, meta_vt_test_preds))"
   ]
  },
  {
   "cell_type": "code",
   "execution_count": 123,
   "metadata": {
    "colab": {
     "base_uri": "https://localhost:8080/"
    },
    "id": "2N4Z47DVLrxs",
    "outputId": "31ef45d4-ae63-4cc8-e420-a1ca99fdbbc3"
   },
   "outputs": [
    {
     "name": "stdout",
     "output_type": "stream",
     "text": [
      "35758.66450925252\n"
     ]
    }
   ],
   "source": [
    "# STACKED LINEAR MODEL\n",
    "meta_ln = LinearRegression()\n",
    "meta_ln.fit(all_train_preds, y_train)\n",
    "meta_ln_test_preds = meta_ln.predict(all_test_preds)\n",
    "print(mean_absolute_error(y_test, meta_ln_test_preds))"
   ]
  },
  {
   "cell_type": "code",
   "execution_count": 133,
   "metadata": {
    "id": "fmpUaCO4jiR8"
   },
   "outputs": [],
   "source": [
    "meta_ln_train_preds = cross_val_predict(meta_ln, all_train_preds, y_train, cv = cv)"
   ]
  },
  {
   "cell_type": "code",
   "execution_count": 125,
   "metadata": {
    "colab": {
     "base_uri": "https://localhost:8080/"
    },
    "id": "_5HfGZxWGhbd",
    "outputId": "98bc9bac-5932-422c-8f17-a0a9d287a01d"
   },
   "outputs": [
    {
     "name": "stdout",
     "output_type": "stream",
     "text": [
      "{'bootstrap': True, 'ccp_alpha': 0.1, 'max_depth': 10, 'max_features': 1}\n",
      "35606.6262933011\n"
     ]
    }
   ],
   "source": [
    "# STACKED RANDOM FOREST MODEL\n",
    "meta_rf_params = {\"max_features\": [1,2,3], \"max_depth\": [2, 5, 10], \"bootstrap\": [True, False], \"ccp_alpha\": [.001, .01, .1]}\n",
    "meta_rf = RandomForestRegressor(random_state=1)\n",
    "meta_rf_grid = GridSearchCV(meta_rf, meta_rf_params, scoring=\"neg_mean_absolute_error\", n_jobs=-1, cv=cv)\n",
    "meta_rf_grid.fit(all_train_preds, y_train)\n",
    "print(meta_rf_grid.best_params_)\n",
    "meta_rf_test_preds = meta_rf_grid.predict(all_test_preds)\n",
    "print(mean_absolute_error(y_test, meta_rf_test_preds))"
   ]
  },
  {
   "cell_type": "code",
   "execution_count": 126,
   "metadata": {
    "id": "uWhmfbW2j9Dc"
   },
   "outputs": [],
   "source": [
    "meta_rf = RandomForestRegressor(random_state=1, bootstrap=True, ccp_alpha=.1, max_depth=10, max_features=1)\n",
    "meta_rf_train_preds = cross_val_predict(meta_rf, all_train_preds, y_train, cv = cv)"
   ]
  },
  {
   "cell_type": "code",
   "execution_count": 127,
   "metadata": {
    "colab": {
     "base_uri": "https://localhost:8080/"
    },
    "id": "DmONZXQRNgUG",
    "outputId": "6f85c59f-f652-4332-fbad-5ac14cdc4aec"
   },
   "outputs": [
    {
     "name": "stdout",
     "output_type": "stream",
     "text": [
      "{'alpha': 0.5, 'learning_rate': 0.1, 'subsample': 1}\n",
      "36157.0764871618\n"
     ]
    }
   ],
   "source": [
    "# STACKED XGBOOST MODEL\n",
    "meta_xg_params = {\"subsample\": [.25, .5, .75, 1], \"learning_rate\": [.001, .01, .1], \"alpha\": [.05, .1, .5, 1]}\n",
    "meta_xg = xgb.XGBRegressor(random_state=1)\n",
    "meta_xg_grid = GridSearchCV(meta_xg, meta_xg_params, scoring=\"neg_mean_absolute_error\", n_jobs=-1, cv=cv)\n",
    "meta_xg_grid.fit(all_train_preds, y_train)\n",
    "print(meta_xg_grid.best_params_)\n",
    "meta_xg_test_preds = meta_xg_grid.predict(all_test_preds)\n",
    "print(mean_absolute_error(y_test, meta_xg_test_preds))"
   ]
  },
  {
   "cell_type": "code",
   "execution_count": 128,
   "metadata": {
    "id": "YGkk3h-mkUx4"
   },
   "outputs": [],
   "source": [
    "meta_xg = xgb.XGBRegressor(random_state=1, alpha=.1, learning_rate=.1, subsample=1)\n",
    "meta_xg_train_preds = cross_val_predict(meta_xg, all_train_preds, y_train, cv = cv)"
   ]
  },
  {
   "cell_type": "code",
   "execution_count": 129,
   "metadata": {
    "colab": {
     "base_uri": "https://localhost:8080/"
    },
    "id": "JKML0ldWOTgF",
    "outputId": "afbe12ad-04d6-48bd-d31c-a8bcf2e55b78"
   },
   "outputs": [
    {
     "name": "stdout",
     "output_type": "stream",
     "text": [
      "35569.19911845313\n"
     ]
    }
   ],
   "source": [
    "# VOTING METAMETA MODEL\n",
    "meta_test_preds = np.transpose(np.stack([meta_vt_test_preds, meta_ln_test_preds.flatten(), meta_rf_test_preds]))\n",
    "metameta_test_preds = np.mean(meta_test_preds, axis=1)\n",
    "print(mean_absolute_error(metameta_test_preds, y_test))"
   ]
  },
  {
   "cell_type": "code",
   "execution_count": 134,
   "metadata": {
    "colab": {
     "base_uri": "https://localhost:8080/"
    },
    "id": "eK1BNQWFkz_9",
    "outputId": "73d2ebe1-039f-45a6-cc85-8f1624a93337"
   },
   "outputs": [
    {
     "name": "stdout",
     "output_type": "stream",
     "text": [
      "35510.69402672526\n"
     ]
    }
   ],
   "source": [
    "# METAMETA LINEAR REGRESSION MODEL\n",
    "meta_extra_test_preds = np.transpose(np.stack([meta_vt_test_preds, meta_ln_test_preds.flatten(), meta_rf_test_preds, meta_xg_test_preds]))\n",
    "meta_train_preds = np.transpose(np.stack([meta_vt_train_preds, meta_ln_train_preds.flatten(), meta_rf_train_preds, meta_xg_train_preds]))\n",
    "metameta_ln_model = LinearRegression().fit(meta_train_preds, y_train)\n",
    "metameta_ln_test_preds = metameta_ln_model.predict(meta_extra_test_preds)\n",
    "print(mean_absolute_error(metameta_ln_test_preds, y_test))"
   ]
  },
  {
   "cell_type": "code",
   "execution_count": 138,
   "metadata": {
    "id": "W_HfsLTvmBMb"
   },
   "outputs": [],
   "source": [
    "# METAMETA RANDOM FOREST MODEL\n",
    "# metameta_rf_params = {\"max_features\": [1,2,3], \"max_depth\": [5, 10, 20], \"oob_score\": [True, False], \"ccp_alpha\": [.001, .01, .1]}\n",
    "# metameta_rf = RandomForestRegressor(random_state=1, bootstrap=True)\n",
    "# metameta_rf_grid = GridSearchCV(metameta_rf, metameta_rf_params, scoring=\"neg_mean_absolute_error\", n_jobs=-1, cv=cv)\n",
    "# metameta_rf_grid.fit(meta_train_preds, y_train)\n",
    "# print(metameta_rf_grid.best_params_)\n",
    "# metameta_rf_test_preds = metameta_rf_grid.predict(meta_extra_test_preds)\n",
    "# print(mean_absolute_error(y_test, metameta_rf_test_preds))"
   ]
  },
  {
   "cell_type": "code",
   "execution_count": 136,
   "metadata": {
    "colab": {
     "base_uri": "https://localhost:8080/",
     "height": 394
    },
    "id": "BPC1YyG3bSfC",
    "outputId": "27a01e60-3770-4c79-9e2c-652074da5f55"
   },
   "outputs": [
    {
     "data": {
      "text/html": [
       "\n",
       "  <div id=\"df-a44fcd89-383f-4d93-9015-d9aa329f5066\">\n",
       "    <div class=\"colab-df-container\">\n",
       "      <div>\n",
       "<style scoped>\n",
       "    .dataframe tbody tr th:only-of-type {\n",
       "        vertical-align: middle;\n",
       "    }\n",
       "\n",
       "    .dataframe tbody tr th {\n",
       "        vertical-align: top;\n",
       "    }\n",
       "\n",
       "    .dataframe thead th {\n",
       "        text-align: right;\n",
       "    }\n",
       "</style>\n",
       "<table border=\"1\" class=\"dataframe\">\n",
       "  <thead>\n",
       "    <tr style=\"text-align: right;\">\n",
       "      <th></th>\n",
       "      <th>model_type</th>\n",
       "      <th>model</th>\n",
       "      <th>model_level</th>\n",
       "      <th>MAE</th>\n",
       "      <th>RMSE</th>\n",
       "    </tr>\n",
       "  </thead>\n",
       "  <tbody>\n",
       "    <tr>\n",
       "      <th>0</th>\n",
       "      <td>MARS</td>\n",
       "      <td>Earth(max_degree=1, max_terms=50)</td>\n",
       "      <td>1</td>\n",
       "      <td>36966.129095</td>\n",
       "      <td>49756.778999</td>\n",
       "    </tr>\n",
       "    <tr>\n",
       "      <th>1</th>\n",
       "      <td>BaggingRegressor</td>\n",
       "      <td>(DecisionTreeRegressor(random_state=1028862084...</td>\n",
       "      <td>1</td>\n",
       "      <td>35962.314085</td>\n",
       "      <td>49008.562799</td>\n",
       "    </tr>\n",
       "    <tr>\n",
       "      <th>2</th>\n",
       "      <td>RandomForestRegressor</td>\n",
       "      <td>(DecisionTreeRegressor(ccp_alpha=0.075, criter...</td>\n",
       "      <td>1</td>\n",
       "      <td>36044.760514</td>\n",
       "      <td>50005.958054</td>\n",
       "    </tr>\n",
       "    <tr>\n",
       "      <th>3</th>\n",
       "      <td>GradientBoostingRegressor</td>\n",
       "      <td>([DecisionTreeRegressor(criterion='friedman_ms...</td>\n",
       "      <td>1</td>\n",
       "      <td>36033.635123</td>\n",
       "      <td>49690.104180</td>\n",
       "    </tr>\n",
       "    <tr>\n",
       "      <th>4</th>\n",
       "      <td>XGBRegressor</td>\n",
       "      <td>XGBRegressor(base_score=None, booster=None, ca...</td>\n",
       "      <td>1</td>\n",
       "      <td>35679.131676</td>\n",
       "      <td>49125.461608</td>\n",
       "    </tr>\n",
       "    <tr>\n",
       "      <th>5</th>\n",
       "      <td>Voting</td>\n",
       "      <td>&lt;function mean at 0x7ff4ea7c12d0&gt;</td>\n",
       "      <td>2</td>\n",
       "      <td>35671.828810</td>\n",
       "      <td>48979.558239</td>\n",
       "    </tr>\n",
       "    <tr>\n",
       "      <th>6</th>\n",
       "      <td>LinearRegression</td>\n",
       "      <td>LinearRegression()</td>\n",
       "      <td>2</td>\n",
       "      <td>35758.664509</td>\n",
       "      <td>48984.964197</td>\n",
       "    </tr>\n",
       "    <tr>\n",
       "      <th>7</th>\n",
       "      <td>RandomForestRegressor</td>\n",
       "      <td>RandomForestRegressor(ccp_alpha=0.1, max_depth...</td>\n",
       "      <td>2</td>\n",
       "      <td>35606.626293</td>\n",
       "      <td>48882.229066</td>\n",
       "    </tr>\n",
       "    <tr>\n",
       "      <th>8</th>\n",
       "      <td>XGBRegressor</td>\n",
       "      <td>XGBRegressor(alpha=0.1, base_score=None, boost...</td>\n",
       "      <td>2</td>\n",
       "      <td>36157.076487</td>\n",
       "      <td>49247.803209</td>\n",
       "    </tr>\n",
       "    <tr>\n",
       "      <th>9</th>\n",
       "      <td>Voting</td>\n",
       "      <td>&lt;function mean at 0x7ff4ea7c12d0&gt;</td>\n",
       "      <td>3</td>\n",
       "      <td>35569.199118</td>\n",
       "      <td>48816.591080</td>\n",
       "    </tr>\n",
       "    <tr>\n",
       "      <th>10</th>\n",
       "      <td>LinearRegression</td>\n",
       "      <td>LinearRegression()</td>\n",
       "      <td>3</td>\n",
       "      <td>35510.694027</td>\n",
       "      <td>48692.780073</td>\n",
       "    </tr>\n",
       "  </tbody>\n",
       "</table>\n",
       "</div>\n",
       "      <button class=\"colab-df-convert\" onclick=\"convertToInteractive('df-a44fcd89-383f-4d93-9015-d9aa329f5066')\"\n",
       "              title=\"Convert this dataframe to an interactive table.\"\n",
       "              style=\"display:none;\">\n",
       "        \n",
       "  <svg xmlns=\"http://www.w3.org/2000/svg\" height=\"24px\"viewBox=\"0 0 24 24\"\n",
       "       width=\"24px\">\n",
       "    <path d=\"M0 0h24v24H0V0z\" fill=\"none\"/>\n",
       "    <path d=\"M18.56 5.44l.94 2.06.94-2.06 2.06-.94-2.06-.94-.94-2.06-.94 2.06-2.06.94zm-11 1L8.5 8.5l.94-2.06 2.06-.94-2.06-.94L8.5 2.5l-.94 2.06-2.06.94zm10 10l.94 2.06.94-2.06 2.06-.94-2.06-.94-.94-2.06-.94 2.06-2.06.94z\"/><path d=\"M17.41 7.96l-1.37-1.37c-.4-.4-.92-.59-1.43-.59-.52 0-1.04.2-1.43.59L10.3 9.45l-7.72 7.72c-.78.78-.78 2.05 0 2.83L4 21.41c.39.39.9.59 1.41.59.51 0 1.02-.2 1.41-.59l7.78-7.78 2.81-2.81c.8-.78.8-2.07 0-2.86zM5.41 20L4 18.59l7.72-7.72 1.47 1.35L5.41 20z\"/>\n",
       "  </svg>\n",
       "      </button>\n",
       "      \n",
       "  <style>\n",
       "    .colab-df-container {\n",
       "      display:flex;\n",
       "      flex-wrap:wrap;\n",
       "      gap: 12px;\n",
       "    }\n",
       "\n",
       "    .colab-df-convert {\n",
       "      background-color: #E8F0FE;\n",
       "      border: none;\n",
       "      border-radius: 50%;\n",
       "      cursor: pointer;\n",
       "      display: none;\n",
       "      fill: #1967D2;\n",
       "      height: 32px;\n",
       "      padding: 0 0 0 0;\n",
       "      width: 32px;\n",
       "    }\n",
       "\n",
       "    .colab-df-convert:hover {\n",
       "      background-color: #E2EBFA;\n",
       "      box-shadow: 0px 1px 2px rgba(60, 64, 67, 0.3), 0px 1px 3px 1px rgba(60, 64, 67, 0.15);\n",
       "      fill: #174EA6;\n",
       "    }\n",
       "\n",
       "    [theme=dark] .colab-df-convert {\n",
       "      background-color: #3B4455;\n",
       "      fill: #D2E3FC;\n",
       "    }\n",
       "\n",
       "    [theme=dark] .colab-df-convert:hover {\n",
       "      background-color: #434B5C;\n",
       "      box-shadow: 0px 1px 3px 1px rgba(0, 0, 0, 0.15);\n",
       "      filter: drop-shadow(0px 1px 2px rgba(0, 0, 0, 0.3));\n",
       "      fill: #FFFFFF;\n",
       "    }\n",
       "  </style>\n",
       "\n",
       "      <script>\n",
       "        const buttonEl =\n",
       "          document.querySelector('#df-a44fcd89-383f-4d93-9015-d9aa329f5066 button.colab-df-convert');\n",
       "        buttonEl.style.display =\n",
       "          google.colab.kernel.accessAllowed ? 'block' : 'none';\n",
       "\n",
       "        async function convertToInteractive(key) {\n",
       "          const element = document.querySelector('#df-a44fcd89-383f-4d93-9015-d9aa329f5066');\n",
       "          const dataTable =\n",
       "            await google.colab.kernel.invokeFunction('convertToInteractive',\n",
       "                                                     [key], {});\n",
       "          if (!dataTable) return;\n",
       "\n",
       "          const docLinkHtml = 'Like what you see? Visit the ' +\n",
       "            '<a target=\"_blank\" href=https://colab.research.google.com/notebooks/data_table.ipynb>data table notebook</a>'\n",
       "            + ' to learn more about interactive tables.';\n",
       "          element.innerHTML = '';\n",
       "          dataTable['output_type'] = 'display_data';\n",
       "          await google.colab.output.renderOutput(dataTable, element);\n",
       "          const docLink = document.createElement('div');\n",
       "          docLink.innerHTML = docLinkHtml;\n",
       "          element.appendChild(docLink);\n",
       "        }\n",
       "      </script>\n",
       "    </div>\n",
       "  </div>\n",
       "  "
      ],
      "text/plain": [
       "                   model_type  \\\n",
       "0                        MARS   \n",
       "1            BaggingRegressor   \n",
       "2       RandomForestRegressor   \n",
       "3   GradientBoostingRegressor   \n",
       "4                XGBRegressor   \n",
       "5                      Voting   \n",
       "6            LinearRegression   \n",
       "7       RandomForestRegressor   \n",
       "8                XGBRegressor   \n",
       "9                      Voting   \n",
       "10           LinearRegression   \n",
       "\n",
       "                                                model  model_level  \\\n",
       "0                   Earth(max_degree=1, max_terms=50)            1   \n",
       "1   (DecisionTreeRegressor(random_state=1028862084...            1   \n",
       "2   (DecisionTreeRegressor(ccp_alpha=0.075, criter...            1   \n",
       "3   ([DecisionTreeRegressor(criterion='friedman_ms...            1   \n",
       "4   XGBRegressor(base_score=None, booster=None, ca...            1   \n",
       "5                   <function mean at 0x7ff4ea7c12d0>            2   \n",
       "6                                  LinearRegression()            2   \n",
       "7   RandomForestRegressor(ccp_alpha=0.1, max_depth...            2   \n",
       "8   XGBRegressor(alpha=0.1, base_score=None, boost...            2   \n",
       "9                   <function mean at 0x7ff4ea7c12d0>            3   \n",
       "10                                 LinearRegression()            3   \n",
       "\n",
       "             MAE          RMSE  \n",
       "0   36966.129095  49756.778999  \n",
       "1   35962.314085  49008.562799  \n",
       "2   36044.760514  50005.958054  \n",
       "3   36033.635123  49690.104180  \n",
       "4   35679.131676  49125.461608  \n",
       "5   35671.828810  48979.558239  \n",
       "6   35758.664509  48984.964197  \n",
       "7   35606.626293  48882.229066  \n",
       "8   36157.076487  49247.803209  \n",
       "9   35569.199118  48816.591080  \n",
       "10  35510.694027  48692.780073  "
      ]
     },
     "execution_count": 136,
     "metadata": {},
     "output_type": "execute_result"
    }
   ],
   "source": [
    "col1 = 'model_type'\n",
    "list1 = ['MARS', 'BaggingRegressor', 'RandomForestRegressor', 'GradientBoostingRegressor', 'XGBRegressor', 'Voting', 'LinearRegression', 'RandomForestRegressor', 'XGBRegressor', 'Voting', 'LinearRegression']\n",
    "col2 = \"model\"\n",
    "list2 = [ma, bg, rf, gb, xg, np.mean, meta_ln, meta_rf, meta_xg, np.mean, metameta_ln_model]\n",
    "col3 = 'test_predictions'\n",
    "list3 = [ma_test_preds, bg_test_preds, rf_test_preds, gb_test_preds, xg_test_preds, meta_vt_test_preds, meta_ln_test_preds, meta_rf_test_preds, meta_xg_test_preds, metameta_test_preds, metameta_ln_test_preds]\n",
    "col4 = 'model_level'\n",
    "list4 = [1,1,1,1,1,2,2,2,2,3,3]\n",
    "all_models = pd.DataFrame(data = {col1:list1, col2:list2, col4:list4})\n",
    "all_models[\"MAE\"] = list(map(lambda x: mean_absolute_error(x, y_test), list3))\n",
    "all_models[\"RMSE\"] = list(map(lambda x: np.sqrt(mean_squared_error(x, y_test)), list3))\n",
    "all_models"
   ]
  },
  {
   "cell_type": "code",
   "execution_count": 143,
   "metadata": {
    "id": "snB56ytTnZA7"
   },
   "outputs": [],
   "source": [
    "y_test_array = np.asarray(y_test).flatten()\n",
    "final = pd.DataFrame(data = {\"predicted\": metameta_ln_test_preds.flatten(), \"y_true\": y_test_array})\n",
    "final.to_csv(\"final_predictions.csv\")"
   ]
  },
  {
   "cell_type": "code",
   "execution_count": 2,
   "metadata": {},
   "outputs": [],
   "source": [
    "import nbformat\n",
    "\n",
    "# Load the first notebook\n",
    "with open('Project_Code_4.ipynb', 'r', encoding=\"utf8\") as file:\n",
    "    nb1 = nbformat.read(file, as_version=nbformat.NO_CONVERT)\n",
    "\n",
    "# Load the second notebook\n",
    "with open('ensembling_models (2).ipynb', 'r', encoding=\"utf8\") as file:\n",
    "    nb2 = nbformat.read(file, as_version=nbformat.NO_CONVERT)\n",
    "\n",
    "# Create a new notebook\n",
    "merged_nb = nbformat.v4.new_notebook()\n",
    "\n",
    "# Combine the cells from both notebooks into the new notebook\n",
    "merged_nb.cells.extend(nb1.cells)\n",
    "merged_nb.cells.extend(nb2.cells)\n",
    "\n",
    "# Save the merged notebook\n",
    "with open('Project_Code_4.ipynb', 'w', encoding=\"utf8\") as file:\n",
    "    nbformat.write(merged_nb, file)"
   ]
  }
 ],
 "metadata": {
  "colab": {
   "provenance": []
  },
  "kernelspec": {
   "display_name": "Python 3 (ipykernel)",
   "language": "python",
   "name": "python3"
  },
  "language_info": {
   "codemirror_mode": {
    "name": "ipython",
    "version": 3
   },
   "file_extension": ".py",
   "mimetype": "text/x-python",
   "name": "python",
   "nbconvert_exporter": "python",
   "pygments_lexer": "ipython3",
   "version": "3.9.12"
  }
 },
 "nbformat": 4,
 "nbformat_minor": 1
}
