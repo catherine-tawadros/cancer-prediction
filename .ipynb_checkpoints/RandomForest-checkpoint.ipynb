{
 "cells": [
  {
   "cell_type": "code",
   "execution_count": 21,
   "id": "f5756b7c",
   "metadata": {},
   "outputs": [],
   "source": [
    "import pandas as pd\n",
    "import numpy as np\n",
    "import seaborn as sns\n",
    "import matplotlib.pyplot as plt\n",
    "from sklearn.metrics import mean_squared_error\n",
    "from sklearn.model_selection import cross_val_score,train_test_split\n",
    "from sklearn.model_selection import KFold\n",
    "from sklearn.tree import DecisionTreeRegressor,DecisionTreeClassifier\n",
    "from sklearn.model_selection import GridSearchCV, ParameterGrid, RandomizedSearchCV\n",
    "from sklearn.ensemble import BaggingRegressor,BaggingClassifier,RandomForestRegressor,RandomForestClassifier\n",
    "from sklearn.linear_model import LinearRegression,LogisticRegression\n",
    "from sklearn.neighbors import KNeighborsRegressor\n",
    "from sklearn.metrics import roc_curve, precision_recall_curve, auc, make_scorer, recall_score, \\\n",
    "accuracy_score, precision_score, confusion_matrix, mean_squared_error, r2_score, mean_absolute_error\n",
    "\n",
    "#Libraries for visualizing trees\n",
    "from sklearn.tree import export_graphviz \n",
    "from six import StringIO\n",
    "from IPython.display import Image\n",
    "import time as tm"
   ]
  },
  {
   "cell_type": "code",
   "execution_count": 16,
   "id": "06ba3201",
   "metadata": {},
   "outputs": [],
   "source": [
    "binned_jobs = pd.read_csv(\"binned_jobs.csv\")\n",
    "binned_jobs.drop(['job_title', 'salary'], axis = 1)\n",
    "\n",
    "# Convert categorical variables to dummy variables\n",
    "binned_jobs_encoded = pd.get_dummies(binned_jobs, drop_first=True)\n",
    "\n",
    "# Separate the features (X) and the target variable (y)\n",
    "X = binned_jobs_encoded.drop(['salary_in_usd', 'salary'],axis=1)\n",
    "y = binned_jobs_encoded['salary_in_usd']\n",
    "\n",
    "# Split the data into train and test sets\n",
    "X_train, X_test, y_train, y_test = train_test_split(X, y, test_size=0.2, random_state=45)"
   ]
  },
  {
   "cell_type": "code",
   "execution_count": 26,
   "id": "feaf92fc",
   "metadata": {},
   "outputs": [
    {
     "name": "stdout",
     "output_type": "stream",
     "text": [
      "Fitting 2 folds for each of 250 candidates, totalling 500 fits\n",
      "{'max_leaf_nodes': 2400, 'max_features': 4, 'max_depth': 33, 'ccp_alpha': 0.1, 'bootstrap': True}\n"
     ]
    }
   ],
   "source": [
    "parameters = {'max_depth': np.arange(5,50,7), \"max_features\": np.arange(4,10,2), 'max_leaf_nodes': np.arange(1000,2500,200), 'bootstrap':[True, False], 'ccp_alpha': np.arange(0.0, .5, 0.1)}\n",
    "cv = KFold(n_splits = 2, shuffle=True, random_state=1)\n",
    "model = RandomizedSearchCV(RandomForestRegressor(random_state=1, n_estimators=50), parameters, n_jobs=-1, n_iter=250, verbose=1, cv=cv, scoring=\"neg_mean_absolute_error\")\n",
    "model.fit(X_train, y_train)\n",
    "print (model.best_params_)"
   ]
  },
  {
   "cell_type": "code",
   "execution_count": 27,
   "id": "5a91fdc3",
   "metadata": {},
   "outputs": [
    {
     "name": "stderr",
     "output_type": "stream",
     "text": [
      "C:\\Users\\ctawa\\anaconda3\\lib\\site-packages\\sklearn\\model_selection\\_search.py:292: UserWarning: The total space of parameters 224 is smaller than n_iter=250. Running 224 iterations. For exhaustive searches, use GridSearchCV.\n",
      "  warnings.warn(\n"
     ]
    },
    {
     "name": "stdout",
     "output_type": "stream",
     "text": [
      "Fitting 2 folds for each of 224 candidates, totalling 448 fits\n",
      "{'max_leaf_nodes': 2000, 'max_features': 4, 'max_depth': 33, 'ccp_alpha': 0.05, 'bootstrap': True}\n"
     ]
    }
   ],
   "source": [
    "parameters = {'max_depth': np.arange(5,50,7), \"max_features\": np.arange(2,10,2), 'max_leaf_nodes': np.arange(2000,4000,500), 'bootstrap':[True], 'ccp_alpha': np.arange(0.05, .15, 0.05)}\n",
    "cv = KFold(n_splits = 2, shuffle=True, random_state=1)\n",
    "model2 = RandomizedSearchCV(RandomForestRegressor(random_state=1, n_estimators=50), parameters, n_jobs=-1, n_iter=250, verbose=1, cv=cv, scoring=\"neg_mean_absolute_error\")\n",
    "model2.fit(X_train, y_train)\n",
    "print (model2.best_params_)"
   ]
  },
  {
   "cell_type": "code",
   "execution_count": 28,
   "id": "bae16586",
   "metadata": {},
   "outputs": [
    {
     "name": "stdout",
     "output_type": "stream",
     "text": [
      "Fitting 2 folds for each of 250 candidates, totalling 500 fits\n",
      "{'max_leaf_nodes': 2400, 'max_features': 4, 'max_depth': 33, 'ccp_alpha': 0.07500000000000001, 'bootstrap': True}\n"
     ]
    }
   ],
   "source": [
    "parameters = {'max_depth': np.arange(5,50,7), \"max_features\": np.arange(2,8,1), 'max_leaf_nodes': np.arange(2000,2500,100), 'bootstrap':[True], 'ccp_alpha': np.arange(0.025, .1, 0.025)}\n",
    "cv = KFold(n_splits = 2, shuffle=True, random_state=1)\n",
    "model3 = RandomizedSearchCV(RandomForestRegressor(random_state=1, n_estimators=100), parameters, n_jobs=-1, n_iter=250, verbose=1, cv=cv, scoring=\"neg_mean_absolute_error\")\n",
    "model3.fit(X_train, y_train)\n",
    "print (model3.best_params_)"
   ]
  },
  {
   "cell_type": "code",
   "execution_count": 32,
   "id": "d8f64b9f",
   "metadata": {},
   "outputs": [
    {
     "name": "stdout",
     "output_type": "stream",
     "text": [
      "Fitting 4 folds for each of 6 candidates, totalling 24 fits\n",
      "{'oob_score': True, 'max_leaf_nodes': 2400, 'max_features': 4, 'max_depth': 36, 'ccp_alpha': 0.075, 'bootstrap': True}\n"
     ]
    }
   ],
   "source": [
    "parameters = {'max_depth': [30,33,36], \"max_features\": [4], 'max_leaf_nodes': [2400], 'bootstrap':[True], 'ccp_alpha': [.075], 'oob_score':[True,False]}\n",
    "cv = KFold(n_splits = 4, shuffle=True, random_state=1)\n",
    "model4 = RandomizedSearchCV(RandomForestRegressor(random_state=1, n_estimators=100), parameters, n_jobs=-1, n_iter=250, verbose=1, cv=cv, scoring=\"neg_mean_absolute_error\")\n",
    "model4.fit(X_train, y_train)\n",
    "print (model4.best_params_)"
   ]
  },
  {
   "cell_type": "code",
   "execution_count": 33,
   "id": "f2bf8b23",
   "metadata": {},
   "outputs": [
    {
     "name": "stderr",
     "output_type": "stream",
     "text": [
      "C:\\Users\\ctawa\\anaconda3\\lib\\site-packages\\sklearn\\model_selection\\_search.py:292: UserWarning: The total space of parameters 12 is smaller than n_iter=250. Running 12 iterations. For exhaustive searches, use GridSearchCV.\n",
      "  warnings.warn(\n"
     ]
    },
    {
     "name": "stdout",
     "output_type": "stream",
     "text": [
      "Fitting 4 folds for each of 12 candidates, totalling 48 fits\n",
      "{'oob_score': True, 'max_leaf_nodes': 2400, 'max_features': 4, 'max_depth': 38, 'criterion': 'absolute_error', 'ccp_alpha': 0.075, 'bootstrap': True}\n"
     ]
    }
   ],
   "source": [
    "parameters = {'max_depth': [34,36,38], \"max_features\": [4], 'max_leaf_nodes': [2400], 'bootstrap':[True], 'ccp_alpha': [.075], 'oob_score':[True], 'criterion':['squared_error', 'absolute_error', 'friedman_mse', 'poisson']}\n",
    "cv = KFold(n_splits = 4, shuffle=True, random_state=1)\n",
    "model5 = RandomizedSearchCV(RandomForestRegressor(random_state=1, n_estimators=100), parameters, n_jobs=-1, n_iter=250, verbose=1, cv=cv, scoring=\"neg_mean_absolute_error\")\n",
    "model5.fit(X_train, y_train)\n",
    "print (model5.best_params_)"
   ]
  },
  {
   "cell_type": "code",
   "execution_count": 34,
   "id": "e6e84054",
   "metadata": {},
   "outputs": [
    {
     "data": {
      "text/plain": [
       "49486.09454826788"
      ]
     },
     "execution_count": 34,
     "metadata": {},
     "output_type": "execute_result"
    }
   ],
   "source": [
    "preds = model5.predict(X_test)\n",
    "np.sqrt(mean_squared_error(y_test, preds))"
   ]
  },
  {
   "cell_type": "code",
   "execution_count": null,
   "id": "771102a1",
   "metadata": {},
   "outputs": [
    {
     "name": "stdout",
     "output_type": "stream",
     "text": [
      "Fitting 4 folds for each of 1 candidates, totalling 4 fits\n"
     ]
    }
   ],
   "source": [
    "parameters = {'oob_score': [True], 'max_leaf_nodes': [2400], 'max_features': [4], 'max_depth': [38], 'criterion': ['absolute_error'], 'ccp_alpha': [0.075], 'bootstrap': [True]}\n",
    "cv = KFold(n_splits = 4, shuffle=True, random_state=1)\n",
    "model6 = RandomizedSearchCV(RandomForestRegressor(random_state=1, n_estimators=2500), parameters, n_jobs=-1, n_iter=1, verbose=1, cv=cv, scoring=\"neg_mean_absolute_error\")\n",
    "model6.fit(X_train, y_train)\n",
    "preds = model6.predict(X_test)\n",
    "np.sqrt(mean_squared_error(y_test, preds))"
   ]
  }
 ],
 "metadata": {
  "kernelspec": {
   "display_name": "Python 3 (ipykernel)",
   "language": "python",
   "name": "python3"
  },
  "language_info": {
   "codemirror_mode": {
    "name": "ipython",
    "version": 3
   },
   "file_extension": ".py",
   "mimetype": "text/x-python",
   "name": "python",
   "nbconvert_exporter": "python",
   "pygments_lexer": "ipython3",
   "version": "3.9.12"
  }
 },
 "nbformat": 4,
 "nbformat_minor": 5
}
