{
 "cells": [
  {
   "cell_type": "markdown",
   "id": "183ea5cf",
   "metadata": {},
   "source": [
    "## **AI & ML salaries during 2020-2023**\n",
    "\n",
    "### 1. Exploratory Data Analysis"
   ]
  },
  {
   "cell_type": "code",
   "execution_count": 3,
   "id": "208c25f3",
   "metadata": {},
   "outputs": [],
   "source": [
    "import pandas as pd\n",
    "import numpy as np\n",
    "import seaborn as sns\n",
    "import matplotlib.pyplot as plt\n",
    "from sklearn.metrics import mean_squared_error\n",
    "from sklearn.model_selection import cross_val_score,train_test_split, KFold, cross_val_predict\n",
    "from sklearn.metrics import mean_squared_error,r2_score,roc_curve,auc,precision_recall_curve, accuracy_score, \\\n",
    "recall_score, precision_score, confusion_matrix\n",
    "from sklearn.tree import DecisionTreeRegressor,DecisionTreeClassifier\n",
    "from sklearn.model_selection import GridSearchCV, ParameterGrid, StratifiedKFold\n",
    "from sklearn.ensemble import BaggingRegressor,BaggingClassifier,AdaBoostRegressor,AdaBoostClassifier\n",
    "from sklearn.impute import SimpleImputer\n",
    "from sklearn.linear_model import LinearRegression,LogisticRegression\n",
    "from sklearn.feature_selection import VarianceThreshold\n",
    "from sklearn.neighbors import KNeighborsRegressor\n",
    "from sklearn.ensemble import RandomForestRegressor\n",
    "from sklearn.preprocessing import OneHotEncoder\n",
    "from sklearn.preprocessing import StandardScaler\n",
    "from sklearn.model_selection import RandomizedSearchCV\n",
    "from sklearn.ensemble import GradientBoostingRegressor\n",
    "from pyearth import Earth\n",
    "from sklearn.impute import KNNImputer\n",
    "import xgboost as xgb\n",
    "import itertools as it\n",
    "import time as time \n",
    "import warnings\n",
    "warnings.filterwarnings('ignore')"
   ]
  },
  {
   "cell_type": "code",
   "execution_count": 2,
   "id": "364ba38a",
   "metadata": {},
   "outputs": [],
   "source": [
    "# sklearn has 100s of models - grouped in sublibraries, such as linear_model\n",
    "from sklearn.linear_model import LogisticRegression, LinearRegression\n",
    "\n",
    "# sklearn has many tools for cleaning/processing data, also grouped in sublibraries\n",
    "# splitting one dataset into train and test, computing cross validation score, cross validated prediction\n",
    "from sklearn.model_selection import train_test_split, cross_val_predict, cross_val_score\n",
    "\n",
    "#sklearn module for scaling data\n",
    "from sklearn.preprocessing import StandardScaler\n",
    "\n",
    "#sklearn modules for computing the performance metrics\n",
    "from sklearn.metrics import accuracy_score, mean_absolute_error, mean_squared_error, r2_score, \\\n",
    "roc_curve, auc, precision_score, recall_score, confusion_matrix"
   ]
  },
  {
   "cell_type": "code",
   "execution_count": 3,
   "id": "c5a93d1b",
   "metadata": {},
   "outputs": [
    {
     "data": {
      "text/html": [
       "<div>\n",
       "<style scoped>\n",
       "    .dataframe tbody tr th:only-of-type {\n",
       "        vertical-align: middle;\n",
       "    }\n",
       "\n",
       "    .dataframe tbody tr th {\n",
       "        vertical-align: top;\n",
       "    }\n",
       "\n",
       "    .dataframe thead th {\n",
       "        text-align: right;\n",
       "    }\n",
       "</style>\n",
       "<table border=\"1\" class=\"dataframe\">\n",
       "  <thead>\n",
       "    <tr style=\"text-align: right;\">\n",
       "      <th></th>\n",
       "      <th>work_year</th>\n",
       "      <th>experience_level</th>\n",
       "      <th>employment_type</th>\n",
       "      <th>job_title</th>\n",
       "      <th>salary</th>\n",
       "      <th>salary_currency</th>\n",
       "      <th>salary_in_usd</th>\n",
       "      <th>employee_residence</th>\n",
       "      <th>remote_ratio</th>\n",
       "      <th>company_location</th>\n",
       "      <th>company_size</th>\n",
       "    </tr>\n",
       "  </thead>\n",
       "  <tbody>\n",
       "    <tr>\n",
       "      <th>0</th>\n",
       "      <td>2023</td>\n",
       "      <td>MI</td>\n",
       "      <td>FT</td>\n",
       "      <td>AWS Data Architect</td>\n",
       "      <td>258000</td>\n",
       "      <td>USD</td>\n",
       "      <td>258000</td>\n",
       "      <td>US</td>\n",
       "      <td>100</td>\n",
       "      <td>US</td>\n",
       "      <td>L</td>\n",
       "    </tr>\n",
       "    <tr>\n",
       "      <th>1</th>\n",
       "      <td>2023</td>\n",
       "      <td>SE</td>\n",
       "      <td>FT</td>\n",
       "      <td>Data Scientist</td>\n",
       "      <td>225000</td>\n",
       "      <td>USD</td>\n",
       "      <td>225000</td>\n",
       "      <td>US</td>\n",
       "      <td>0</td>\n",
       "      <td>US</td>\n",
       "      <td>M</td>\n",
       "    </tr>\n",
       "    <tr>\n",
       "      <th>2</th>\n",
       "      <td>2023</td>\n",
       "      <td>SE</td>\n",
       "      <td>FT</td>\n",
       "      <td>Data Scientist</td>\n",
       "      <td>156400</td>\n",
       "      <td>USD</td>\n",
       "      <td>156400</td>\n",
       "      <td>US</td>\n",
       "      <td>0</td>\n",
       "      <td>US</td>\n",
       "      <td>M</td>\n",
       "    </tr>\n",
       "    <tr>\n",
       "      <th>3</th>\n",
       "      <td>2023</td>\n",
       "      <td>SE</td>\n",
       "      <td>FT</td>\n",
       "      <td>Data Engineer</td>\n",
       "      <td>190000</td>\n",
       "      <td>USD</td>\n",
       "      <td>190000</td>\n",
       "      <td>US</td>\n",
       "      <td>100</td>\n",
       "      <td>US</td>\n",
       "      <td>M</td>\n",
       "    </tr>\n",
       "    <tr>\n",
       "      <th>4</th>\n",
       "      <td>2023</td>\n",
       "      <td>SE</td>\n",
       "      <td>FT</td>\n",
       "      <td>Data Engineer</td>\n",
       "      <td>150000</td>\n",
       "      <td>USD</td>\n",
       "      <td>150000</td>\n",
       "      <td>US</td>\n",
       "      <td>100</td>\n",
       "      <td>US</td>\n",
       "      <td>M</td>\n",
       "    </tr>\n",
       "  </tbody>\n",
       "</table>\n",
       "</div>"
      ],
      "text/plain": [
       "   work_year experience_level employment_type           job_title  salary  \\\n",
       "0       2023               MI              FT  AWS Data Architect  258000   \n",
       "1       2023               SE              FT      Data Scientist  225000   \n",
       "2       2023               SE              FT      Data Scientist  156400   \n",
       "3       2023               SE              FT       Data Engineer  190000   \n",
       "4       2023               SE              FT       Data Engineer  150000   \n",
       "\n",
       "  salary_currency  salary_in_usd employee_residence  remote_ratio  \\\n",
       "0             USD         258000                 US           100   \n",
       "1             USD         225000                 US             0   \n",
       "2             USD         156400                 US             0   \n",
       "3             USD         190000                 US           100   \n",
       "4             USD         150000                 US           100   \n",
       "\n",
       "  company_location company_size  \n",
       "0               US            L  \n",
       "1               US            M  \n",
       "2               US            M  \n",
       "3               US            M  \n",
       "4               US            M  "
      ]
     },
     "execution_count": 3,
     "metadata": {},
     "output_type": "execute_result"
    }
   ],
   "source": [
    "# read data\n",
    "\n",
    "salaries = pd.read_csv(\"salaries.csv\")\n",
    "salaries.head()"
   ]
  },
  {
   "cell_type": "code",
   "execution_count": 4,
   "id": "20bcab51",
   "metadata": {},
   "outputs": [
    {
     "data": {
      "text/plain": [
       "(4134, 11)"
      ]
     },
     "execution_count": 4,
     "metadata": {},
     "output_type": "execute_result"
    }
   ],
   "source": [
    "salaries.shape"
   ]
  },
  {
   "cell_type": "markdown",
   "id": "dee9f53a",
   "metadata": {},
   "source": [
    "### **In this dataset, there are 4134 observations and there are 10 predictor, since we are using salary_in_usd as a response for our data analysis. The reason for this is that we want the data to be standardized across countries.**"
   ]
  },
  {
   "cell_type": "code",
   "execution_count": 5,
   "id": "2aef5a7a",
   "metadata": {},
   "outputs": [
    {
     "name": "stdout",
     "output_type": "stream",
     "text": [
      "Missing values:\n",
      " work_year             0\n",
      "experience_level      0\n",
      "employment_type       0\n",
      "job_title             0\n",
      "salary                0\n",
      "salary_currency       0\n",
      "salary_in_usd         0\n",
      "employee_residence    0\n",
      "remote_ratio          0\n",
      "company_location      0\n",
      "company_size          0\n",
      "dtype: int64\n"
     ]
    }
   ],
   "source": [
    "# Check for missing values\n",
    "missing_values = salaries.isnull().sum()\n",
    "print(\"Missing values:\\n\", missing_values)"
   ]
  },
  {
   "cell_type": "markdown",
   "id": "45c5aaf4",
   "metadata": {},
   "source": [
    "### **The dataset is completely clean!**"
   ]
  },
  {
   "cell_type": "code",
   "execution_count": 6,
   "id": "447122eb",
   "metadata": {},
   "outputs": [
    {
     "data": {
      "image/png": "[encoded data removed]",
      "text/plain": [
       "<Figure size 1440x720 with 2 Axes>"
      ]
     },
     "metadata": {
      "needs_background": "light"
     },
     "output_type": "display_data"
    }
   ],
   "source": [
    "#checking for correlation between predictors\n",
    "\n",
    "fig, ax = plt.subplots() \n",
    "fig.set_size_inches(20,10)\n",
    "sns.heatmap(salaries.corr(), vmax =.8, square = True, annot = True)\n",
    "plt.title('Confusion Matrix',fontsize=15);"
   ]
  },
  {
   "cell_type": "code",
   "execution_count": 7,
   "id": "004a46dd",
   "metadata": {},
   "outputs": [
    {
     "data": {
      "image/png": "[encoded data removed]",
      "text/plain": [
       "<Figure size 432x288 with 1 Axes>"
      ]
     },
     "metadata": {},
     "output_type": "display_data"
    }
   ],
   "source": [
    "exp_level_values =salaries['experience_level'].value_counts()\n",
    "plt.pie(exp_level_values, labels=exp_level_values.index, autopct='%.0f%%')\n",
    "plt.title(\"Distribution of levels of experience\")\n",
    "plt.show()"
   ]
  },
  {
   "cell_type": "code",
   "execution_count": 8,
   "id": "631a9a04",
   "metadata": {},
   "outputs": [
    {
     "data": {
      "image/png": "[encoded data removed]",
      "text/plain": [
       "<Figure size 432x288 with 1 Axes>"
      ]
     },
     "metadata": {
      "needs_background": "light"
     },
     "output_type": "display_data"
    }
   ],
   "source": [
    "most_frequent_titles = salaries['job_title'].value_counts().sort_values(ascending=False)\n",
    "most_frequent_titles[:10].plot(kind='bar')\n",
    "plt.xticks(rotation=45)\n",
    "plt.ylabel(\"Count\")\n",
    "plt.xlabel(\"Job title\")\n",
    "plt.title(\"Most frequent job titles\")\n",
    "plt.show()"
   ]
  },
  {
   "cell_type": "code",
   "execution_count": 145,
   "id": "aec7be2d",
   "metadata": {},
   "outputs": [
    {
     "data": {
      "text/plain": [
       "<Figure size 864x576 with 0 Axes>"
      ]
     },
     "metadata": {},
     "output_type": "display_data"
    },
    {
     "data": {
      "image/png": "[encoded data removed]",
      "text/plain": [
       "<Figure size 360x360 with 1 Axes>"
      ]
     },
     "metadata": {},
     "output_type": "display_data"
    }
   ],
   "source": [
    "#Distribution of salaries in USD\n",
    "\n",
    "\n",
    "# Set the style of the plot\n",
    "sns.set(style='ticks', palette='viridis')\n",
    "\n",
    "# Create the distribution plot with larger figure size\n",
    "plt.figure(figsize=(12, 8))\n",
    "g = sns.displot(salaries['salary_in_usd'], kde=True)\n",
    "\n",
    "# Set the plot title and axis labels with larger, bold font\n",
    "g.fig.suptitle(\"Distribution of Salaries in US Dollars\", fontsize=16, fontweight='bold')\n",
    "g.set(xlabel=\"Salary (USD)\", ylabel=\"Count\")\n",
    "\n",
    "# Customize the tick parameters\n",
    "plt.xticks(fontsize=12)\n",
    "plt.yticks(fontsize=12)\n",
    "\n",
    "# Remove the right and top spines\n",
    "sns.despine(right=True, top=True)\n",
    "\n",
    "# Adjust the plot layout\n",
    "plt.tight_layout()\n",
    "\n",
    "# Display the plot\n",
    "plt.show()\n"
   ]
  },
  {
   "cell_type": "code",
   "execution_count": 147,
   "id": "4dc826ff",
   "metadata": {},
   "outputs": [
    {
     "name": "stdout",
     "output_type": "stream",
     "text": [
      "Summary Statistics for 'salary_in_usd':\n",
      "╒═════════════╤══════════╕\n",
      "│ Statistic   │    Value │\n",
      "╞═════════════╪══════════╡\n",
      "│ count       │   4134   │\n",
      "├─────────────┼──────────┤\n",
      "│ mean        │ 139416   │\n",
      "├─────────────┼──────────┤\n",
      "│ std         │  63605.5 │\n",
      "├─────────────┼──────────┤\n",
      "│ min         │   5132   │\n",
      "├─────────────┼──────────┤\n",
      "│ 25%         │  96817   │\n",
      "├─────────────┼──────────┤\n",
      "│ 50%         │ 136000   │\n",
      "├─────────────┼──────────┤\n",
      "│ 75%         │ 179820   │\n",
      "├─────────────┼──────────┤\n",
      "│ max         │ 450000   │\n",
      "╘═════════════╧══════════╛\n"
     ]
    }
   ],
   "source": [
    "import pandas as pd\n",
    "from tabulate import tabulate\n",
    "\n",
    "# Compute summary statistics for 'salary_in_usd'\n",
    "salary_stats = salaries['salary_in_usd'].describe().reset_index()\n",
    "salary_stats.columns = ['Statistic', 'Value']\n",
    "\n",
    "# Convert the summary statistics to a table\n",
    "salary_table = tabulate(salary_stats, headers='keys', tablefmt='fancy_grid', showindex=False)\n",
    "\n",
    "# Print the table\n",
    "print(\"Summary Statistics for 'salary_in_usd':\")\n",
    "print(salary_table)\n"
   ]
  },
  {
   "cell_type": "markdown",
   "id": "f53a5f49",
   "metadata": {},
   "source": [
    "### **Binning job titles into ten main categories**"
   ]
  },
  {
   "cell_type": "code",
   "execution_count": 67,
   "id": "5cc24aed",
   "metadata": {},
   "outputs": [],
   "source": [
    "job_categories = {\n",
    "    'data_science_and_ml': ['Data Scientist', 'Applied Scientist', 'ML Engineer', 'Machine Learning Engineer', 'Applied Machine Learning Engineer', 'Research Engineer', 'Machine Learning Developer', 'Machine Learning Scientist', 'AI Scientist', 'Machine Learning Software Engineer', 'Principal Data Scientist', 'Machine Learning Researcher', 'Decision Scientist', 'Machine Learning Research Engineer', 'Principal Machine Learning Engineer', 'Machine Learning Manager', 'Lead Machine Learning Engineer', 'Principal Data Analyst', 'Staff Data Scientist', 'Applied Machine Learning Scientist', 'Lead Data Scientist'],\n",
    "    'data_engineering_and_architecture': ['AWS Data Architect', 'Data Engineer', 'Data Manager', 'Data Architect', 'Data Integration Specialist', 'ETL Developer', 'BI Data Analyst', 'Data Modeler', 'Cloud Data Engineer', 'Data Operations Analyst', 'ETL Engineer', 'Data DevOps Engineer', 'Data Quality Analyst', 'Big Data Engineer', 'BI Data Engineer', 'Cloud Database Engineer', 'Data Infrastructure Engineer', 'Software Data Engineer', 'Data Operations Engineer', 'Big Data Architect', 'Azure Data Engineer', 'Marketing Data Engineer', 'Data Management Specialist', 'Principal Data Architect', 'Cloud Data Architect', 'Principal Data Engineer', 'Machine Learning Infrastructure Engineer', 'MLOps Engineer', 'Analytics Engineer'],\n",
    "    'data_analysis_and_visualization': ['Data Analyst', 'Product Data Analyst', 'Data Visualization Analyst', 'Sales Data Analyst', 'BI Developer', 'Business Data Analyst', 'Lead Data Analyst', 'BI Analyst', 'Insight Analyst', 'Marketing Data Analyst', 'Data Analytics Lead'],\n",
    "    'data_management_and_strategy': ['Head of Data', 'Data Specialist', 'Director of Data Science', 'Data Science Manager', 'Data Science Lead', 'Data Strategist', 'Data Analytics Manager', 'Manager Data Management', 'Data Management Specialist'],\n",
    "    'ai_development': ['Autonomous Vehicle Operations Lead', 'Autonomous Vehicle Technician', 'AI Developer', 'AI Programmer'],\n",
    "    'computer_vision': ['Computer Vision Engineer', 'Computer Vision Software Engineer', '3D Computer Vision Researcher'],\n",
    "    'nlp_engineer': ['NLP Engineer'],\n",
    "    'business_intelligence': ['Business Intelligence Engineer', 'BI Data Analyst', 'BI Developer', 'BI Data Engineer', 'BI Analyst', 'Power BI Developer'],\n",
    "    'research_and_science': ['Research Scientist', 'Applied Data Scientist', 'Data Science Consultant', 'Deep Learning Researcher', 'Deep Learning Engineer'],\n",
    "    'other_data_related': ['Finance Data Analyst', 'Compliance Data Analyst', 'Data Science Tech Lead', 'Marketing Data Scientist', 'Product Data Scientist', 'Staff Data Analyst', 'Data Analytics Specialist', 'Data Analytics Engineer', 'Data Analytics Consultant', 'Data Management Specialist', 'Head of Data Science', 'Data Lead', 'Data Science Engineer', 'Insight Analyst', 'Data Science Engineer', 'Data Analytics Engineer', 'Data Analytics Consultant', 'Data Management Specialist', 'Data Scientist Lead', 'Principal Data Architect', 'Lead Data Engineer', 'Head of Machine Learning', 'Staff Data Scientist', 'Financial Data Analyst']\n",
    "}"
   ]
  },
  {
   "cell_type": "code",
   "execution_count": 70,
   "id": "acaa9ace",
   "metadata": {},
   "outputs": [
    {
     "data": {
      "text/plain": [
       "[]"
      ]
     },
     "execution_count": 70,
     "metadata": {},
     "output_type": "execute_result"
    }
   ],
   "source": [
    "# check to make sure all jobs fall in a category\n",
    "\n",
    "not_cat = []\n",
    "for i in range(len(salaries.job_title)):\n",
    "    title = salaries.job_title[i]\n",
    "    categorized = False\n",
    "    for key in job_categories.keys():\n",
    "        cat = job_categories[key]\n",
    "        if title in cat:\n",
    "            categorized = True\n",
    "    if not categorized:\n",
    "        not_cat.append(title)\n",
    "\n",
    "list(set(not_cat))"
   ]
  },
  {
   "cell_type": "code",
   "execution_count": 73,
   "id": "45f11835",
   "metadata": {},
   "outputs": [],
   "source": [
    "# bin jobs based on category\n",
    "\n",
    "binned_jobs = [None] * len(salaries.job_title)\n",
    "for i in range(len(salaries.job_title)):\n",
    "    title = salaries.job_title[i]\n",
    "    categorized = False\n",
    "    for key in job_categories.keys():\n",
    "        cat = job_categories[key]\n",
    "        if title in cat:\n",
    "            binned_jobs[i] = key\n",
    "\n",
    "\n",
    "salaries['job_title_binned'] = binned_jobs"
   ]
  },
  {
   "cell_type": "code",
   "execution_count": 75,
   "id": "87009ef1",
   "metadata": {},
   "outputs": [
    {
     "data": {
      "text/plain": [
       "10"
      ]
     },
     "execution_count": 75,
     "metadata": {},
     "output_type": "execute_result"
    }
   ],
   "source": [
    "len(salaries.job_title_binned.unique())"
   ]
  },
  {
   "cell_type": "code",
   "execution_count": 77,
   "id": "e2248b7f",
   "metadata": {},
   "outputs": [
    {
     "data": {
      "text/plain": [
       "data_science_and_ml                  1534\n",
       "data_engineering_and_architecture    1474\n",
       "data_analysis_and_visualization       692\n",
       "data_management_and_strategy          146\n",
       "research_and_science                  133\n",
       "business_intelligence                  50\n",
       "other_data_related                     49\n",
       "computer_vision                        29\n",
       "ai_development                         16\n",
       "nlp_engineer                           11\n",
       "Name: job_title_binned, dtype: int64"
      ]
     },
     "execution_count": 77,
     "metadata": {},
     "output_type": "execute_result"
    }
   ],
   "source": [
    "salaries.job_title_binned.value_counts()"
   ]
  },
  {
   "cell_type": "code",
   "execution_count": 79,
   "id": "f9fc8100",
   "metadata": {},
   "outputs": [],
   "source": [
    "salaries.to_csv('binned_jobs.csv', index=False) "
   ]
  },
  {
   "cell_type": "code",
   "execution_count": 41,
   "id": "d5728b6a",
   "metadata": {},
   "outputs": [
    {
     "data": {
      "text/html": [
       "<div>\n",
       "<style scoped>\n",
       "    .dataframe tbody tr th:only-of-type {\n",
       "        vertical-align: middle;\n",
       "    }\n",
       "\n",
       "    .dataframe tbody tr th {\n",
       "        vertical-align: top;\n",
       "    }\n",
       "\n",
       "    .dataframe thead th {\n",
       "        text-align: right;\n",
       "    }\n",
       "</style>\n",
       "<table border=\"1\" class=\"dataframe\">\n",
       "  <thead>\n",
       "    <tr style=\"text-align: right;\">\n",
       "      <th></th>\n",
       "      <th>work_year</th>\n",
       "      <th>experience_level</th>\n",
       "      <th>employment_type</th>\n",
       "      <th>job_title</th>\n",
       "      <th>salary</th>\n",
       "      <th>salary_currency</th>\n",
       "      <th>salary_in_usd</th>\n",
       "      <th>employee_residence</th>\n",
       "      <th>remote_ratio</th>\n",
       "      <th>company_location</th>\n",
       "      <th>company_size</th>\n",
       "      <th>job_title_binned</th>\n",
       "    </tr>\n",
       "  </thead>\n",
       "  <tbody>\n",
       "    <tr>\n",
       "      <th>0</th>\n",
       "      <td>2023</td>\n",
       "      <td>MI</td>\n",
       "      <td>FT</td>\n",
       "      <td>AWS Data Architect</td>\n",
       "      <td>258000</td>\n",
       "      <td>USD</td>\n",
       "      <td>258000</td>\n",
       "      <td>US</td>\n",
       "      <td>100</td>\n",
       "      <td>US</td>\n",
       "      <td>L</td>\n",
       "      <td>data_engineering_and_architecture</td>\n",
       "    </tr>\n",
       "    <tr>\n",
       "      <th>1</th>\n",
       "      <td>2023</td>\n",
       "      <td>SE</td>\n",
       "      <td>FT</td>\n",
       "      <td>Data Scientist</td>\n",
       "      <td>225000</td>\n",
       "      <td>USD</td>\n",
       "      <td>225000</td>\n",
       "      <td>US</td>\n",
       "      <td>0</td>\n",
       "      <td>US</td>\n",
       "      <td>M</td>\n",
       "      <td>data_science_and_ml</td>\n",
       "    </tr>\n",
       "    <tr>\n",
       "      <th>2</th>\n",
       "      <td>2023</td>\n",
       "      <td>SE</td>\n",
       "      <td>FT</td>\n",
       "      <td>Data Scientist</td>\n",
       "      <td>156400</td>\n",
       "      <td>USD</td>\n",
       "      <td>156400</td>\n",
       "      <td>US</td>\n",
       "      <td>0</td>\n",
       "      <td>US</td>\n",
       "      <td>M</td>\n",
       "      <td>data_science_and_ml</td>\n",
       "    </tr>\n",
       "    <tr>\n",
       "      <th>3</th>\n",
       "      <td>2023</td>\n",
       "      <td>SE</td>\n",
       "      <td>FT</td>\n",
       "      <td>Data Engineer</td>\n",
       "      <td>190000</td>\n",
       "      <td>USD</td>\n",
       "      <td>190000</td>\n",
       "      <td>US</td>\n",
       "      <td>100</td>\n",
       "      <td>US</td>\n",
       "      <td>M</td>\n",
       "      <td>data_engineering_and_architecture</td>\n",
       "    </tr>\n",
       "    <tr>\n",
       "      <th>4</th>\n",
       "      <td>2023</td>\n",
       "      <td>SE</td>\n",
       "      <td>FT</td>\n",
       "      <td>Data Engineer</td>\n",
       "      <td>150000</td>\n",
       "      <td>USD</td>\n",
       "      <td>150000</td>\n",
       "      <td>US</td>\n",
       "      <td>100</td>\n",
       "      <td>US</td>\n",
       "      <td>M</td>\n",
       "      <td>data_engineering_and_architecture</td>\n",
       "    </tr>\n",
       "  </tbody>\n",
       "</table>\n",
       "</div>"
      ],
      "text/plain": [
       "   work_year experience_level employment_type           job_title  salary  \\\n",
       "0       2023               MI              FT  AWS Data Architect  258000   \n",
       "1       2023               SE              FT      Data Scientist  225000   \n",
       "2       2023               SE              FT      Data Scientist  156400   \n",
       "3       2023               SE              FT       Data Engineer  190000   \n",
       "4       2023               SE              FT       Data Engineer  150000   \n",
       "\n",
       "  salary_currency  salary_in_usd employee_residence  remote_ratio  \\\n",
       "0             USD         258000                 US           100   \n",
       "1             USD         225000                 US             0   \n",
       "2             USD         156400                 US             0   \n",
       "3             USD         190000                 US           100   \n",
       "4             USD         150000                 US           100   \n",
       "\n",
       "  company_location company_size                   job_title_binned  \n",
       "0               US            L  data_engineering_and_architecture  \n",
       "1               US            M                data_science_and_ml  \n",
       "2               US            M                data_science_and_ml  \n",
       "3               US            M  data_engineering_and_architecture  \n",
       "4               US            M  data_engineering_and_architecture  "
      ]
     },
     "execution_count": 41,
     "metadata": {},
     "output_type": "execute_result"
    }
   ],
   "source": [
    "#updating dataset after binning job categories to mainstream 10\n",
    "binned_jobs = pd.read_csv(\"binned_jobs.csv\")\n",
    "binned_jobs.head()"
   ]
  },
  {
   "cell_type": "code",
   "execution_count": 42,
   "id": "a9c823ec",
   "metadata": {},
   "outputs": [
    {
     "data": {
      "image/png": "[encoded data removed]",
      "text/plain": [
       "<Figure size 864x576 with 1 Axes>"
      ]
     },
     "metadata": {
      "needs_background": "light"
     },
     "output_type": "display_data"
    }
   ],
   "source": [
    "import matplotlib.pyplot as plt\n",
    "import numpy as np\n",
    "\n",
    "# Group the data by job title and calculate the average salary\n",
    "average_salary_by_title = binned_jobs.groupby('job_title_binned')['salary_in_usd'].mean().sort_values(ascending=False)\n",
    "\n",
    "# Create a bar plot with each job title having its own color\n",
    "plt.figure(figsize=(12, 8))\n",
    "\n",
    "# Generate a color map with a unique color for each job title\n",
    "color_map = plt.get_cmap('tab20', len(average_salary_by_title))\n",
    "\n",
    "# Get the list of job titles and corresponding average salaries\n",
    "job_titles = average_salary_by_title.index\n",
    "average_salaries = average_salary_by_title.values\n",
    "\n",
    "# Plot each bar with a unique color\n",
    "for i in range(len(job_titles)):\n",
    "    plt.barh(job_titles[i], average_salaries[i], color=color_map(i))\n",
    "\n",
    "plt.xlabel('Average Salary (USD)')\n",
    "plt.ylabel('Job Title')\n",
    "\n",
    "# Customize the title\n",
    "plt.title('Average Salaries by Job Title', fontweight='bold', fontsize=16)\n",
    "\n",
    "# Adjust the layout\n",
    "plt.tight_layout()\n",
    "\n",
    "# Display the plot\n",
    "plt.show()\n"
   ]
  },
  {
   "cell_type": "code",
   "execution_count": 43,
   "id": "edbd2d10",
   "metadata": {},
   "outputs": [],
   "source": [
    "import pandas as pd\n",
    "from sklearn.model_selection import train_test_split\n",
    "from sklearn.linear_model import LinearRegression\n",
    "from sklearn.metrics import mean_squared_error\n",
    "\n",
    "binned_jobs =  binned_jobs.drop('job_title', axis = 1)\n",
    "binned_jobs =  binned_jobs.drop('salary', axis = 1)"
   ]
  },
  {
   "cell_type": "code",
   "execution_count": 44,
   "id": "a3515e3b",
   "metadata": {},
   "outputs": [
    {
     "data": {
      "text/html": [
       "<div>\n",
       "<style scoped>\n",
       "    .dataframe tbody tr th:only-of-type {\n",
       "        vertical-align: middle;\n",
       "    }\n",
       "\n",
       "    .dataframe tbody tr th {\n",
       "        vertical-align: top;\n",
       "    }\n",
       "\n",
       "    .dataframe thead th {\n",
       "        text-align: right;\n",
       "    }\n",
       "</style>\n",
       "<table border=\"1\" class=\"dataframe\">\n",
       "  <thead>\n",
       "    <tr style=\"text-align: right;\">\n",
       "      <th></th>\n",
       "      <th>work_year</th>\n",
       "      <th>experience_level</th>\n",
       "      <th>employment_type</th>\n",
       "      <th>salary_currency</th>\n",
       "      <th>salary_in_usd</th>\n",
       "      <th>employee_residence</th>\n",
       "      <th>remote_ratio</th>\n",
       "      <th>company_location</th>\n",
       "      <th>company_size</th>\n",
       "      <th>job_title_binned</th>\n",
       "    </tr>\n",
       "  </thead>\n",
       "  <tbody>\n",
       "    <tr>\n",
       "      <th>0</th>\n",
       "      <td>2023</td>\n",
       "      <td>MI</td>\n",
       "      <td>FT</td>\n",
       "      <td>USD</td>\n",
       "      <td>258000</td>\n",
       "      <td>US</td>\n",
       "      <td>100</td>\n",
       "      <td>US</td>\n",
       "      <td>L</td>\n",
       "      <td>data_engineering_and_architecture</td>\n",
       "    </tr>\n",
       "    <tr>\n",
       "      <th>1</th>\n",
       "      <td>2023</td>\n",
       "      <td>SE</td>\n",
       "      <td>FT</td>\n",
       "      <td>USD</td>\n",
       "      <td>225000</td>\n",
       "      <td>US</td>\n",
       "      <td>0</td>\n",
       "      <td>US</td>\n",
       "      <td>M</td>\n",
       "      <td>data_science_and_ml</td>\n",
       "    </tr>\n",
       "    <tr>\n",
       "      <th>2</th>\n",
       "      <td>2023</td>\n",
       "      <td>SE</td>\n",
       "      <td>FT</td>\n",
       "      <td>USD</td>\n",
       "      <td>156400</td>\n",
       "      <td>US</td>\n",
       "      <td>0</td>\n",
       "      <td>US</td>\n",
       "      <td>M</td>\n",
       "      <td>data_science_and_ml</td>\n",
       "    </tr>\n",
       "    <tr>\n",
       "      <th>3</th>\n",
       "      <td>2023</td>\n",
       "      <td>SE</td>\n",
       "      <td>FT</td>\n",
       "      <td>USD</td>\n",
       "      <td>190000</td>\n",
       "      <td>US</td>\n",
       "      <td>100</td>\n",
       "      <td>US</td>\n",
       "      <td>M</td>\n",
       "      <td>data_engineering_and_architecture</td>\n",
       "    </tr>\n",
       "    <tr>\n",
       "      <th>4</th>\n",
       "      <td>2023</td>\n",
       "      <td>SE</td>\n",
       "      <td>FT</td>\n",
       "      <td>USD</td>\n",
       "      <td>150000</td>\n",
       "      <td>US</td>\n",
       "      <td>100</td>\n",
       "      <td>US</td>\n",
       "      <td>M</td>\n",
       "      <td>data_engineering_and_architecture</td>\n",
       "    </tr>\n",
       "  </tbody>\n",
       "</table>\n",
       "</div>"
      ],
      "text/plain": [
       "   work_year experience_level employment_type salary_currency  salary_in_usd  \\\n",
       "0       2023               MI              FT             USD         258000   \n",
       "1       2023               SE              FT             USD         225000   \n",
       "2       2023               SE              FT             USD         156400   \n",
       "3       2023               SE              FT             USD         190000   \n",
       "4       2023               SE              FT             USD         150000   \n",
       "\n",
       "  employee_residence  remote_ratio company_location company_size  \\\n",
       "0                 US           100               US            L   \n",
       "1                 US             0               US            M   \n",
       "2                 US             0               US            M   \n",
       "3                 US           100               US            M   \n",
       "4                 US           100               US            M   \n",
       "\n",
       "                    job_title_binned  \n",
       "0  data_engineering_and_architecture  \n",
       "1                data_science_and_ml  \n",
       "2                data_science_and_ml  \n",
       "3  data_engineering_and_architecture  \n",
       "4  data_engineering_and_architecture  "
      ]
     },
     "execution_count": 44,
     "metadata": {},
     "output_type": "execute_result"
    }
   ],
   "source": [
    "binned_jobs.head()"
   ]
  },
  {
   "cell_type": "code",
   "execution_count": 45,
   "id": "2d65f3db",
   "metadata": {},
   "outputs": [],
   "source": [
    "#BASELINE MODEL\n",
    "\n",
    "# Convert categorical variables to dummy variables\n",
    "binned_jobs_encoded = pd.get_dummies(binned_jobs, drop_first=True)\n",
    "\n",
    "# Separate the features (X) and the target variable (y)\n",
    "X = binned_jobs_encoded.drop('salary_in_usd',axis=1)\n",
    "y = binned_jobs_encoded['salary_in_usd']\n",
    "\n",
    "# Split the data into train and test sets\n",
    "X_train, X_test, y_train, y_test = train_test_split(X, y, test_size=0.2, random_state=45)\n",
    "\n",
    "# Create a baseline linear regression model\n",
    "baseline_model = LinearRegression()\n",
    "\n",
    "# Fit the model on the training data\n",
    "baseline_model.fit(X_train, y_train)\n",
    "\n",
    "# Predict on the test data\n",
    "y_pred = baseline_model.predict(X_test)\n"
   ]
  },
  {
   "cell_type": "code",
   "execution_count": null,
   "id": "180d4081",
   "metadata": {},
   "outputs": [],
   "source": [
    "#binned_jobs_encoded.corr()['salary_in_usd'].sort_values(ascending=False)"
   ]
  },
  {
   "cell_type": "code",
   "execution_count": 47,
   "id": "b32791c3",
   "metadata": {},
   "outputs": [
    {
     "name": "stdout",
     "output_type": "stream",
     "text": [
      "Mean Absolute Error: $ 280696947960.07605\n"
     ]
    }
   ],
   "source": [
    "# Calculate the mean squared error (MSE)\n",
    "y_pred = baseline_model.predict(X_test)\n",
    "mse = mean_squared_error(y_test, y_pred)\n",
    "\n",
    "# Calculate the mean absolute error (MAE)\n",
    "mae = mean_absolute_error(y_test, y_pred)\n",
    "\n",
    "# Print the mean absolute error\n",
    "print(\"Mean Absolute Error: $\", mae)"
   ]
  },
  {
   "cell_type": "markdown",
   "id": "17706a9a",
   "metadata": {},
   "source": [
    "## **Default Mars Model & Tuning**"
   ]
  },
  {
   "cell_type": "code",
   "execution_count": 48,
   "id": "48f28877",
   "metadata": {},
   "outputs": [
    {
     "name": "stdout",
     "output_type": "stream",
     "text": [
      "Mean Absolute Error: $ 36813.0367444063\n",
      "Root Mean Squared Error: $  49695.40484779989\n"
     ]
    }
   ],
   "source": [
    "from pyearth import Earth\n",
    "from sklearn.metrics import mean_squared_error\n",
    "\n",
    "# Create the base MARS model\n",
    "model = Earth()\n",
    "\n",
    "# Fit the model on the training data\n",
    "model.fit(X_train, y_train)\n",
    "\n",
    "# Predict on the test data using the best model\n",
    "y_pred = model.predict(X_test)\n",
    "\n",
    "# Calculate the mean absolute error (MAE)\n",
    "mae = mean_absolute_error(y_test, y_pred)\n",
    "\n",
    "# Print the mean absolute error\n",
    "print(\"Mean Absolute Error: $\", mae)\n",
    "\n",
    "# Calculate the mean squared error (MSE)\n",
    "mse = mean_squared_error(y_test, y_pred)\n",
    "\n",
    "# Calculate the root mean squared error (RMSE)\n",
    "rmse = np.sqrt(mse)\n",
    "print(\"Root Mean Squared Error: $ \", rmse)"
   ]
  },
  {
   "cell_type": "markdown",
   "id": "463e69f9",
   "metadata": {},
   "source": [
    "### **Finding the optimal degree (that minimises MAE):**"
   ]
  },
  {
   "cell_type": "code",
   "execution_count": 50,
   "id": "27dbc934",
   "metadata": {},
   "outputs": [
    {
     "name": "stdout",
     "output_type": "stream",
     "text": [
      "Best Model max_degree:  1\n",
      "MAE:  37315.428132284724\n"
     ]
    }
   ],
   "source": [
    "from sklearn.model_selection import GridSearchCV\n",
    "from pyearth import Earth\n",
    "\n",
    "# Define the parameter grid\n",
    "param_grid = {\n",
    "    'max_degree': [1, 2, 3, 4, 5]  # Vary the max_degree values as needed\n",
    "}\n",
    "\n",
    "# Initialize the MARS model\n",
    "mars = Earth()\n",
    "\n",
    "# Create the GridSearchCV object with MAE as the scoring metric\n",
    "grid_search = GridSearchCV(mars, param_grid, scoring='neg_mean_absolute_error', cv=3)\n",
    "\n",
    "# Fit the grid search on the training data\n",
    "grid_search.fit(X_train, y_train)\n",
    "\n",
    "# Print the best model max_degree and MAE\n",
    "print(\"Best Model max_degree: \", grid_search.best_params_['max_degree'])\n",
    "print(\"MAE: \", -grid_search.best_score_)  # Convert negative score back to positive\n"
   ]
  },
  {
   "cell_type": "code",
   "execution_count": 51,
   "id": "dfc3c3c6",
   "metadata": {},
   "outputs": [
    {
     "data": {
      "image/png": "[encoded data removed]",
      "text/plain": [
       "<Figure size 432x288 with 1 Axes>"
      ]
     },
     "metadata": {
      "needs_background": "light"
     },
     "output_type": "display_data"
    }
   ],
   "source": [
    "import matplotlib.pyplot as plt\n",
    "\n",
    "# Get the max_degree values and corresponding mean_test_score\n",
    "max_degrees = grid_search.cv_results_['param_max_degree'].data.astype(int)\n",
    "mae_scores = -grid_search.cv_results_['mean_test_score']\n",
    "\n",
    "# Plot the values\n",
    "plt.plot(max_degrees, mae_scores, marker='o')\n",
    "plt.xlabel('max_degree')\n",
    "plt.ylabel('MAE')\n",
    "plt.title('Grid Search Results')\n",
    "plt.grid(True)\n",
    "plt.show()\n"
   ]
  },
  {
   "cell_type": "code",
   "execution_count": 54,
   "id": "cdc20c5c",
   "metadata": {},
   "outputs": [
    {
     "name": "stdout",
     "output_type": "stream",
     "text": [
      "Best Model Parameters:\n",
      "max_terms: 50\n",
      "degree: 1\n",
      "MAE: 37315.428132284724\n"
     ]
    }
   ],
   "source": [
    "import numpy as np\n",
    "from sklearn.model_selection import GridSearchCV\n",
    "from pyearth import Earth\n",
    "\n",
    "# Define the parameter grid\n",
    "param_grid = {\n",
    "    'max_terms': [50,100, 200],  # Vary the max_terms values as needed\n",
    "    'max_degree': [1, 2, 3]  # Vary the degree values as needed\n",
    "}\n",
    "\n",
    "# Initialize the MARS model\n",
    "mars = Earth()\n",
    "\n",
    "# Create the GridSearchCV object with MAE as the scoring metric\n",
    "grid_search = GridSearchCV(mars, param_grid, scoring='neg_mean_absolute_error', cv=3)\n",
    "\n",
    "# Fit the grid search on the training data\n",
    "grid_search.fit(X_train, y_train)\n",
    "\n",
    "# Print the best model parameters and MAE\n",
    "print(\"Best Model Parameters:\")\n",
    "print(\"max_terms:\", grid_search.best_params_['max_terms'])\n",
    "print(\"degree:\", grid_search.best_params_['max_degree'])\n",
    "print(\"MAE:\", -grid_search.best_score_)  # Convert negative score back to positive\n"
   ]
  },
  {
   "cell_type": "code",
   "execution_count": 55,
   "id": "4dddaf64",
   "metadata": {},
   "outputs": [
    {
     "data": {
      "text/plain": [
       "{'max_degree': 1, 'max_terms': 50}"
      ]
     },
     "execution_count": 55,
     "metadata": {},
     "output_type": "execute_result"
    }
   ],
   "source": [
    "grid_search.best_params_"
   ]
  },
  {
   "cell_type": "code",
   "execution_count": 56,
   "id": "6b293de4",
   "metadata": {},
   "outputs": [
    {
     "name": "stdout",
     "output_type": "stream",
     "text": [
      "Mean Absolute Error: $ 36813.0367444063\n"
     ]
    }
   ],
   "source": [
    "model3 = Earth(max_terms = 50, max_degree=1) # note, terms in brackets are the hyperparameters \n",
    "model3.fit(X_train,y_train)\n",
    "\n",
    "# Predict on the test data using the best model\n",
    "y_pred = model3.predict(X_test)\n",
    "\n",
    "# Calculate the mean absolute error (MAE)\n",
    "mae = mean_absolute_error(y_test, y_pred)\n",
    "\n",
    "# Print the mean absolute error\n",
    "print(\"Mean Absolute Error: $\", mae)\n"
   ]
  },
  {
   "cell_type": "code",
   "execution_count": null,
   "id": "9015a308",
   "metadata": {},
   "outputs": [],
   "source": [
    "y_pred = model3.predict(X_test)\n",
    "# Convert y_pred array to a DataFrame\n",
    "df_pred = pd.DataFrame({'y_pred': y_pred})\n",
    "\n",
    "# Save the DataFrame to a CSV file\n",
    "df_pred.to_csv('predictions.csv', index=False)\n"
   ]
  },
  {
   "cell_type": "code",
   "execution_count": 57,
   "id": "cc27a2d7",
   "metadata": {},
   "outputs": [
    {
     "data": {
      "image/png": "[encoded data removed]",
      "text/plain": [
       "<Figure size 432x288 with 1 Axes>"
      ]
     },
     "metadata": {
      "needs_background": "light"
     },
     "output_type": "display_data"
    }
   ],
   "source": [
    "import matplotlib.pyplot as plt\n",
    "\n",
    "# Get the max_degree values and corresponding mean_test_score\n",
    "max_degrees = grid_search.cv_results_['param_max_terms'].data.astype(int)\n",
    "mae_scores = -grid_search.cv_results_['mean_test_score']\n",
    "\n",
    "# Plot the values\n",
    "plt.plot(max_degrees, mae_scores, marker='o')\n",
    "plt.xlabel('max_terms')\n",
    "plt.ylabel('MAE')\n",
    "plt.title('Grid Search Results')\n",
    "plt.grid(True)\n",
    "plt.show()\n"
   ]
  },
  {
   "cell_type": "markdown",
   "id": "2ecbc770",
   "metadata": {},
   "source": [
    "### The model developed post-tuning with 50 terms (making it less complex) and the degree that minimizes MAE, d = 1, achieved an MAE of USD 36813.04."
   ]
  },
  {
   "cell_type": "code",
   "execution_count": 129,
   "id": "88c9ae4f",
   "metadata": {},
   "outputs": [
    {
     "data": {
      "text/plain": [
       "(4134, 292)"
      ]
     },
     "execution_count": 129,
     "metadata": {},
     "output_type": "execute_result"
    }
   ],
   "source": [
    "binned_jobs_encoded.shape"
   ]
  },
  {
   "cell_type": "code",
   "execution_count": null,
   "id": "7e24401f",
   "metadata": {},
   "outputs": [],
   "source": [
    "#stack mars or bag it. 201 through default equation was derived"
   ]
  },
  {
   "cell_type": "code",
   "execution_count": null,
   "id": "b0ec67f6",
   "metadata": {},
   "outputs": [],
   "source": [
    "import numpy as np\n",
    "from sklearn.model_selection import GridSearchCV\n",
    "from sklearn.ensemble import BaggingRegressor\n",
    "from pyearth import Earth\n",
    "\n",
    "# Initialize the Earth model\n",
    "earth = Earth()\n",
    "\n",
    "# Initialize the BaggingRegressor with Earth as the base estimator\n",
    "bagging_earth = BaggingRegressor(base_estimator=earth)\n",
    "\n",
    "# Define the parameter grid\n",
    "param_grid = {\n",
    "    'n_estimators': [50, 100, 200, 250]  # Vary the number of estimators as needed\n",
    "}\n",
    "\n",
    "# Create the GridSearchCV object with MAE as the scoring metric\n",
    "grid_search = GridSearchCV(bagging_earth, param_grid, scoring='neg_mean_absolute_error', cv=3)\n",
    "\n",
    "# Fit the grid search on the training data\n",
    "grid_search.fit(X_train, y_train)\n",
    "\n",
    "# Print the best model parameters and MAE\n",
    "print(\"Best Model Parameters:\")\n",
    "print(\"n_estimators:\", grid_search.best_params_['n_estimators'])\n",
    "print(\"MAE:\", -grid_search.best_score_)  # Convert negative score back to positive\n"
   ]
  },
  {
   "cell_type": "code",
   "execution_count": 59,
   "id": "5451ba25",
   "metadata": {},
   "outputs": [
    {
     "name": "stdout",
     "output_type": "stream",
     "text": [
      "MAE:  36566.447101160484\n"
     ]
    }
   ],
   "source": [
    "from sklearn.ensemble import BaggingRegressor\n",
    "from sklearn.metrics import mean_absolute_error\n",
    "from pyearth import Earth\n",
    "\n",
    "# Create the MARS model\n",
    "mars_model = Earth(max_terms = 50, max_degree=1)\n",
    "\n",
    "# Create the bagging regressor with the MARS model\n",
    "bagged_model = BaggingRegressor(base_estimator=mars_model, n_estimators=200, random_state=42)\n",
    "\n",
    "# Fit the bagged model to the training data\n",
    "bagged_model.fit(X_train, y_train)\n",
    "\n",
    "# Predict on the test data\n",
    "y_pred = bagged_model.predict(X_test)\n",
    "\n",
    "# Calculate the MAE\n",
    "mae = mean_absolute_error(y_test, y_pred)\n",
    "\n",
    "# Print the MAE\n",
    "print(\"MAE: \", mae)"
   ]
  },
  {
   "cell_type": "code",
   "execution_count": null,
   "id": "f8f967d4",
   "metadata": {},
   "outputs": [],
   "source": [
    "from sklearn.ensemble import BaggingRegressor\n",
    "from sklearn.metrics import mean_absolute_error\n",
    "from pyearth import Earth\n",
    "\n",
    "# Create the MARS model\n",
    "mars_model = Earth()\n",
    "\n",
    "# Create the bagging regressor with the MARS model\n",
    "bagged_model = BaggingRegressor(base_estimator=mars_model, n_estimators=200, random_state=42)\n",
    "\n",
    "# Fit the bagged model to the training data\n",
    "bagged_model.fit(X_train, y_train)\n",
    "\n",
    "# Predict on the test data\n",
    "y_pred = bagged_model.predict(X_test)\n",
    "\n",
    "# Calculate the MAE\n",
    "mae = mean_absolute_error(y_test, y_pred)\n",
    "\n",
    "# Print the MAE\n",
    "print(\"MAE: \", mae)"
   ]
  },
  {
   "cell_type": "code",
   "execution_count": 26,
   "id": "2ec51961",
   "metadata": {},
   "outputs": [],
   "source": [
    "import pandas as pd\n",
    "\n",
    "# Convert y_pred array to a DataFrame\n",
    "df_pred = pd.DataFrame({'y_pred': y_pred})\n",
    "\n",
    "# Save the DataFrame to a CSV file\n",
    "df_pred.to_csv('predictions.csv', index=False)\n"
   ]
  }
 ],
 "metadata": {
  "kernelspec": {
   "display_name": "Python 3 (ipykernel)",
   "language": "python",
   "name": "python3"
  },
  "language_info": {
   "codemirror_mode": {
    "name": "ipython",
    "version": 3
   },
   "file_extension": ".py",
   "mimetype": "text/x-python",
   "name": "python",
   "nbconvert_exporter": "python",
   "pygments_lexer": "ipython3",
   "version": "3.9.12"
  }
 },
 "nbformat": 4,
 "nbformat_minor": 5
}
