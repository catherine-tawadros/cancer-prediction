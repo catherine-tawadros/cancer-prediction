{
 "cells": [
  {
   "cell_type": "markdown",
   "id": "85c6b072",
   "metadata": {
    "id": "85c6b072"
   },
   "source": [
    "## Silmutaneous tuning of max_terms & max_degree hyperaparameters"
   ]
  },
  {
   "cell_type": "code",
   "execution_count": null,
   "id": "9015a308",
   "metadata": {
    "id": "9015a308"
   },
   "outputs": [],
   "source": [
    "y_pred = model3.predict(X_test)\n",
    "# Convert y_pred array to a DataFrame\n",
    "df_pred = pd.DataFrame({'y_pred': y_pred})\n",
    "\n",
    "# Save the DataFrame to a CSV file\n",
    "df_pred.to_csv('predictions.csv', index=False)\n"
   ]
  },
  {
   "cell_type": "markdown",
   "id": "2ecbc770",
   "metadata": {
    "id": "2ecbc770"
   },
   "source": [
    "### The model developed post-tuning with 50 terms (making it less complex) and the degree that minimizes MAE, d = 1, achieved an MAE of USD 36813.04."
   ]
  },
  {
   "cell_type": "code",
   "execution_count": null,
   "id": "5451ba25",
   "metadata": {
    "id": "5451ba25",
    "outputId": "c7de0618-725e-40d6-a389-e58eda9a75e0"
   },
   "outputs": [
    {
     "name": "stdout",
     "output_type": "stream",
     "text": [
      "MAE:  36566.447101160484\n"
     ]
    }
   ],
   "source": [
    "from sklearn.ensemble import BaggingRegressor\n",
    "from sklearn.metrics import mean_absolute_error\n",
    "from pyearth import Earth\n",
    "\n",
    "# Create the MARS model\n",
    "mars_model = Earth(max_terms = 50, max_degree=1)\n",
    "\n",
    "# Create the bagging regressor with the MARS model\n",
    "bagged_model = BaggingRegressor(base_estimator=mars_model, n_estimators=200, random_state=42)\n",
    "\n",
    "# Fit the bagged model to the training data\n",
    "bagged_model.fit(X_train, y_train)\n",
    "\n",
    "# Predict on the test data\n",
    "y_pred = bagged_model.predict(X_test)\n",
    "\n",
    "# Calculate the MAE\n",
    "mae = mean_absolute_error(y_test, y_pred)\n",
    "\n",
    "# Print the MAE\n",
    "print(\"MAE: \", mae)"
   ]
  },
  {
   "cell_type": "code",
   "execution_count": null,
   "id": "2ec51961",
   "metadata": {
    "id": "2ec51961"
   },
   "outputs": [],
   "source": [
    "import pandas as pd\n",
    "\n",
    "# Convert y_pred array to a DataFrame\n",
    "bag_pred = pd.DataFrame({'y_pred': y_pred})\n",
    "\n",
    "# Save the DataFrame to a CSV file\n",
    "bag_pred.to_csv('predictions.csv', index=False)\n"
   ]
  },
  {
   "cell_type": "markdown",
   "id": "183ea5cf",
   "metadata": {
    "id": "183ea5cf"
   },
   "source": [
    "## **AI & ML salaries during 2020-2023**\n",
    "\n",
    "###By Christina Tzavara, Sarah Abdulwahid, Alex Olmeta, Catherine Tawadros, Charles Bugayer"
   ]
  },
  {
   "cell_type": "code",
   "execution_count": 9,
   "id": "208c25f3",
   "metadata": {
    "id": "208c25f3"
   },
   "outputs": [],
   "source": [
    "import pandas as pd\n",
    "from pyearth import Earth\n",
    "import numpy as np\n",
    "import seaborn as sns\n",
    "import matplotlib.pyplot as plt\n",
    "from sklearn.metrics import mean_absolute_error\n",
    "from sklearn.model_selection import cross_val_score,train_test_split, KFold, cross_val_predict\n",
    "from sklearn.metrics import mean_squared_error,r2_score,roc_curve,auc,precision_recall_curve, accuracy_score, \\\n",
    "recall_score, precision_score, confusion_matrix\n",
    "from sklearn.tree import DecisionTreeRegressor,DecisionTreeClassifier\n",
    "from sklearn.model_selection import GridSearchCV, ParameterGrid, StratifiedKFold\n",
    "from sklearn.ensemble import BaggingRegressor,BaggingClassifier,AdaBoostRegressor,AdaBoostClassifier\n",
    "from sklearn.impute import SimpleImputer\n",
    "from sklearn.linear_model import LinearRegression,LogisticRegression\n",
    "from sklearn.feature_selection import VarianceThreshold\n",
    "from sklearn.neighbors import KNeighborsRegressor\n",
    "from sklearn.ensemble import RandomForestRegressor\n",
    "from sklearn.preprocessing import OneHotEncoder\n",
    "from sklearn.preprocessing import StandardScaler\n",
    "from sklearn.model_selection import RandomizedSearchCV\n",
    "from sklearn.ensemble import GradientBoostingRegressor\n",
    "from sklearn.impute import KNNImputer\n",
    "import xgboost as xgb\n",
    "import itertools as it\n",
    "import time as time \n",
    "import warnings\n",
    "warnings.filterwarnings('ignore')"
   ]
  },
  {
   "cell_type": "markdown",
   "id": "fe7ea9bb",
   "metadata": {
    "id": "fe7ea9bb"
   },
   "source": [
    "## Data quality check / cleaning / preparation \n"
   ]
  },
  {
   "cell_type": "code",
   "execution_count": 3,
   "id": "c5a93d1b",
   "metadata": {
    "colab": {
     "base_uri": "https://localhost:8080/",
     "height": 357
    },
    "id": "c5a93d1b",
    "outputId": "bd5b1f9b-14dc-4e68-b64e-def9bed8d72f"
   },
   "outputs": [
    {
     "data": {
      "text/html": [
       "\n",
       "  <div id=\"df-dd0b9d6d-50e6-47a3-b249-5c747bb65122\">\n",
       "    <div class=\"colab-df-container\">\n",
       "      <div>\n",
       "<style scoped>\n",
       "    .dataframe tbody tr th:only-of-type {\n",
       "        vertical-align: middle;\n",
       "    }\n",
       "\n",
       "    .dataframe tbody tr th {\n",
       "        vertical-align: top;\n",
       "    }\n",
       "\n",
       "    .dataframe thead th {\n",
       "        text-align: right;\n",
       "    }\n",
       "</style>\n",
       "<table border=\"1\" class=\"dataframe\">\n",
       "  <thead>\n",
       "    <tr style=\"text-align: right;\">\n",
       "      <th></th>\n",
       "      <th>work_year</th>\n",
       "      <th>experience_level</th>\n",
       "      <th>employment_type</th>\n",
       "      <th>job_title</th>\n",
       "      <th>salary</th>\n",
       "      <th>salary_currency</th>\n",
       "      <th>salary_in_usd</th>\n",
       "      <th>employee_residence</th>\n",
       "      <th>remote_ratio</th>\n",
       "      <th>company_location</th>\n",
       "      <th>company_size</th>\n",
       "    </tr>\n",
       "  </thead>\n",
       "  <tbody>\n",
       "    <tr>\n",
       "      <th>0</th>\n",
       "      <td>2023</td>\n",
       "      <td>MI</td>\n",
       "      <td>FT</td>\n",
       "      <td>AWS Data Architect</td>\n",
       "      <td>258000</td>\n",
       "      <td>USD</td>\n",
       "      <td>258000</td>\n",
       "      <td>US</td>\n",
       "      <td>100</td>\n",
       "      <td>US</td>\n",
       "      <td>L</td>\n",
       "    </tr>\n",
       "    <tr>\n",
       "      <th>1</th>\n",
       "      <td>2023</td>\n",
       "      <td>SE</td>\n",
       "      <td>FT</td>\n",
       "      <td>Data Scientist</td>\n",
       "      <td>225000</td>\n",
       "      <td>USD</td>\n",
       "      <td>225000</td>\n",
       "      <td>US</td>\n",
       "      <td>0</td>\n",
       "      <td>US</td>\n",
       "      <td>M</td>\n",
       "    </tr>\n",
       "    <tr>\n",
       "      <th>2</th>\n",
       "      <td>2023</td>\n",
       "      <td>SE</td>\n",
       "      <td>FT</td>\n",
       "      <td>Data Scientist</td>\n",
       "      <td>156400</td>\n",
       "      <td>USD</td>\n",
       "      <td>156400</td>\n",
       "      <td>US</td>\n",
       "      <td>0</td>\n",
       "      <td>US</td>\n",
       "      <td>M</td>\n",
       "    </tr>\n",
       "    <tr>\n",
       "      <th>3</th>\n",
       "      <td>2023</td>\n",
       "      <td>SE</td>\n",
       "      <td>FT</td>\n",
       "      <td>Data Engineer</td>\n",
       "      <td>190000</td>\n",
       "      <td>USD</td>\n",
       "      <td>190000</td>\n",
       "      <td>US</td>\n",
       "      <td>100</td>\n",
       "      <td>US</td>\n",
       "      <td>M</td>\n",
       "    </tr>\n",
       "    <tr>\n",
       "      <th>4</th>\n",
       "      <td>2023</td>\n",
       "      <td>SE</td>\n",
       "      <td>FT</td>\n",
       "      <td>Data Engineer</td>\n",
       "      <td>150000</td>\n",
       "      <td>USD</td>\n",
       "      <td>150000</td>\n",
       "      <td>US</td>\n",
       "      <td>100</td>\n",
       "      <td>US</td>\n",
       "      <td>M</td>\n",
       "    </tr>\n",
       "  </tbody>\n",
       "</table>\n",
       "</div>\n",
       "      <button class=\"colab-df-convert\" onclick=\"convertToInteractive('df-dd0b9d6d-50e6-47a3-b249-5c747bb65122')\"\n",
       "              title=\"Convert this dataframe to an interactive table.\"\n",
       "              style=\"display:none;\">\n",
       "        \n",
       "  <svg xmlns=\"http://www.w3.org/2000/svg\" height=\"24px\"viewBox=\"0 0 24 24\"\n",
       "       width=\"24px\">\n",
       "    <path d=\"M0 0h24v24H0V0z\" fill=\"none\"/>\n",
       "    <path d=\"M18.56 5.44l.94 2.06.94-2.06 2.06-.94-2.06-.94-.94-2.06-.94 2.06-2.06.94zm-11 1L8.5 8.5l.94-2.06 2.06-.94-2.06-.94L8.5 2.5l-.94 2.06-2.06.94zm10 10l.94 2.06.94-2.06 2.06-.94-2.06-.94-.94-2.06-.94 2.06-2.06.94z\"/><path d=\"M17.41 7.96l-1.37-1.37c-.4-.4-.92-.59-1.43-.59-.52 0-1.04.2-1.43.59L10.3 9.45l-7.72 7.72c-.78.78-.78 2.05 0 2.83L4 21.41c.39.39.9.59 1.41.59.51 0 1.02-.2 1.41-.59l7.78-7.78 2.81-2.81c.8-.78.8-2.07 0-2.86zM5.41 20L4 18.59l7.72-7.72 1.47 1.35L5.41 20z\"/>\n",
       "  </svg>\n",
       "      </button>\n",
       "      \n",
       "  <style>\n",
       "    .colab-df-container {\n",
       "      display:flex;\n",
       "      flex-wrap:wrap;\n",
       "      gap: 12px;\n",
       "    }\n",
       "\n",
       "    .colab-df-convert {\n",
       "      background-color: #E8F0FE;\n",
       "      border: none;\n",
       "      border-radius: 50%;\n",
       "      cursor: pointer;\n",
       "      display: none;\n",
       "      fill: #1967D2;\n",
       "      height: 32px;\n",
       "      padding: 0 0 0 0;\n",
       "      width: 32px;\n",
       "    }\n",
       "\n",
       "    .colab-df-convert:hover {\n",
       "      background-color: #E2EBFA;\n",
       "      box-shadow: 0px 1px 2px rgba(60, 64, 67, 0.3), 0px 1px 3px 1px rgba(60, 64, 67, 0.15);\n",
       "      fill: #174EA6;\n",
       "    }\n",
       "\n",
       "    [theme=dark] .colab-df-convert {\n",
       "      background-color: #3B4455;\n",
       "      fill: #D2E3FC;\n",
       "    }\n",
       "\n",
       "    [theme=dark] .colab-df-convert:hover {\n",
       "      background-color: #434B5C;\n",
       "      box-shadow: 0px 1px 3px 1px rgba(0, 0, 0, 0.15);\n",
       "      filter: drop-shadow(0px 1px 2px rgba(0, 0, 0, 0.3));\n",
       "      fill: #FFFFFF;\n",
       "    }\n",
       "  </style>\n",
       "\n",
       "      <script>\n",
       "        const buttonEl =\n",
       "          document.querySelector('#df-dd0b9d6d-50e6-47a3-b249-5c747bb65122 button.colab-df-convert');\n",
       "        buttonEl.style.display =\n",
       "          google.colab.kernel.accessAllowed ? 'block' : 'none';\n",
       "\n",
       "        async function convertToInteractive(key) {\n",
       "          const element = document.querySelector('#df-dd0b9d6d-50e6-47a3-b249-5c747bb65122');\n",
       "          const dataTable =\n",
       "            await google.colab.kernel.invokeFunction('convertToInteractive',\n",
       "                                                     [key], {});\n",
       "          if (!dataTable) return;\n",
       "\n",
       "          const docLinkHtml = 'Like what you see? Visit the ' +\n",
       "            '<a target=\"_blank\" href=https://colab.research.google.com/notebooks/data_table.ipynb>data table notebook</a>'\n",
       "            + ' to learn more about interactive tables.';\n",
       "          element.innerHTML = '';\n",
       "          dataTable['output_type'] = 'display_data';\n",
       "          await google.colab.output.renderOutput(dataTable, element);\n",
       "          const docLink = document.createElement('div');\n",
       "          docLink.innerHTML = docLinkHtml;\n",
       "          element.appendChild(docLink);\n",
       "        }\n",
       "      </script>\n",
       "    </div>\n",
       "  </div>\n",
       "  "
      ],
      "text/plain": [
       "   work_year experience_level employment_type           job_title  salary  \\\n",
       "0       2023               MI              FT  AWS Data Architect  258000   \n",
       "1       2023               SE              FT      Data Scientist  225000   \n",
       "2       2023               SE              FT      Data Scientist  156400   \n",
       "3       2023               SE              FT       Data Engineer  190000   \n",
       "4       2023               SE              FT       Data Engineer  150000   \n",
       "\n",
       "  salary_currency  salary_in_usd employee_residence  remote_ratio  \\\n",
       "0             USD         258000                 US           100   \n",
       "1             USD         225000                 US             0   \n",
       "2             USD         156400                 US             0   \n",
       "3             USD         190000                 US           100   \n",
       "4             USD         150000                 US           100   \n",
       "\n",
       "  company_location company_size  \n",
       "0               US            L  \n",
       "1               US            M  \n",
       "2               US            M  \n",
       "3               US            M  \n",
       "4               US            M  "
      ]
     },
     "execution_count": 3,
     "metadata": {},
     "output_type": "execute_result"
    }
   ],
   "source": [
    "# read data\n",
    "\n",
    "salaries = pd.read_csv(\"salaries.csv\")\n",
    "salaries.head()"
   ]
  },
  {
   "cell_type": "code",
   "execution_count": 4,
   "id": "20bcab51",
   "metadata": {
    "colab": {
     "base_uri": "https://localhost:8080/"
    },
    "id": "20bcab51",
    "outputId": "2ecc53b6-8ec7-435d-a65e-d03797a0777f"
   },
   "outputs": [
    {
     "data": {
      "text/plain": [
       "(4134, 11)"
      ]
     },
     "execution_count": 4,
     "metadata": {},
     "output_type": "execute_result"
    }
   ],
   "source": [
    "salaries.shape"
   ]
  },
  {
   "cell_type": "markdown",
   "id": "dee9f53a",
   "metadata": {
    "id": "dee9f53a"
   },
   "source": [
    "#### **In this dataset, there are 4134 observations and there are 10 predictor, since we are using salary_in_usd as a response for our data analysis. The reason for this is that we want the data to be standardized across countries.**"
   ]
  },
  {
   "cell_type": "markdown",
   "id": "371a5a4a",
   "metadata": {
    "id": "371a5a4a"
   },
   "source": [
    "### Distribution of response\n",
    "*By Christina Tzavara*"
   ]
  },
  {
   "cell_type": "code",
   "execution_count": 13,
   "id": "aec7be2d",
   "metadata": {
    "colab": {
     "base_uri": "https://localhost:8080/",
     "height": 527
    },
    "id": "aec7be2d",
    "outputId": "513bbf8a-6dd3-445a-991a-9f110ff4a382"
   },
   "outputs": [
    {
     "data": {
      "text/plain": [
       "<Figure size 1000x500 with 0 Axes>"
      ]
     },
     "metadata": {},
     "output_type": "display_data"
    },
    {
     "data": {
      "image/png": "[encoded data removed]",
      "text/plain": [
       "<Figure size 500x500 with 1 Axes>"
      ]
     },
     "metadata": {},
     "output_type": "display_data"
    }
   ],
   "source": [
    "#Plotting distribution of our response variable, salary_in_usd\n",
    "\n",
    "sns.set(style='ticks', palette='viridis')\n",
    "plt.figure(figsize=(10, 5))\n",
    "g = sns.displot(salaries['salary_in_usd'], kde=True)\n",
    "\n",
    "# Setting plot title and axis labels with larger, bold font\n",
    "g.fig.suptitle(\"Distribution of Salaries in US Dollars\", fontsize=16, fontweight='bold')\n",
    "g.set(xlabel=\"Salary (USD)\", ylabel=\"Count\")\n",
    "\n",
    "# Customizing tick parameters\n",
    "plt.xticks(fontsize=12)\n",
    "plt.yticks(fontsize=12)\n",
    "\n",
    "# Remove the right and top spines\n",
    "sns.despine(right=True, top=True)\n",
    "\n",
    "# Adjustting plot layout\n",
    "plt.tight_layout()\n",
    "plt.show()\n"
   ]
  },
  {
   "cell_type": "markdown",
   "id": "ff6b5e83",
   "metadata": {
    "id": "ff6b5e83"
   },
   "source": [
    "### Data cleaning\n",
    "*Note: dataset is completely clean as shown below*"
   ]
  },
  {
   "cell_type": "code",
   "execution_count": 6,
   "id": "2aef5a7a",
   "metadata": {
    "colab": {
     "base_uri": "https://localhost:8080/"
    },
    "id": "2aef5a7a",
    "outputId": "65571897-a021-4838-9739-d7e8b6318a88"
   },
   "outputs": [
    {
     "name": "stdout",
     "output_type": "stream",
     "text": [
      "Missing values:\n",
      " work_year             0\n",
      "experience_level      0\n",
      "employment_type       0\n",
      "job_title             0\n",
      "salary                0\n",
      "salary_currency       0\n",
      "salary_in_usd         0\n",
      "employee_residence    0\n",
      "remote_ratio          0\n",
      "company_location      0\n",
      "company_size          0\n",
      "dtype: int64\n"
     ]
    }
   ],
   "source": [
    "# Check for missing values\n",
    "missing_values = salaries.isnull().sum()\n",
    "print(\"Missing values:\\n\", missing_values)"
   ]
  },
  {
   "cell_type": "markdown",
   "id": "424479b5",
   "metadata": {
    "id": "424479b5"
   },
   "source": [
    "### Data preparation\n",
    "*By Alex Olmeta*\n",
    "\n",
    "- We needed to bin the hundreds of job titles in 10 main categories since the names for the job positions weren't standardized.\n",
    "- Alex, add comments to your code below as per the instructions"
   ]
  },
  {
   "cell_type": "code",
   "execution_count": null,
   "id": "e2248b7f",
   "metadata": {
    "id": "e2248b7f",
    "outputId": "07b1e089-fd3a-41f2-9bd6-529ada52aaad"
   },
   "outputs": [
    {
     "data": {
      "text/plain": [
       "data_science_and_ml                  1534\n",
       "data_engineering_and_architecture    1474\n",
       "data_analysis_and_visualization       692\n",
       "data_management_and_strategy          146\n",
       "research_and_science                  133\n",
       "business_intelligence                  50\n",
       "other_data_related                     49\n",
       "computer_vision                        29\n",
       "ai_development                         16\n",
       "nlp_engineer                           11\n",
       "Name: job_title_binned, dtype: int64"
      ]
     },
     "execution_count": 15,
     "metadata": {},
     "output_type": "execute_result"
    }
   ],
   "source": [
    "salaries.job_title_binned.value_counts()"
   ]
  },
  {
   "cell_type": "code",
   "execution_count": null,
   "id": "5cc24aed",
   "metadata": {
    "id": "5cc24aed"
   },
   "outputs": [],
   "source": [
    "job_categories = {\n",
    "    'data_science_and_ml': ['Data Scientist', 'Applied Scientist', 'ML Engineer', 'Machine Learning Engineer', 'Applied Machine Learning Engineer', 'Research Engineer', 'Machine Learning Developer', 'Machine Learning Scientist', 'AI Scientist', 'Machine Learning Software Engineer', 'Principal Data Scientist', 'Machine Learning Researcher', 'Decision Scientist', 'Machine Learning Research Engineer', 'Principal Machine Learning Engineer', 'Machine Learning Manager', 'Lead Machine Learning Engineer', 'Principal Data Analyst', 'Staff Data Scientist', 'Applied Machine Learning Scientist', 'Lead Data Scientist'],\n",
    "    'data_engineering_and_architecture': ['AWS Data Architect', 'Data Engineer', 'Data Manager', 'Data Architect', 'Data Integration Specialist', 'ETL Developer', 'BI Data Analyst', 'Data Modeler', 'Cloud Data Engineer', 'Data Operations Analyst', 'ETL Engineer', 'Data DevOps Engineer', 'Data Quality Analyst', 'Big Data Engineer', 'BI Data Engineer', 'Cloud Database Engineer', 'Data Infrastructure Engineer', 'Software Data Engineer', 'Data Operations Engineer', 'Big Data Architect', 'Azure Data Engineer', 'Marketing Data Engineer', 'Data Management Specialist', 'Principal Data Architect', 'Cloud Data Architect', 'Principal Data Engineer', 'Machine Learning Infrastructure Engineer', 'MLOps Engineer', 'Analytics Engineer'],\n",
    "    'data_analysis_and_visualization': ['Data Analyst', 'Product Data Analyst', 'Data Visualization Analyst', 'Sales Data Analyst', 'BI Developer', 'Business Data Analyst', 'Lead Data Analyst', 'BI Analyst', 'Insight Analyst', 'Marketing Data Analyst', 'Data Analytics Lead'],\n",
    "    'data_management_and_strategy': ['Head of Data', 'Data Specialist', 'Director of Data Science', 'Data Science Manager', 'Data Science Lead', 'Data Strategist', 'Data Analytics Manager', 'Manager Data Management', 'Data Management Specialist'],\n",
    "    'ai_development': ['Autonomous Vehicle Operations Lead', 'Autonomous Vehicle Technician', 'AI Developer', 'AI Programmer'],\n",
    "    'computer_vision': ['Computer Vision Engineer', 'Computer Vision Software Engineer', '3D Computer Vision Researcher'],\n",
    "    'nlp_engineer': ['NLP Engineer'],\n",
    "    'business_intelligence': ['Business Intelligence Engineer', 'BI Data Analyst', 'BI Developer', 'BI Data Engineer', 'BI Analyst', 'Power BI Developer'],\n",
    "    'research_and_science': ['Research Scientist', 'Applied Data Scientist', 'Data Science Consultant', 'Deep Learning Researcher', 'Deep Learning Engineer'],\n",
    "    'other_data_related': ['Finance Data Analyst', 'Compliance Data Analyst', 'Data Science Tech Lead', 'Marketing Data Scientist', 'Product Data Scientist', 'Staff Data Analyst', 'Data Analytics Specialist', 'Data Analytics Engineer', 'Data Analytics Consultant', 'Data Management Specialist', 'Head of Data Science', 'Data Lead', 'Data Science Engineer', 'Insight Analyst', 'Data Science Engineer', 'Data Analytics Engineer', 'Data Analytics Consultant', 'Data Management Specialist', 'Data Scientist Lead', 'Principal Data Architect', 'Lead Data Engineer', 'Head of Machine Learning', 'Staff Data Scientist', 'Financial Data Analyst']\n",
    "}"
   ]
  },
  {
   "cell_type": "code",
   "execution_count": null,
   "id": "acaa9ace",
   "metadata": {
    "id": "acaa9ace",
    "outputId": "0b5a8a0a-9adb-4611-9ebd-2e87dcede23e"
   },
   "outputs": [
    {
     "data": {
      "text/plain": [
       "[]"
      ]
     },
     "execution_count": 12,
     "metadata": {},
     "output_type": "execute_result"
    }
   ],
   "source": [
    "# check to make sure all jobs fall in a category\n",
    "\n",
    "not_cat = []\n",
    "for i in range(len(salaries.job_title)):\n",
    "    title = salaries.job_title[i]\n",
    "    categorized = False\n",
    "    for key in job_categories.keys():\n",
    "        cat = job_categories[key]\n",
    "        if title in cat:\n",
    "            categorized = True\n",
    "    if not categorized:\n",
    "        not_cat.append(title)\n",
    "\n",
    "list(set(not_cat))"
   ]
  },
  {
   "cell_type": "code",
   "execution_count": null,
   "id": "45f11835",
   "metadata": {
    "id": "45f11835"
   },
   "outputs": [],
   "source": [
    "# bin jobs based on category\n",
    "\n",
    "binned_jobs = [None] * len(salaries.job_title)\n",
    "for i in range(len(salaries.job_title)):\n",
    "    title = salaries.job_title[i]\n",
    "    categorized = False\n",
    "    for key in job_categories.keys():\n",
    "        cat = job_categories[key]\n",
    "        if title in cat:\n",
    "            binned_jobs[i] = key\n",
    "\n",
    "\n",
    "salaries['job_title_binned'] = binned_jobs"
   ]
  },
  {
   "cell_type": "code",
   "execution_count": null,
   "id": "87009ef1",
   "metadata": {
    "id": "87009ef1",
    "outputId": "253ceaad-6671-4bbf-84c6-1e8a9d5cd28c"
   },
   "outputs": [
    {
     "data": {
      "text/plain": [
       "10"
      ]
     },
     "execution_count": 14,
     "metadata": {},
     "output_type": "execute_result"
    }
   ],
   "source": [
    "len(salaries.job_title_binned.unique())"
   ]
  },
  {
   "cell_type": "code",
   "execution_count": null,
   "id": "f9fc8100",
   "metadata": {
    "id": "f9fc8100"
   },
   "outputs": [],
   "source": [
    "salaries.to_csv('binned_jobs.csv', index=False) "
   ]
  },
  {
   "cell_type": "markdown",
   "id": "fbb11c9b",
   "metadata": {
    "id": "fbb11c9b"
   },
   "source": [
    "## Exploratory data analysis\n",
    "*By Christina Tzavara*"
   ]
  },
  {
   "cell_type": "code",
   "execution_count": 4,
   "id": "edbd2d10",
   "metadata": {
    "colab": {
     "base_uri": "https://localhost:8080/",
     "height": 270
    },
    "id": "edbd2d10",
    "outputId": "9682390f-9dd4-4bdf-ca81-d3bfd560c4af"
   },
   "outputs": [
    {
     "data": {
      "text/html": [
       "<div>\n",
       "<style scoped>\n",
       "    .dataframe tbody tr th:only-of-type {\n",
       "        vertical-align: middle;\n",
       "    }\n",
       "\n",
       "    .dataframe tbody tr th {\n",
       "        vertical-align: top;\n",
       "    }\n",
       "\n",
       "    .dataframe thead th {\n",
       "        text-align: right;\n",
       "    }\n",
       "</style>\n",
       "<table border=\"1\" class=\"dataframe\">\n",
       "  <thead>\n",
       "    <tr style=\"text-align: right;\">\n",
       "      <th></th>\n",
       "      <th>work_year</th>\n",
       "      <th>experience_level</th>\n",
       "      <th>employment_type</th>\n",
       "      <th>salary_currency</th>\n",
       "      <th>salary_in_usd</th>\n",
       "      <th>employee_residence</th>\n",
       "      <th>remote_ratio</th>\n",
       "      <th>company_location</th>\n",
       "      <th>company_size</th>\n",
       "      <th>job_title_binned</th>\n",
       "    </tr>\n",
       "  </thead>\n",
       "  <tbody>\n",
       "    <tr>\n",
       "      <th>0</th>\n",
       "      <td>2023</td>\n",
       "      <td>MI</td>\n",
       "      <td>FT</td>\n",
       "      <td>USD</td>\n",
       "      <td>258000</td>\n",
       "      <td>US</td>\n",
       "      <td>100</td>\n",
       "      <td>US</td>\n",
       "      <td>L</td>\n",
       "      <td>data_engineering_and_architecture</td>\n",
       "    </tr>\n",
       "    <tr>\n",
       "      <th>1</th>\n",
       "      <td>2023</td>\n",
       "      <td>SE</td>\n",
       "      <td>FT</td>\n",
       "      <td>USD</td>\n",
       "      <td>225000</td>\n",
       "      <td>US</td>\n",
       "      <td>0</td>\n",
       "      <td>US</td>\n",
       "      <td>M</td>\n",
       "      <td>data_science_and_ml</td>\n",
       "    </tr>\n",
       "    <tr>\n",
       "      <th>2</th>\n",
       "      <td>2023</td>\n",
       "      <td>SE</td>\n",
       "      <td>FT</td>\n",
       "      <td>USD</td>\n",
       "      <td>156400</td>\n",
       "      <td>US</td>\n",
       "      <td>0</td>\n",
       "      <td>US</td>\n",
       "      <td>M</td>\n",
       "      <td>data_science_and_ml</td>\n",
       "    </tr>\n",
       "    <tr>\n",
       "      <th>3</th>\n",
       "      <td>2023</td>\n",
       "      <td>SE</td>\n",
       "      <td>FT</td>\n",
       "      <td>USD</td>\n",
       "      <td>190000</td>\n",
       "      <td>US</td>\n",
       "      <td>100</td>\n",
       "      <td>US</td>\n",
       "      <td>M</td>\n",
       "      <td>data_engineering_and_architecture</td>\n",
       "    </tr>\n",
       "    <tr>\n",
       "      <th>4</th>\n",
       "      <td>2023</td>\n",
       "      <td>SE</td>\n",
       "      <td>FT</td>\n",
       "      <td>USD</td>\n",
       "      <td>150000</td>\n",
       "      <td>US</td>\n",
       "      <td>100</td>\n",
       "      <td>US</td>\n",
       "      <td>M</td>\n",
       "      <td>data_engineering_and_architecture</td>\n",
       "    </tr>\n",
       "  </tbody>\n",
       "</table>\n",
       "</div>"
      ],
      "text/plain": [
       "   work_year experience_level employment_type salary_currency  salary_in_usd  \\\n",
       "0       2023               MI              FT             USD         258000   \n",
       "1       2023               SE              FT             USD         225000   \n",
       "2       2023               SE              FT             USD         156400   \n",
       "3       2023               SE              FT             USD         190000   \n",
       "4       2023               SE              FT             USD         150000   \n",
       "\n",
       "  employee_residence  remote_ratio company_location company_size  \\\n",
       "0                 US           100               US            L   \n",
       "1                 US             0               US            M   \n",
       "2                 US             0               US            M   \n",
       "3                 US           100               US            M   \n",
       "4                 US           100               US            M   \n",
       "\n",
       "                    job_title_binned  \n",
       "0  data_engineering_and_architecture  \n",
       "1                data_science_and_ml  \n",
       "2                data_science_and_ml  \n",
       "3  data_engineering_and_architecture  \n",
       "4  data_engineering_and_architecture  "
      ]
     },
     "execution_count": 4,
     "metadata": {},
     "output_type": "execute_result"
    }
   ],
   "source": [
    "binned_jobs = pd.read_csv(\"binned_jobs.csv\")\n",
    "binned_jobs =  binned_jobs.drop('job_title', axis = 1)\n",
    "binned_jobs =  binned_jobs.drop('salary', axis = 1)\n",
    "#check updated dataset with new column job_title_binned\n",
    "binned_jobs.head()"
   ]
  },
  {
   "cell_type": "code",
   "execution_count": null,
   "id": "4dc826ff",
   "metadata": {
    "id": "4dc826ff",
    "outputId": "792c1047-074d-44e6-cca2-d9dbb95561b8"
   },
   "outputs": [
    {
     "name": "stdout",
     "output_type": "stream",
     "text": [
      "Summary Statistics for 'salary_in_usd':\n",
      "╒═════════════╤══════════╕\n",
      "│ Statistic   │    Value │\n",
      "╞═════════════╪══════════╡\n",
      "│ count       │   4134   │\n",
      "├─────────────┼──────────┤\n",
      "│ mean        │ 139416   │\n",
      "├─────────────┼──────────┤\n",
      "│ std         │  63605.5 │\n",
      "├─────────────┼──────────┤\n",
      "│ min         │   5132   │\n",
      "├─────────────┼──────────┤\n",
      "│ 25%         │  96817   │\n",
      "├─────────────┼──────────┤\n",
      "│ 50%         │ 136000   │\n",
      "├─────────────┼──────────┤\n",
      "│ 75%         │ 179820   │\n",
      "├─────────────┼──────────┤\n",
      "│ max         │ 450000   │\n",
      "╘═════════════╧══════════╛\n"
     ]
    }
   ],
   "source": [
    "import pandas as pd\n",
    "from tabulate import tabulate\n",
    "\n",
    "# Compute summary statistics for 'salary_in_usd'\n",
    "salary_stats = salaries['salary_in_usd'].describe().reset_index()\n",
    "salary_stats.columns = ['Statistic', 'Value']\n",
    "\n",
    "# Convert the summary statistics to a table\n",
    "salary_table = tabulate(salary_stats, headers='keys', tablefmt='fancy_grid', showindex=False)\n",
    "print(\"Summary Statistics for 'salary_in_usd':\")\n",
    "print(salary_table)\n"
   ]
  },
  {
   "cell_type": "markdown",
   "id": "rVkmXqENpoi9",
   "metadata": {
    "id": "rVkmXqENpoi9"
   },
   "source": [
    "#### **Looking at the average values for our repsonse per job title:**"
   ]
  },
  {
   "cell_type": "code",
   "execution_count": 12,
   "id": "a9c823ec",
   "metadata": {
    "colab": {
     "base_uri": "https://localhost:8080/",
     "height": 501
    },
    "id": "a9c823ec",
    "outputId": "96adc8cf-92c1-435e-8aa7-881deb9453c8"
   },
   "outputs": [
    {
     "data": {
      "image/png": "[encoded data removed]",
      "text/plain": [
       "<Figure size 1000x500 with 1 Axes>"
      ]
     },
     "metadata": {},
     "output_type": "display_data"
    }
   ],
   "source": [
    "\n",
    "# Group the data by job title and calculate the average salary\n",
    "average_salary_by_title = binned_jobs.groupby('job_title_binned')['salary_in_usd'].mean().sort_values(ascending=False)\n",
    "\n",
    "# Create a bar plot with each job title having its own color\n",
    "plt.figure(figsize=(10, 5))\n",
    "\n",
    "# Generate a color map with a unique color for each job title\n",
    "color_map = plt.get_cmap('tab20', len(average_salary_by_title))\n",
    "\n",
    "# Get the list of job titles and corresponding average salaries\n",
    "job_titles = average_salary_by_title.index\n",
    "average_salaries = average_salary_by_title.values\n",
    "\n",
    "# Plot each bar with a unique color\n",
    "for i in range(len(job_titles)):\n",
    "    plt.barh(job_titles[i], average_salaries[i], color=color_map(i))\n",
    "\n",
    "plt.xlabel('Average Salary (USD)')\n",
    "plt.ylabel('Job Title')\n",
    "\n",
    "# Customize the title\n",
    "plt.title('Average Salaries by Job Title', fontweight='bold', fontsize=16)\n",
    "\n",
    "# Adjust the layout\n",
    "plt.tight_layout()\n",
    "\n",
    "# Display the plot\n",
    "plt.show()\n"
   ]
  },
  {
   "cell_type": "markdown",
   "id": "acab331a",
   "metadata": {
    "id": "acab331a"
   },
   "source": [
    "## Developing the model: Hyperparameter tuning"
   ]
  },
  {
   "cell_type": "markdown",
   "id": "21bc9dcc",
   "metadata": {
    "id": "21bc9dcc"
   },
   "source": [
    "### MARS \n",
    "*By Christina Tzavara*"
   ]
  },
  {
   "cell_type": "markdown",
   "id": "a8cf4d9d",
   "metadata": {},
   "source": [
    "### First, running a general baseline model:"
   ]
  },
  {
   "cell_type": "code",
   "execution_count": 5,
   "id": "2d65f3db",
   "metadata": {
    "id": "2d65f3db"
   },
   "outputs": [],
   "source": [
    "binned_jobs_encoded = pd.get_dummies(binned_jobs, drop_first=True)\n",
    "X = binned_jobs_encoded.drop('salary_in_usd',axis=1)\n",
    "y = binned_jobs_encoded['salary_in_usd']\n",
    "\n",
    "# Split the data into train and test sets\n",
    "X_train, X_test, y_train, y_test = train_test_split(X, y, test_size=0.2, random_state=45)\n",
    "\n",
    "# Create a baseline linear regression model\n",
    "baseline_model = LinearRegression()\n",
    "\n",
    "# Fit the model on the training data\n",
    "baseline_model.fit(X_train, y_train)\n",
    "\n",
    "# Predict on the test data\n",
    "y_pred = baseline_model.predict(X_test)\n"
   ]
  },
  {
   "cell_type": "code",
   "execution_count": 10,
   "id": "8c57f6a7",
   "metadata": {},
   "outputs": [
    {
     "name": "stdout",
     "output_type": "stream",
     "text": [
      "Mean Absolute Error: $ 280696947960.07605\n"
     ]
    }
   ],
   "source": [
    "# Calculate the mean absolute error (MAE)\n",
    "mae = mean_absolute_error(y_test, y_pred)\n",
    "print(\"Mean Absolute Error: $\", mae)"
   ]
  },
  {
   "cell_type": "markdown",
   "id": "829f247d",
   "metadata": {},
   "source": [
    "### Developing MARS initial model by finding max_degree that minimizes MAE:"
   ]
  },
  {
   "cell_type": "code",
   "execution_count": null,
   "id": "27dbc934",
   "metadata": {
    "id": "27dbc934",
    "outputId": "7222844f-4da3-46d0-95ec-2396ae3234ee"
   },
   "outputs": [
    {
     "name": "stdout",
     "output_type": "stream",
     "text": [
      "Best Model max_degree:  1\n",
      "MAE:  37315.428132284724\n"
     ]
    }
   ],
   "source": [
    "from sklearn.model_selection import GridSearchCV\n",
    "from pyearth import Earth\n",
    "\n",
    "# Define the parameter grid\n",
    "param_grid = {\n",
    "    'max_degree': [1, 2, 3, 4, 5]  # Vary the max_degree values as needed\n",
    "}\n",
    "\n",
    "\n",
    "mars = Earth()\n",
    "#MAE as the scoring metric\n",
    "grid_search = GridSearchCV(mars, param_grid, scoring='neg_mean_absolute_error', cv=3)\n",
    "\n",
    "# Fit the grid search on the training data\n",
    "grid_search.fit(X_train, y_train)\n",
    "\n",
    "# Get the best model max_degree and MAE\n",
    "print(\"Best Model max_degree: \", grid_search.best_params_['max_degree'])\n",
    "print(\"MAE: \", -grid_search.best_score_)  # Convert negative score back to positive\n"
   ]
  },
  {
   "cell_type": "markdown",
   "id": "1571d7b7",
   "metadata": {},
   "source": [
    "### Visualizing max_degree - MAE trade-off:"
   ]
  },
  {
   "cell_type": "code",
   "execution_count": null,
   "id": "dfc3c3c6",
   "metadata": {
    "id": "dfc3c3c6",
    "outputId": "0b4c9b7f-d33d-46f5-a9dc-84432e97279f",
    "scrolled": true
   },
   "outputs": [
    {
     "data": {
      "image/png": "[encoded data removed]",
      "text/plain": [
       "<Figure size 432x288 with 1 Axes>"
      ]
     },
     "metadata": {
      "needs_background": "light"
     },
     "output_type": "display_data"
    }
   ],
   "source": [
    "import matplotlib.pyplot as plt\n",
    "\n",
    "# Get the max_degree values and corresponding mean_test_score\n",
    "max_degrees = grid_search.cv_results_['param_max_degree'].data.astype(int)\n",
    "mae_scores = -grid_search.cv_results_['mean_test_score']\n",
    "\n",
    "# Plot \n",
    "plt.plot(max_degrees, mae_scores, marker='o')\n",
    "plt.xlabel('max_degree')\n",
    "plt.ylabel('MAE')\n",
    "plt.title('Grid Search Results')\n",
    "plt.grid(True)\n",
    "plt.show()\n"
   ]
  },
  {
   "cell_type": "markdown",
   "id": "07d3b7ea",
   "metadata": {},
   "source": [
    "### Second MARS model after silmutaneous tuning of max_terms & max_degree:"
   ]
  },
  {
   "cell_type": "code",
   "execution_count": null,
   "id": "e01536ac",
   "metadata": {},
   "outputs": [],
   "source": [
    "# Finer search for degree + silmutaneous tuning for max terms\n",
    "\n",
    "#Define the parameter grid\n",
    "param_grid = {\n",
    "    'max_terms': [50,100, 200],  # Vary the max_terms values as needed\n",
    "    'max_degree': [1, 2, 3]  # Vary the degree values as needed\n",
    "}\n",
    "\n",
    "mars = Earth()\n",
    "\n",
    "#MAE as the scoring metric\n",
    "grid_search = GridSearchCV(mars, param_grid, scoring='neg_mean_absolute_error', cv=3)\n",
    "\n",
    "# Fit the grid search on the training data\n",
    "grid_search.fit(X_train, y_train)"
   ]
  },
  {
   "cell_type": "code",
   "execution_count": null,
   "id": "4dddaf64",
   "metadata": {
    "id": "4dddaf64",
    "outputId": "466e4771-5e21-4130-fafd-b41f0635542c"
   },
   "outputs": [
    {
     "data": {
      "text/plain": [
       "{'max_degree': 1, 'max_terms': 50}"
      ]
     },
     "execution_count": 55,
     "metadata": {},
     "output_type": "execute_result"
    }
   ],
   "source": [
    "grid_search.best_params_"
   ]
  },
  {
   "cell_type": "markdown",
   "id": "c98c6db8",
   "metadata": {},
   "source": [
    "### Visualizing max_terms vs MAE:"
   ]
  },
  {
   "cell_type": "code",
   "execution_count": null,
   "id": "cc27a2d7",
   "metadata": {
    "id": "cc27a2d7",
    "outputId": "0da1b601-930a-429d-f36a-398517ba896d",
    "scrolled": true
   },
   "outputs": [
    {
     "data": {
      "image/png": "[encoded data removed]",
      "text/plain": [
       "<Figure size 432x288 with 1 Axes>"
      ]
     },
     "metadata": {
      "needs_background": "light"
     },
     "output_type": "display_data"
    }
   ],
   "source": [
    "# Get the max_degree values and corresponding mean_test_score\n",
    "max_degrees = grid_search.cv_results_['param_max_terms'].data.astype(int)\n",
    "mae_scores = -grid_search.cv_results_['mean_test_score']\n",
    "\n",
    "# Plot\n",
    "plt.plot(max_degrees, mae_scores, marker='o')\n",
    "plt.xlabel('max_terms')\n",
    "plt.ylabel('MAE')\n",
    "plt.title('Grid Search Results')\n",
    "plt.grid(True)\n",
    "plt.show()\n"
   ]
  },
  {
   "cell_type": "markdown",
   "id": "51101d58",
   "metadata": {},
   "source": [
    "### Final optimized model MAE:"
   ]
  },
  {
   "cell_type": "code",
   "execution_count": null,
   "id": "6b293de4",
   "metadata": {
    "id": "6b293de4",
    "outputId": "95481c38-efb0-4074-d5e5-eefa53b502e9"
   },
   "outputs": [
    {
     "name": "stdout",
     "output_type": "stream",
     "text": [
      "Mean Absolute Error: $ 36813.0367444063\n"
     ]
    }
   ],
   "source": [
    "model3 = Earth(max_terms = 50, max_degree=1) # note, terms in brackets are the hyperparameters \n",
    "model3.fit(X_train,y_train)\n",
    "\n",
    "# Predict on the test data using the best model\n",
    "y_pred = model3.predict(X_test)\n",
    "\n",
    "# Calculate the mean absolute error (MAE)\n",
    "mae = mean_absolute_error(y_test, y_pred)\n",
    "\n",
    "# Print the mean absolute error\n",
    "print(\"Mean Absolute Error: $\", mae)\n"
   ]
  },
  {
   "cell_type": "markdown",
   "id": "a67c9ff7",
   "metadata": {
    "id": "a67c9ff7"
   },
   "source": [
    "### Decision trees with Cost Complexity Pruning & Bagging\n",
    "*By Sarah Abdulwahid*"
   ]
  },
  {
   "cell_type": "markdown",
   "id": "017ca069",
   "metadata": {
    "id": "017ca069"
   },
   "source": [
    "### Bagged trees & Random forest\n",
    "*By Fiona Fe*"
   ]
  },
  {
   "cell_type": "markdown",
   "id": "8182968b",
   "metadata": {
    "id": "8182968b"
   },
   "source": [
    "### XGBoost\n",
    "*By Ryu Kimiko*"
   ]
  },
  {
   "cell_type": "markdown",
   "id": "a221dcc6",
   "metadata": {
    "id": "a221dcc6"
   },
   "source": [
    "## Model Ensemble "
   ]
  },
  {
   "cell_type": "markdown",
   "id": "9dc8b3d9",
   "metadata": {
    "id": "9dc8b3d9"
   },
   "source": [
    "Put code with comments. The comments should explain the code such that it can be easily understood. You may put text *(in a markdown cell)* before a large chunk of code to explain the overall purpose of the code, if it is not intuitive. **Put the name of the person / persons who contributed to each code chunk / set of code chunks.**\n"
   ]
  },
  {
   "cell_type": "markdown",
   "id": "961bcb1d",
   "metadata": {
    "id": "961bcb1d"
   },
   "source": [
    "### Voting ensemble"
   ]
  },
  {
   "cell_type": "markdown",
   "id": "ca651ba0",
   "metadata": {
    "id": "ca651ba0"
   },
   "source": [
    "### Stacking ensemble(s)"
   ]
  },
  {
   "cell_type": "markdown",
   "id": "ddff3adf",
   "metadata": {
    "id": "ddff3adf"
   },
   "source": [
    "### Ensemble of ensembled models"
   ]
  },
  {
   "cell_type": "markdown",
   "id": "3668faab",
   "metadata": {
    "id": "3668faab"
   },
   "source": [
    "### Innovative ensembling methods\n",
    "*(Optional)*"
   ]
  },
  {
   "cell_type": "markdown",
   "id": "62a185cb",
   "metadata": {
    "id": "62a185cb"
   },
   "source": [
    "## Conclusions and Recommendations to stakeholder(s)\n",
    "\n",
    "You may or may not have code to put in this section. Delete this section if it is irrelevant."
   ]
  }
 ],
 "metadata": {
  "colab": {
   "provenance": []
  },
  "kernelspec": {
   "display_name": "Python 3 (ipykernel)",
   "language": "python",
   "name": "python3"
  },
  "language_info": {
   "codemirror_mode": {
    "name": "ipython",
    "version": 3
   },
   "file_extension": ".py",
   "mimetype": "text/x-python",
   "name": "python",
   "nbconvert_exporter": "python",
   "pygments_lexer": "ipython3",
   "version": "3.9.12"
  }
 },
 "nbformat": 4,
 "nbformat_minor": 5
}
