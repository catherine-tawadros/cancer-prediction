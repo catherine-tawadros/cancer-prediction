{
 "cells": [
  {
   "cell_type": "code",
   "execution_count": 1,
   "id": "98620492",
   "metadata": {},
   "outputs": [],
   "source": [
    "import pandas as pd\n",
    "import numpy as np\n",
    "import seaborn as sns\n",
    "import matplotlib.pyplot as plt\n",
    "from sklearn.metrics import mean_squared_error\n",
    "from sklearn.model_selection import cross_val_score,train_test_split\n",
    "from sklearn.model_selection import KFold\n",
    "from sklearn.tree import DecisionTreeRegressor,DecisionTreeClassifier\n",
    "from sklearn.model_selection import GridSearchCV, ParameterGrid, RandomizedSearchCV\n",
    "from sklearn.ensemble import BaggingRegressor,BaggingClassifier,RandomForestRegressor,RandomForestClassifier\n",
    "from sklearn.linear_model import LinearRegression,LogisticRegression\n",
    "from sklearn.neighbors import KNeighborsRegressor\n",
    "from sklearn.metrics import roc_curve, precision_recall_curve, auc, make_scorer, recall_score, \\\n",
    "accuracy_score, precision_score, confusion_matrix, mean_squared_error, r2_score, mean_absolute_error\n",
    "\n",
    "#Libraries for visualizing trees\n",
    "from sklearn.tree import export_graphviz \n",
    "from six import StringIO\n",
    "from IPython.display import Image\n",
    "import time as tm"
   ]
  },
  {
   "cell_type": "code",
   "execution_count": 4,
   "id": "84730782",
   "metadata": {},
   "outputs": [],
   "source": [
    "import warnings\n",
    "warnings.filterwarnings('ignore')"
   ]
  },
  {
   "cell_type": "code",
   "execution_count": 2,
   "id": "7c718226",
   "metadata": {},
   "outputs": [],
   "source": [
    "binned_jobs = pd.read_csv(\"binned_jobs.csv\")\n",
    "binned_jobs.drop(['job_title', 'salary'], axis = 1)\n",
    "\n",
    "# Convert categorical variables to dummy variables\n",
    "binned_jobs_encoded = pd.get_dummies(binned_jobs, drop_first=True)\n",
    "\n",
    "# Separate the features (X) and the target variable (y)\n",
    "X = binned_jobs_encoded.drop(['salary_in_usd', 'salary'],axis=1)\n",
    "y = binned_jobs_encoded['salary_in_usd']\n",
    "\n",
    "# Split the data into train and test sets\n",
    "X_train, X_test, y_train, y_test = train_test_split(X, y, test_size=0.2, random_state=45)"
   ]
  },
  {
   "cell_type": "code",
   "execution_count": 3,
   "id": "ed3f5435",
   "metadata": {},
   "outputs": [
    {
     "name": "stderr",
     "output_type": "stream",
     "text": [
      "\n",
      "KeyboardInterrupt\n",
      "\n"
     ]
    }
   ],
   "source": [
    "import numpy as np\n",
    "from sklearn.model_selection import GridSearchCV\n",
    "from pyearth import Earth\n",
    "\n",
    "# Define the parameter grid\n",
    "param_grid = {\n",
    "    'max_terms': [50,100, 200],  # Vary the max_terms values as needed\n",
    "    'max_degree': [1, 2, 3]  # Vary the degree values as needed\n",
    "}\n",
    "\n",
    "# Initialize the MARS model\n",
    "mars = Earth()\n",
    "\n",
    "# Create the GridSearchCV object with MAE as the scoring metric\n",
    "grid_search = GridSearchCV(mars, param_grid, scoring='neg_mean_absolute_error', cv=3)\n",
    "\n",
    "# Fit the grid search on the training data\n",
    "grid_search.fit(X_train, y_train)\n",
    "\n",
    "# Print the best model parameters and MAE\n",
    "print(\"Best Model Parameters:\")\n",
    "print(\"max_terms:\", grid_search.best_params_['max_terms'])\n",
    "print(\"degree:\", grid_search.best_params_['max_degree'])\n",
    "print(\"MAE:\", -grid_search.best_score_)  # Convert negative score back to positive"
   ]
  },
  {
   "cell_type": "code",
   "execution_count": null,
   "id": "d34e8761",
   "metadata": {},
   "outputs": [],
   "source": [
    "model3 = Earth(max_terms = grid_search.best_params_['max_terms'], max_degree=grid_search.best_params_['max_degree']) # note, terms in brackets are the hyperparameters\n",
    "model3.fit(X_train,y_train)\n",
    "\n",
    "# Predict on the test data using the best model\n",
    "y_pred = model3.predict(X_test)\n",
    "\n",
    "# Calculate the mean absolute error (MAE)\n",
    "mae = mean_absolute_error(y_test, y_pred)\n",
    "\n",
    "# Print the mean absolute error\n",
    "print(\"MAE: $\", mae)"
   ]
  },
  {
   "cell_type": "code",
   "execution_count": null,
   "id": "1d2e1a9a",
   "metadata": {},
   "outputs": [],
   "source": [
    "# Convert y_pred array to a DataFrame\n",
    "df_pred = pd.DataFrame({'y_pred': y_pred})\n",
    "\n",
    "# Save the DataFrame to a CSV file\n",
    "df_pred.to_csv('predictions.csv', index=False)"
   ]
  },
  {
   "cell_type": "code",
   "execution_count": null,
   "id": "b6f4f7f2",
   "metadata": {},
   "outputs": [],
   "source": [
    "import numpy as np\n",
    "from sklearn.model_selection import GridSearchCV\n",
    "from sklearn.ensemble import BaggingRegressor\n",
    "from pyearth import Earth\n",
    "\n",
    "# Initialize the Earth model\n",
    "earth = Earth(max_terms = 50, max_degree=1)\n",
    "\n",
    "# Initialize the BaggingRegressor with Earth as the base estimator\n",
    "bagging_earth = BaggingRegressor(base_estimator=earth)\n",
    "\n",
    "# Define the parameter grid\n",
    "param_grid = {\n",
    "    'n_estimators': [50, 100, 200, 250]  # Vary the number of estimators as needed\n",
    "}\n",
    "\n",
    "# Create the GridSearchCV object with MAE as the scoring metric\n",
    "grid_search = GridSearchCV(bagging_earth, param_grid, scoring='neg_mean_absolute_error', cv=3)\n",
    "\n",
    "# Fit the grid search on the training data\n",
    "grid_search.fit(X_train, y_train)\n",
    "\n",
    "# Print the best model parameters and MAE\n",
    "print(\"Best Model Parameters:\")\n",
    "print(\"n_estimators:\", grid_search.best_params_['n_estimators'])\n",
    "print(\"MAE:\", -grid_search.best_score_)  # Convert negative score back to positive"
   ]
  },
  {
   "cell_type": "code",
   "execution_count": null,
   "id": "431a442a",
   "metadata": {},
   "outputs": [],
   "source": [
    "from sklearn.ensemble import BaggingRegressor\n",
    "from sklearn.metrics import mean_absolute_error\n",
    "from pyearth import Earth\n",
    "\n",
    "# Create the MARS model\n",
    "mars_model = Earth(max_terms = 50, max_degree=1)\n",
    "\n",
    "# Create the bagging regressor with the MARS model\n",
    "bagged_model = BaggingRegressor(base_estimator=mars_model, n_estimators=grid_search.best_params_['n_estimators'], random_state=42)\n",
    "\n",
    "# Fit the bagged model to the training data\n",
    "bagged_model.fit(X_train, y_train)\n",
    "\n",
    "# Predict on the test data\n",
    "y_pred = bagged_model.predict(X_test)\n",
    "\n",
    "# Calculate the MAE\n",
    "mae = mean_absolute_error(y_test, y_pred)\n",
    "\n",
    "# Print the MAE\n",
    "print(\"MAE: \", mae)"
   ]
  },
  {
   "cell_type": "code",
   "execution_count": null,
   "id": "4e784abc",
   "metadata": {},
   "outputs": [],
   "source": [
    "# Convert y_pred array to a DataFrame\n",
    "df_pred = pd.DataFrame({'y_pred': y_pred})\n",
    "\n",
    "# Save the DataFrame to a CSV file\n",
    "df_pred.to_csv('bagged_mars_predictions.csv', index=False)"
   ]
  },
  {
   "cell_type": "code",
   "execution_count": null,
   "id": "52e478a5",
   "metadata": {},
   "outputs": [],
   "source": [
    "resids = y_test - preds\n",
    "sns.scatterplot(x=X_test, y=preds)"
   ]
  }
 ],
 "metadata": {
  "kernelspec": {
   "display_name": "Python 3 (ipykernel)",
   "language": "python",
   "name": "python3"
  },
  "language_info": {
   "codemirror_mode": {
    "name": "ipython",
    "version": 3
   },
   "file_extension": ".py",
   "mimetype": "text/x-python",
   "name": "python",
   "nbconvert_exporter": "python",
   "pygments_lexer": "ipython3",
   "version": "3.9.12"
  }
 },
 "nbformat": 4,
 "nbformat_minor": 5
}
