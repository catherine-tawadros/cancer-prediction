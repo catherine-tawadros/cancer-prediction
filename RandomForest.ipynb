{
 "cells": [
  {
   "cell_type": "code",
   "execution_count": 21,
   "id": "f5756b7c",
   "metadata": {},
   "outputs": [],
   "source": [
    "import pandas as pd\n",
    "import numpy as np\n",
    "import seaborn as sns\n",
    "import matplotlib.pyplot as plt\n",
    "from sklearn.metrics import mean_squared_error\n",
    "from sklearn.model_selection import cross_val_score,train_test_split\n",
    "from sklearn.model_selection import KFold\n",
    "from sklearn.tree import DecisionTreeRegressor,DecisionTreeClassifier\n",
    "from sklearn.model_selection import GridSearchCV, ParameterGrid, RandomizedSearchCV\n",
    "from sklearn.ensemble import BaggingRegressor,BaggingClassifier,RandomForestRegressor,RandomForestClassifier\n",
    "from sklearn.linear_model import LinearRegression,LogisticRegression\n",
    "from sklearn.neighbors import KNeighborsRegressor\n",
    "from sklearn.metrics import roc_curve, precision_recall_curve, auc, make_scorer, recall_score, \\\n",
    "accuracy_score, precision_score, confusion_matrix, mean_squared_error, r2_score, mean_absolute_error\n",
    "\n",
    "#Libraries for visualizing trees\n",
    "from sklearn.tree import export_graphviz \n",
    "from six import StringIO\n",
    "from IPython.display import Image\n",
    "import time as tm"
   ]
  },
  {
   "cell_type": "code",
   "execution_count": 38,
   "id": "623be187",
   "metadata": {},
   "outputs": [],
   "source": [
    "import warnings\n",
    "warnings.filterwarnings('ignore')"
   ]
  },
  {
   "cell_type": "code",
   "execution_count": 16,
   "id": "06ba3201",
   "metadata": {},
   "outputs": [],
   "source": [
    "binned_jobs = pd.read_csv(\"binned_jobs.csv\")\n",
    "binned_jobs.drop(['job_title', 'salary'], axis = 1)\n",
    "\n",
    "# Convert categorical variables to dummy variables\n",
    "binned_jobs_encoded = pd.get_dummies(binned_jobs, drop_first=True)\n",
    "\n",
    "# Separate the features (X) and the target variable (y)\n",
    "X = binned_jobs_encoded.drop(['salary_in_usd', 'salary'],axis=1)\n",
    "y = binned_jobs_encoded['salary_in_usd']\n",
    "\n",
    "# Split the data into train and test sets\n",
    "X_train, X_test, y_train, y_test = train_test_split(X, y, test_size=0.2, random_state=45)"
   ]
  },
  {
   "cell_type": "code",
   "execution_count": 26,
   "id": "17a29228",
   "metadata": {},
   "outputs": [
    {
     "name": "stdout",
     "output_type": "stream",
     "text": [
      "Fitting 2 folds for each of 250 candidates, totalling 500 fits\n",
      "{'max_leaf_nodes': 2400, 'max_features': 4, 'max_depth': 33, 'ccp_alpha': 0.1, 'bootstrap': True}\n"
     ]
    }
   ],
   "source": [
    "parameters = {'max_depth': np.arange(5,50,7), \"max_features\": np.arange(4,10,2), 'max_leaf_nodes': np.arange(1000,2500,200), 'bootstrap':[True, False], 'ccp_alpha': np.arange(0.0, .5, 0.1)}\n",
    "cv = KFold(n_splits = 2, shuffle=True, random_state=1)\n",
    "model = RandomizedSearchCV(RandomForestRegressor(random_state=1, n_estimators=50), parameters, n_jobs=-1, n_iter=250, verbose=1, cv=cv, scoring=\"neg_mean_absolute_error\")\n",
    "model.fit(X_train, y_train)\n",
    "print (model.best_params_)"
   ]
  },
  {
   "cell_type": "code",
   "execution_count": 27,
   "id": "2c5304fa",
   "metadata": {},
   "outputs": [
    {
     "name": "stderr",
     "output_type": "stream",
     "text": [
      "C:\\Users\\ctawa\\anaconda3\\lib\\site-packages\\sklearn\\model_selection\\_search.py:292: UserWarning: The total space of parameters 224 is smaller than n_iter=250. Running 224 iterations. For exhaustive searches, use GridSearchCV.\n",
      "  warnings.warn(\n"
     ]
    },
    {
     "name": "stdout",
     "output_type": "stream",
     "text": [
      "Fitting 2 folds for each of 224 candidates, totalling 448 fits\n",
      "{'max_leaf_nodes': 2000, 'max_features': 4, 'max_depth': 33, 'ccp_alpha': 0.05, 'bootstrap': True}\n"
     ]
    }
   ],
   "source": [
    "parameters = {'max_depth': np.arange(5,50,7), \"max_features\": np.arange(2,10,2), 'max_leaf_nodes': np.arange(2000,4000,500), 'bootstrap':[True], 'ccp_alpha': np.arange(0.05, .15, 0.05)}\n",
    "cv = KFold(n_splits = 2, shuffle=True, random_state=1)\n",
    "model2 = RandomizedSearchCV(RandomForestRegressor(random_state=1, n_estimators=50), parameters, n_jobs=-1, n_iter=250, verbose=1, cv=cv, scoring=\"neg_mean_absolute_error\")\n",
    "model2.fit(X_train, y_train)\n",
    "print (model2.best_params_)"
   ]
  },
  {
   "cell_type": "code",
   "execution_count": 52,
   "id": "0868a6f1",
   "metadata": {},
   "outputs": [
    {
     "name": "stdout",
     "output_type": "stream",
     "text": [
      "Fitting 2 folds for each of 250 candidates, totalling 500 fits\n",
      "{'max_leaf_nodes': 2400, 'max_features': 4, 'max_depth': 33, 'ccp_alpha': 0.07500000000000001, 'bootstrap': True}\n"
     ]
    }
   ],
   "source": [
    "parameters = {'max_depth': np.arange(5,50,7), \"max_features\": np.arange(2,8,1), 'max_leaf_nodes': np.arange(2000,2500,100), 'bootstrap':[True], 'ccp_alpha': np.arange(0.025, .1, 0.025)}\n",
    "cv = KFold(n_splits = 2, shuffle=True, random_state=1)\n",
    "model3 = RandomizedSearchCV(RandomForestRegressor(random_state=1, n_estimators=100), parameters, n_jobs=-1, n_iter=250, verbose=1, cv=cv, scoring=\"neg_mean_absolute_error\")\n",
    "model3.fit(X_train, y_train)\n",
    "print (model3.best_params_)"
   ]
  },
  {
   "cell_type": "code",
   "execution_count": 49,
   "id": "1fd1694c",
   "metadata": {},
   "outputs": [
    {
     "name": "stdout",
     "output_type": "stream",
     "text": [
      "Fitting 4 folds for each of 6 candidates, totalling 24 fits\n",
      "{'oob_score': True, 'max_leaf_nodes': 2400, 'max_features': 4, 'max_depth': 36, 'ccp_alpha': 0.075, 'bootstrap': True}\n"
     ]
    }
   ],
   "source": [
    "parameters = {'max_depth': [30,33,36], \"max_features\": [4], 'max_leaf_nodes': [2400], 'bootstrap':[True], 'ccp_alpha': [.075], 'oob_score':[True,False]}\n",
    "cv = KFold(n_splits = 4, shuffle=True, random_state=1)\n",
    "model4 = RandomizedSearchCV(RandomForestRegressor(random_state=1, n_estimators=100), parameters, n_jobs=-1, n_iter=250, verbose=1, cv=cv, scoring=\"neg_mean_absolute_error\")\n",
    "model4.fit(X_train, y_train)\n",
    "print (model4.best_params_)"
   ]
  },
  {
   "cell_type": "code",
   "execution_count": 33,
   "id": "63ce923e",
   "metadata": {},
   "outputs": [
    {
     "name": "stderr",
     "output_type": "stream",
     "text": [
      "C:\\Users\\ctawa\\anaconda3\\lib\\site-packages\\sklearn\\model_selection\\_search.py:292: UserWarning: The total space of parameters 12 is smaller than n_iter=250. Running 12 iterations. For exhaustive searches, use GridSearchCV.\n",
      "  warnings.warn(\n"
     ]
    },
    {
     "name": "stdout",
     "output_type": "stream",
     "text": [
      "Fitting 4 folds for each of 12 candidates, totalling 48 fits\n",
      "{'oob_score': True, 'max_leaf_nodes': 2400, 'max_features': 4, 'max_depth': 38, 'criterion': 'absolute_error', 'ccp_alpha': 0.075, 'bootstrap': True}\n"
     ]
    }
   ],
   "source": [
    "parameters = {'max_depth': [34,36,38], \"max_features\": [4], 'max_leaf_nodes': [2400], 'bootstrap':[True], 'ccp_alpha': [.075], 'oob_score':[True], 'criterion':['squared_error', 'absolute_error', 'friedman_mse', 'poisson']}\n",
    "cv = KFold(n_splits = 4, shuffle=True, random_state=1)\n",
    "model5 = RandomizedSearchCV(RandomForestRegressor(random_state=1, n_estimators=100), parameters, n_jobs=-1, n_iter=250, verbose=1, cv=cv, scoring=\"neg_mean_absolute_error\")\n",
    "model5.fit(X_train, y_train)\n",
    "print (model5.best_params_)"
   ]
  },
  {
   "cell_type": "code",
   "execution_count": 34,
   "id": "5066bebe",
   "metadata": {},
   "outputs": [
    {
     "data": {
      "text/plain": [
       "49486.09454826788"
      ]
     },
     "execution_count": 34,
     "metadata": {},
     "output_type": "execute_result"
    }
   ],
   "source": [
    "preds = model5.predict(X_test)\n",
    "np.sqrt(mean_squared_error(y_test, preds))"
   ]
  },
  {
   "cell_type": "code",
   "execution_count": 36,
   "id": "b1626654",
   "metadata": {},
   "outputs": [
    {
     "name": "stdout",
     "output_type": "stream",
     "text": [
      "Fitting 4 folds for each of 1 candidates, totalling 4 fits\n"
     ]
    },
    {
     "data": {
      "text/plain": [
       "49479.01528064572"
      ]
     },
     "execution_count": 36,
     "metadata": {},
     "output_type": "execute_result"
    }
   ],
   "source": [
    "parameters = {'oob_score': [True], 'max_leaf_nodes': [2400], 'max_features': [4], 'max_depth': [38], 'criterion': ['absolute_error'], 'ccp_alpha': [0.075], 'bootstrap': [True]}\n",
    "cv = KFold(n_splits = 4, shuffle=True, random_state=1)\n",
    "model6 = RandomizedSearchCV(RandomForestRegressor(random_state=1, n_estimators=2500), parameters, n_jobs=-1, n_iter=1, verbose=1, cv=cv, scoring=\"neg_mean_absolute_error\")\n",
    "model6.fit(X_train, y_train)\n",
    "preds = model6.predict(X_test)\n",
    "np.sqrt(mean_squared_error(y_test, preds))"
   ]
  },
  {
   "cell_type": "code",
   "execution_count": 37,
   "id": "f31374bd",
   "metadata": {},
   "outputs": [
    {
     "data": {
      "text/plain": [
       "35597.43756058041"
      ]
     },
     "execution_count": 37,
     "metadata": {},
     "output_type": "execute_result"
    }
   ],
   "source": [
    "mean_absolute_error(y_test, preds)"
   ]
  },
  {
   "cell_type": "code",
   "execution_count": 57,
   "id": "a3cab723",
   "metadata": {},
   "outputs": [
    {
     "data": {
      "text/plain": [
       "Text(0.5, 1.0, 'model MAE')"
      ]
     },
     "execution_count": 57,
     "metadata": {},
     "output_type": "execute_result"
    },
    {
     "data": {
      "image/png": "[encoded data removed]",
      "text/plain": [
       "<Figure size 432x288 with 1 Axes>"
      ]
     },
     "metadata": {
      "needs_background": "light"
     },
     "output_type": "display_data"
    }
   ],
   "source": [
    "l = [model, model2, model3, model4, model5, model6]\n",
    "bests = []\n",
    "bests_t = []\n",
    "for m in l:\n",
    "    bests.append(mean_absolute_error(m.predict(X_test), y_test))\n",
    "    bests_t.append(mean_absolute_error(m.predict(X_train), y_train))\n",
    "sns.lineplot(x=[1,2,3,4,5,6], y=bests, label=\"test MAE\")\n",
    "plt.xlabel(\"model number\")\n",
    "plt.ylabel(\"MAE\")\n",
    "sns.lineplot(x=[1,2,3,4,5,6], y=bests_t, label = \"train MAE\")\n",
    "plt.title(\"model MAE\")"
   ]
  },
  {
   "cell_type": "code",
   "execution_count": 58,
   "id": "d43713d5",
   "metadata": {},
   "outputs": [
    {
     "data": {
      "text/plain": [
       "Text(0.5, 1.0, 'model MAE')"
      ]
     },
     "execution_count": 58,
     "metadata": {},
     "output_type": "execute_result"
    },
    {
     "data": {
      "image/png": "[encoded data removed]",
      "text/plain": [
       "<Figure size 432x288 with 1 Axes>"
      ]
     },
     "metadata": {
      "needs_background": "light"
     },
     "output_type": "display_data"
    }
   ],
   "source": [
    "sns.lineplot(x=[1,2,3,4,5,6], y=bests, label=\"test MAE\")\n",
    "plt.xlabel(\"model number\")\n",
    "plt.ylabel(\"MAE\")\n",
    "plt.title(\"model MAE\")"
   ]
  },
  {
   "cell_type": "code",
   "execution_count": 54,
   "id": "b9b6f62e",
   "metadata": {},
   "outputs": [
    {
     "data": {
      "text/plain": [
       "[35734.21531427414,\n",
       " 35734.21531427414,\n",
       " 35655.02933215456,\n",
       " 35388.54260580971,\n",
       " 35620.710737605805,\n",
       " 35597.43756058041]"
      ]
     },
     "execution_count": 54,
     "metadata": {},
     "output_type": "execute_result"
    }
   ],
   "source": [
    "bests"
   ]
  },
  {
   "cell_type": "code",
   "execution_count": 59,
   "id": "af1eb3ee",
   "metadata": {},
   "outputs": [
    {
     "name": "stdout",
     "output_type": "stream",
     "text": [
      "Fitting 4 folds for each of 6 candidates, totalling 24 fits\n",
      "{'oob_score': True, 'max_leaf_nodes': 2400, 'max_features': 4, 'max_depth': 36, 'ccp_alpha': 0.075, 'bootstrap': True}\n"
     ]
    }
   ],
   "source": [
    "parameters = {'max_depth': [30,33,36], \"max_features\": [4], 'max_leaf_nodes': [2400], 'bootstrap':[True], 'ccp_alpha': [.075], 'oob_score':[True,False]}\n",
    "cv = KFold(n_splits = 4, shuffle=True, random_state=1)\n",
    "model4 = RandomizedSearchCV(RandomForestRegressor(random_state=1, n_estimators=1000), parameters, n_jobs=-1, n_iter=250, verbose=1, cv=cv, scoring=\"neg_mean_absolute_error\")\n",
    "model4.fit(X_train, y_train)\n",
    "print (model4.best_params_)"
   ]
  },
  {
   "cell_type": "code",
   "execution_count": 60,
   "id": "b664da31",
   "metadata": {},
   "outputs": [
    {
     "data": {
      "text/plain": [
       "35292.425234087365"
      ]
     },
     "execution_count": 60,
     "metadata": {},
     "output_type": "execute_result"
    }
   ],
   "source": [
    "mean_absolute_error(y_test, model4.predict(X_test))"
   ]
  },
  {
   "cell_type": "code",
   "execution_count": 64,
   "id": "4babb692",
   "metadata": {},
   "outputs": [],
   "source": [
    "y_pred = model4.predict(X_test)\n",
    "# Convert y_pred array to a DataFrame\n",
    "df_pred = pd.DataFrame({'y_pred': y_pred})\n",
    "\n",
    "# Save the DataFrame to a CSV file\n",
    "df_pred.to_csv('random_forest_predictions.csv', index=False)"
   ]
  },
  {
   "cell_type": "code",
   "execution_count": 63,
   "id": "f6e4c142",
   "metadata": {},
   "outputs": [
    {
     "data": {
      "text/plain": [
       "employee_residence_US                 0.072878\n",
       "experience_level_SE                   0.071320\n",
       "salary_currency_USD                   0.070693\n",
       "company_location_US                   0.070281\n",
       "work_year                             0.054844\n",
       "                                        ...   \n",
       "salary_currency_HKD                   0.000000\n",
       "job_title_AWS Data Architect          0.000000\n",
       "salary_currency_CZK                   0.000000\n",
       "company_location_VN                   0.000000\n",
       "job_title_Head of Machine Learning    0.000000\n",
       "Length: 290, dtype: float64"
      ]
     },
     "execution_count": 63,
     "metadata": {},
     "output_type": "execute_result"
    }
   ],
   "source": [
    "#Feature importance can be found by averaging the feature importance in individual trees\n",
    "feature_importances = np.mean([\n",
    "    tree.feature_importances_ for tree in model4.best_estimator_.estimators_\n",
    "], axis=0)\n",
    "series = pd.Series(feature_importances, X_train.columns).sort_values(ascending=False)"
   ]
  },
  {
   "cell_type": "code",
   "execution_count": 67,
   "id": "733e9ad4",
   "metadata": {},
   "outputs": [
    {
     "data": {
      "text/plain": [
       "35292.42523408735"
      ]
     },
     "execution_count": 67,
     "metadata": {},
     "output_type": "execute_result"
    }
   ],
   "source": [
    "csv_preds = pd.read_csv(\"random_forest_predictions.csv\")\n",
    "mean_absolute_error(csv_preds[\"y_pred\"], y_test)"
   ]
  },
  {
   "cell_type": "code",
   "execution_count": 68,
   "id": "a7cdb67a",
   "metadata": {},
   "outputs": [],
   "source": [
    "y_pred = model4.predict(X_test)\n",
    "# Convert y_pred array to a DataFrame\n",
    "df_pred = pd.DataFrame({'y_pred': y_pred, 'y_true': y_test})\n",
    "\n",
    "# Save the DataFrame to a CSV file\n",
    "df_pred.to_csv('random_forest_predictions_with_ytest.csv', index=False)"
   ]
  },
  {
   "cell_type": "code",
   "execution_count": 69,
   "id": "fc76b1ad",
   "metadata": {},
   "outputs": [],
   "source": [
    "y_pred = model4.predict(X_test)\n",
    "# Convert y_pred array to a DataFrame\n",
    "test_df = X_test\n",
    "test_df[\"y_test\"] = y_test\n",
    "test_df[\"preds\"] = y_pred\n",
    "\n",
    "# Save the DataFrame to a CSV file\n",
    "test_df.to_csv('random_forest_test.csv', index=False)\n",
    "\n",
    "train_df = X_train\n",
    "train_df[\"y_train\"] = y_train\n",
    "train_df.to_csv('random_forest_train.csv', index=False)"
   ]
  },
  {
   "cell_type": "code",
   "execution_count": 70,
   "id": "52fae3ec",
   "metadata": {},
   "outputs": [
    {
     "name": "stdout",
     "output_type": "stream",
     "text": [
      "Fitting 4 folds for each of 1 candidates, totalling 4 fits\n"
     ]
    },
    {
     "ename": "ValueError",
     "evalue": "The type of target cannot be used to compute OOB estimates. Got multiclass-multioutput while only the following are supported: continuous, continuous-multioutput, binary, multiclass, multilabel-indicator.",
     "output_type": "error",
     "traceback": [
      "\u001b[1;31m---------------------------------------------------------------------------\u001b[0m",
      "\u001b[1;31mValueError\u001b[0m                                Traceback (most recent call last)",
      "Input \u001b[1;32mIn [70]\u001b[0m, in \u001b[0;36m<cell line: 8>\u001b[1;34m()\u001b[0m\n\u001b[0;32m      6\u001b[0m cv \u001b[38;5;241m=\u001b[39m KFold(n_splits \u001b[38;5;241m=\u001b[39m \u001b[38;5;241m4\u001b[39m, shuffle\u001b[38;5;241m=\u001b[39m\u001b[38;5;28;01mTrue\u001b[39;00m, random_state\u001b[38;5;241m=\u001b[39m\u001b[38;5;241m1\u001b[39m)\n\u001b[0;32m      7\u001b[0m model4 \u001b[38;5;241m=\u001b[39m RandomizedSearchCV(RandomForestRegressor(random_state\u001b[38;5;241m=\u001b[39m\u001b[38;5;241m1\u001b[39m, n_estimators\u001b[38;5;241m=\u001b[39m\u001b[38;5;241m1000\u001b[39m), params, n_jobs\u001b[38;5;241m=\u001b[39m\u001b[38;5;241m-\u001b[39m\u001b[38;5;241m1\u001b[39m, n_iter\u001b[38;5;241m=\u001b[39m\u001b[38;5;241m250\u001b[39m, verbose\u001b[38;5;241m=\u001b[39m\u001b[38;5;241m1\u001b[39m, cv\u001b[38;5;241m=\u001b[39mcv, scoring\u001b[38;5;241m=\u001b[39m\u001b[38;5;124m\"\u001b[39m\u001b[38;5;124mneg_mean_absolute_error\u001b[39m\u001b[38;5;124m\"\u001b[39m)\n\u001b[1;32m----> 8\u001b[0m \u001b[43mmodel4\u001b[49m\u001b[38;5;241;43m.\u001b[39;49m\u001b[43mfit\u001b[49m\u001b[43m(\u001b[49m\u001b[43mX_train\u001b[49m\u001b[43m,\u001b[49m\u001b[43m \u001b[49m\u001b[43my_train\u001b[49m\u001b[43m)\u001b[49m\n\u001b[0;32m      9\u001b[0m \u001b[38;5;28mprint\u001b[39m (model4\u001b[38;5;241m.\u001b[39mbest_params_)\n\u001b[0;32m     10\u001b[0m mean_absolute_error(y_test, model4\u001b[38;5;241m.\u001b[39mpredict(X_test))\n",
      "File \u001b[1;32m~\\anaconda3\\lib\\site-packages\\sklearn\\model_selection\\_search.py:926\u001b[0m, in \u001b[0;36mBaseSearchCV.fit\u001b[1;34m(self, X, y, groups, **fit_params)\u001b[0m\n\u001b[0;32m    924\u001b[0m refit_start_time \u001b[38;5;241m=\u001b[39m time\u001b[38;5;241m.\u001b[39mtime()\n\u001b[0;32m    925\u001b[0m \u001b[38;5;28;01mif\u001b[39;00m y \u001b[38;5;129;01mis\u001b[39;00m \u001b[38;5;129;01mnot\u001b[39;00m \u001b[38;5;28;01mNone\u001b[39;00m:\n\u001b[1;32m--> 926\u001b[0m     \u001b[38;5;28mself\u001b[39m\u001b[38;5;241m.\u001b[39mbest_estimator_\u001b[38;5;241m.\u001b[39mfit(X, y, \u001b[38;5;241m*\u001b[39m\u001b[38;5;241m*\u001b[39mfit_params)\n\u001b[0;32m    927\u001b[0m \u001b[38;5;28;01melse\u001b[39;00m:\n\u001b[0;32m    928\u001b[0m     \u001b[38;5;28mself\u001b[39m\u001b[38;5;241m.\u001b[39mbest_estimator_\u001b[38;5;241m.\u001b[39mfit(X, \u001b[38;5;241m*\u001b[39m\u001b[38;5;241m*\u001b[39mfit_params)\n",
      "File \u001b[1;32m~\\anaconda3\\lib\\site-packages\\sklearn\\ensemble\\_forest.py:480\u001b[0m, in \u001b[0;36mBaseForest.fit\u001b[1;34m(self, X, y, sample_weight)\u001b[0m\n\u001b[0;32m    474\u001b[0m     y_type \u001b[38;5;241m=\u001b[39m type_of_target(y)\n\u001b[0;32m    475\u001b[0m     \u001b[38;5;28;01mif\u001b[39;00m y_type \u001b[38;5;129;01min\u001b[39;00m (\u001b[38;5;124m\"\u001b[39m\u001b[38;5;124mmulticlass-multioutput\u001b[39m\u001b[38;5;124m\"\u001b[39m, \u001b[38;5;124m\"\u001b[39m\u001b[38;5;124munknown\u001b[39m\u001b[38;5;124m\"\u001b[39m):\n\u001b[0;32m    476\u001b[0m         \u001b[38;5;66;03m# FIXME: we could consider to support multiclass-multioutput if\u001b[39;00m\n\u001b[0;32m    477\u001b[0m         \u001b[38;5;66;03m# we introduce or reuse a constructor parameter (e.g.\u001b[39;00m\n\u001b[0;32m    478\u001b[0m         \u001b[38;5;66;03m# oob_score) allowing our user to pass a callable defining the\u001b[39;00m\n\u001b[0;32m    479\u001b[0m         \u001b[38;5;66;03m# scoring strategy on OOB sample.\u001b[39;00m\n\u001b[1;32m--> 480\u001b[0m         \u001b[38;5;28;01mraise\u001b[39;00m \u001b[38;5;167;01mValueError\u001b[39;00m(\n\u001b[0;32m    481\u001b[0m             \u001b[38;5;124m\"\u001b[39m\u001b[38;5;124mThe type of target cannot be used to compute OOB \u001b[39m\u001b[38;5;124m\"\u001b[39m\n\u001b[0;32m    482\u001b[0m             \u001b[38;5;124mf\u001b[39m\u001b[38;5;124m\"\u001b[39m\u001b[38;5;124mestimates. Got \u001b[39m\u001b[38;5;132;01m{\u001b[39;00my_type\u001b[38;5;132;01m}\u001b[39;00m\u001b[38;5;124m while only the following are \u001b[39m\u001b[38;5;124m\"\u001b[39m\n\u001b[0;32m    483\u001b[0m             \u001b[38;5;124m\"\u001b[39m\u001b[38;5;124msupported: continuous, continuous-multioutput, binary, \u001b[39m\u001b[38;5;124m\"\u001b[39m\n\u001b[0;32m    484\u001b[0m             \u001b[38;5;124m\"\u001b[39m\u001b[38;5;124mmulticlass, multilabel-indicator.\u001b[39m\u001b[38;5;124m\"\u001b[39m\n\u001b[0;32m    485\u001b[0m         )\n\u001b[0;32m    486\u001b[0m     \u001b[38;5;28mself\u001b[39m\u001b[38;5;241m.\u001b[39m_set_oob_score_and_attributes(X, y)\n\u001b[0;32m    488\u001b[0m \u001b[38;5;66;03m# Decapsulate classes_ attributes\u001b[39;00m\n",
      "\u001b[1;31mValueError\u001b[0m: The type of target cannot be used to compute OOB estimates. Got multiclass-multioutput while only the following are supported: continuous, continuous-multioutput, binary, multiclass, multilabel-indicator."
     ]
    }
   ],
   "source": [
    "X_train = pd.read_csv(\"X_train.csv\")\n",
    "X_test = pd.read_csv(\"X_test.csv\")\n",
    "y_train = pd.read_csv(\"y_train.csv\")\n",
    "y_test = pd.read_csv(\"y_test.csv\")\n",
    "params = {'oob_score': [True], 'max_leaf_nodes': [2400], 'max_features': [4], 'max_depth': [36], 'ccp_alpha': [0.075], 'bootstrap': [True]}\n",
    "cv = KFold(n_splits = 4, shuffle=True, random_state=1)\n",
    "model4 = RandomizedSearchCV(RandomForestRegressor(random_state=1, n_estimators=1000), params, n_jobs=-1, n_iter=250, verbose=1, cv=cv, scoring=\"neg_mean_absolute_error\")\n",
    "model4.fit(X_train, y_train)\n",
    "print (model4.best_params_)\n",
    "mean_absolute_error(y_test, model4.predict(X_test))"
   ]
  },
  {
   "cell_type": "code",
   "execution_count": 5,
   "id": "e13c5aab",
   "metadata": {},
   "outputs": [],
   "source": [
    "import nbformat\n",
    "\n",
    "# Load the first notebook\n",
    "with open('Project_Code_3.ipynb', 'r', encoding=\"utf8\") as file:\n",
    "    nb1 = nbformat.read(file, as_version=nbformat.NO_CONVERT)\n",
    "\n",
    "# Load the second notebook\n",
    "with open('RandomForest.ipynb', 'r', encoding=\"utf8\") as file:\n",
    "    nb2 = nbformat.read(file, as_version=nbformat.NO_CONVERT)\n",
    "\n",
    "# Create a new notebook\n",
    "merged_nb = nbformat.v4.new_notebook()\n",
    "\n",
    "# Combine the cells from both notebooks into the new notebook\n",
    "merged_nb.cells.extend(nb1.cells)\n",
    "merged_nb.cells.extend(nb2.cells)\n",
    "\n",
    "# Save the merged notebook\n",
    "with open('Project_Code_4.ipynb', 'w', encoding=\"utf8\") as file:\n",
    "    nbformat.write(merged_nb, file)"
   ]
  }
 ],
 "metadata": {
  "kernelspec": {
   "display_name": "Python 3 (ipykernel)",
   "language": "python",
   "name": "python3"
  },
  "language_info": {
   "codemirror_mode": {
    "name": "ipython",
    "version": 3
   },
   "file_extension": ".py",
   "mimetype": "text/x-python",
   "name": "python",
   "nbconvert_exporter": "python",
   "pygments_lexer": "ipython3",
   "version": "3.9.12"
  }
 },
 "nbformat": 4,
 "nbformat_minor": 5
}
