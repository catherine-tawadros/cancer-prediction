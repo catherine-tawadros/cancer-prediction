{
 "cells": [
  {
   "cell_type": "code",
   "execution_count": 2,
   "metadata": {},
   "outputs": [],
   "source": [
    "import pandas as pd\n",
    "import numpy as np\n",
    "import seaborn as sns\n",
    "import matplotlib.pyplot as plt\n",
    "from sklearn.metrics import mean_squared_error\n",
    "from sklearn.model_selection import cross_val_score,train_test_split, KFold, cross_val_predict\n",
    "from sklearn.metrics import mean_squared_error,r2_score,roc_curve,auc,precision_recall_curve, accuracy_score, \\\n",
    "recall_score, precision_score, confusion_matrix\n",
    "from sklearn.tree import DecisionTreeRegressor,DecisionTreeClassifier\n",
    "from sklearn.model_selection import GridSearchCV, ParameterGrid, StratifiedKFold\n",
    "from sklearn.ensemble import BaggingRegressor,BaggingClassifier,AdaBoostRegressor,AdaBoostClassifier\n",
    "from sklearn.impute import SimpleImputer\n",
    "from sklearn.linear_model import LinearRegression,LogisticRegression\n",
    "from sklearn.feature_selection import VarianceThreshold\n",
    "from sklearn.neighbors import KNeighborsRegressor\n",
    "from sklearn.ensemble import RandomForestRegressor\n",
    "from sklearn.preprocessing import OneHotEncoder\n",
    "from sklearn.preprocessing import StandardScaler\n",
    "from sklearn.model_selection import RandomizedSearchCV\n",
    "from sklearn.ensemble import GradientBoostingRegressor\n",
    "from pyearth import Earth\n",
    "from sklearn.impute import KNNImputer\n",
    "import xgboost as xgb\n",
    "import itertools as it\n",
    "import time as time \n",
    "import warnings\n",
    "warnings.filterwarnings('ignore')"
   ]
  },
  {
   "cell_type": "code",
   "execution_count": 229,
   "metadata": {},
   "outputs": [
    {
     "data": {
      "text/html": [
       "<div>\n",
       "<style scoped>\n",
       "    .dataframe tbody tr th:only-of-type {\n",
       "        vertical-align: middle;\n",
       "    }\n",
       "\n",
       "    .dataframe tbody tr th {\n",
       "        vertical-align: top;\n",
       "    }\n",
       "\n",
       "    .dataframe thead th {\n",
       "        text-align: right;\n",
       "    }\n",
       "</style>\n",
       "<table border=\"1\" class=\"dataframe\">\n",
       "  <thead>\n",
       "    <tr style=\"text-align: right;\">\n",
       "      <th></th>\n",
       "      <th>work_year</th>\n",
       "      <th>experience_level</th>\n",
       "      <th>employment_type</th>\n",
       "      <th>job_title</th>\n",
       "      <th>salary</th>\n",
       "      <th>salary_currency</th>\n",
       "      <th>salary_in_usd</th>\n",
       "      <th>employee_residence</th>\n",
       "      <th>remote_ratio</th>\n",
       "      <th>company_location</th>\n",
       "      <th>company_size</th>\n",
       "      <th>job_title_binned</th>\n",
       "    </tr>\n",
       "  </thead>\n",
       "  <tbody>\n",
       "    <tr>\n",
       "      <th>0</th>\n",
       "      <td>2023</td>\n",
       "      <td>MI</td>\n",
       "      <td>FT</td>\n",
       "      <td>AWS Data Architect</td>\n",
       "      <td>258000</td>\n",
       "      <td>USD</td>\n",
       "      <td>258000</td>\n",
       "      <td>US</td>\n",
       "      <td>100</td>\n",
       "      <td>US</td>\n",
       "      <td>L</td>\n",
       "      <td>data_engineering_and_architecture</td>\n",
       "    </tr>\n",
       "    <tr>\n",
       "      <th>1</th>\n",
       "      <td>2023</td>\n",
       "      <td>SE</td>\n",
       "      <td>FT</td>\n",
       "      <td>Data Scientist</td>\n",
       "      <td>225000</td>\n",
       "      <td>USD</td>\n",
       "      <td>225000</td>\n",
       "      <td>US</td>\n",
       "      <td>0</td>\n",
       "      <td>US</td>\n",
       "      <td>M</td>\n",
       "      <td>data_science_and_ml</td>\n",
       "    </tr>\n",
       "    <tr>\n",
       "      <th>2</th>\n",
       "      <td>2023</td>\n",
       "      <td>SE</td>\n",
       "      <td>FT</td>\n",
       "      <td>Data Scientist</td>\n",
       "      <td>156400</td>\n",
       "      <td>USD</td>\n",
       "      <td>156400</td>\n",
       "      <td>US</td>\n",
       "      <td>0</td>\n",
       "      <td>US</td>\n",
       "      <td>M</td>\n",
       "      <td>data_science_and_ml</td>\n",
       "    </tr>\n",
       "    <tr>\n",
       "      <th>3</th>\n",
       "      <td>2023</td>\n",
       "      <td>SE</td>\n",
       "      <td>FT</td>\n",
       "      <td>Data Engineer</td>\n",
       "      <td>190000</td>\n",
       "      <td>USD</td>\n",
       "      <td>190000</td>\n",
       "      <td>US</td>\n",
       "      <td>100</td>\n",
       "      <td>US</td>\n",
       "      <td>M</td>\n",
       "      <td>data_engineering_and_architecture</td>\n",
       "    </tr>\n",
       "    <tr>\n",
       "      <th>4</th>\n",
       "      <td>2023</td>\n",
       "      <td>SE</td>\n",
       "      <td>FT</td>\n",
       "      <td>Data Engineer</td>\n",
       "      <td>150000</td>\n",
       "      <td>USD</td>\n",
       "      <td>150000</td>\n",
       "      <td>US</td>\n",
       "      <td>100</td>\n",
       "      <td>US</td>\n",
       "      <td>M</td>\n",
       "      <td>data_engineering_and_architecture</td>\n",
       "    </tr>\n",
       "  </tbody>\n",
       "</table>\n",
       "</div>"
      ],
      "text/plain": [
       "   work_year experience_level employment_type           job_title  salary  \\\n",
       "0       2023               MI              FT  AWS Data Architect  258000   \n",
       "1       2023               SE              FT      Data Scientist  225000   \n",
       "2       2023               SE              FT      Data Scientist  156400   \n",
       "3       2023               SE              FT       Data Engineer  190000   \n",
       "4       2023               SE              FT       Data Engineer  150000   \n",
       "\n",
       "  salary_currency  salary_in_usd employee_residence  remote_ratio  \\\n",
       "0             USD         258000                 US           100   \n",
       "1             USD         225000                 US             0   \n",
       "2             USD         156400                 US             0   \n",
       "3             USD         190000                 US           100   \n",
       "4             USD         150000                 US           100   \n",
       "\n",
       "  company_location company_size                   job_title_binned  \n",
       "0               US            L  data_engineering_and_architecture  \n",
       "1               US            M                data_science_and_ml  \n",
       "2               US            M                data_science_and_ml  \n",
       "3               US            M  data_engineering_and_architecture  \n",
       "4               US            M  data_engineering_and_architecture  "
      ]
     },
     "execution_count": 229,
     "metadata": {},
     "output_type": "execute_result"
    }
   ],
   "source": [
    "data = pd.read_csv('binned_jobs.csv')\n",
    "\n",
    "data.head()"
   ]
  },
  {
   "cell_type": "code",
   "execution_count": 230,
   "metadata": {},
   "outputs": [],
   "source": [
    "y1 = data['salary_in_usd']\n",
    "\n",
    "X1 = data.drop(columns=['salary_in_usd', 'job_title', 'salary'], axis=1)\n",
    "X1 = pd.get_dummies(X1, drop_first=True)"
   ]
  },
  {
   "cell_type": "code",
   "execution_count": 231,
   "metadata": {},
   "outputs": [],
   "source": [
    "sc = StandardScaler()\n",
    "sc.fit(X1)\n",
    "\n",
    "X_scaled = sc.transform(X1)\n",
    "X1 = pd.DataFrame(X_scaled)"
   ]
  },
  {
   "cell_type": "code",
   "execution_count": 232,
   "metadata": {},
   "outputs": [],
   "source": [
    "X_train, X_test, y_train, y_test = train_test_split(X1, y1, test_size=0.2, random_state=45)"
   ]
  },
  {
   "cell_type": "code",
   "execution_count": 221,
   "metadata": {},
   "outputs": [],
   "source": [
    "threshold = 180000"
   ]
  },
  {
   "cell_type": "code",
   "execution_count": 206,
   "metadata": {},
   "outputs": [
    {
     "name": "stdout",
     "output_type": "stream",
     "text": [
      ">5 54907.514 (4093.902)\n",
      ">10 49341.597 (3894.841)\n",
      ">50 49452.938 (3635.064)\n",
      ">100 49829.311 (3631.077)\n",
      ">500 51697.372 (3396.414)\n",
      ">1000 52007.477 (3383.722)\n",
      ">2000 52140.610 (3389.215)\n",
      ">5000 52170.886 (3381.778)\n"
     ]
    },
    {
     "data": {
      "text/plain": [
       "Text(0.5, 0, 'Number of trees')"
      ]
     },
     "execution_count": 206,
     "metadata": {},
     "output_type": "execute_result"
    },
    {
     "data": {
      "image/png": "[encoded data removed]",
      "text/plain": [
       "<Figure size 432x288 with 1 Axes>"
      ]
     },
     "metadata": {
      "needs_background": "light"
     },
     "output_type": "display_data"
    }
   ],
   "source": [
    "def get_models():\n",
    "    models = dict()\n",
    "    # define number of trees to consider\n",
    "    n_trees = [5, 10, 50, 100, 500, 1000, 2000, 5000]\n",
    "    for n in n_trees:\n",
    "        models[str(n)] = xgb.XGBRegressor(n_estimators=n,random_state=1)\n",
    "    return models\n",
    "\n",
    "# evaluate a given model using cross-validation\n",
    "def evaluate_model(model, X_train, y_train):\n",
    "    # define the evaluation procedure\n",
    "    cv = KFold(n_splits=5, shuffle=True, random_state=1)\n",
    "    # evaluate the model and collect the results\n",
    "    scores = np.sqrt(-cross_val_score(model, X_train, y_train, scoring='neg_mean_squared_error', cv=cv, n_jobs=-1))\n",
    "    return scores\n",
    "\n",
    "# get the models to evaluate\n",
    "models = get_models()\n",
    "# evaluate the models and store results\n",
    "results, names = list(), list()\n",
    "for name, model in models.items():\n",
    "    # evaluate the model\n",
    "    scores = evaluate_model(model, X_train, y_train)\n",
    "    # store the results\n",
    "    results.append(scores)\n",
    "    names.append(name)\n",
    "    # summarize the performance along the way\n",
    "    print('>%s %.3f (%.3f)' % (name, np.mean(scores), np.std(scores)))\n",
    "# plot model performance for comparison\n",
    "plt.boxplot(results, labels=names, showmeans=True)\n",
    "plt.ylabel('Cross validation error',fontsize=15)\n",
    "plt.xlabel('Number of trees',fontsize=15)"
   ]
  },
  {
   "cell_type": "code",
   "execution_count": 207,
   "metadata": {},
   "outputs": [
    {
     "name": "stdout",
     "output_type": "stream",
     "text": [
      ">1 49136.640 (4385.503)\n",
      ">2 48487.133 (4099.710)\n",
      ">3 48434.149 (4022.796)\n",
      ">4 48648.466 (4151.153)\n",
      ">5 48842.253 (3843.702)\n",
      ">6 49334.933 (3720.550)\n",
      ">7 49612.866 (3616.227)\n",
      ">8 49824.091 (3491.943)\n",
      ">9 50384.147 (3475.950)\n",
      ">10 50377.525 (3304.573)\n",
      ">11 50798.435 (3368.111)\n",
      ">12 50968.022 (3351.845)\n",
      ">13 51165.333 (3167.302)\n",
      ">14 51207.669 (3226.766)\n",
      ">15 51228.143 (3309.356)\n",
      ">16 51267.224 (3119.676)\n",
      ">17 51245.023 (3356.267)\n",
      ">18 51128.106 (3180.924)\n",
      ">19 51178.096 (3185.317)\n",
      ">20 51129.098 (3243.927)\n"
     ]
    },
    {
     "data": {
      "text/plain": [
       "Text(0.5, 0, 'Depth of each tree')"
      ]
     },
     "execution_count": 207,
     "metadata": {},
     "output_type": "execute_result"
    },
    {
     "data": {
      "image/png": "[encoded data removed]",
      "text/plain": [
       "<Figure size 432x288 with 1 Axes>"
      ]
     },
     "metadata": {
      "needs_background": "light"
     },
     "output_type": "display_data"
    }
   ],
   "source": [
    "# get a list of models to evaluate\n",
    "def get_models():\n",
    "    models = dict()\n",
    "    # explore depths from 1 to 10\n",
    "    for i in range(1,21):\n",
    "        # define ensemble model\n",
    "        models[str(i)] = xgb.XGBRegressor(random_state=1,max_depth=i)\n",
    "    return models\n",
    "\n",
    "# evaluate a given model using cross-validation\n",
    "def evaluate_model(model, X, y):\n",
    "    # define the evaluation procedure\n",
    "    cv = KFold(n_splits=10, shuffle=True, random_state=1)\n",
    "    # evaluate the model and collect the results\n",
    "    scores = np.sqrt(-cross_val_score(model, X_train, y_train, scoring='neg_mean_squared_error', cv=cv, n_jobs=-1))\n",
    "    return scores\n",
    "\n",
    "# get the models to evaluate\n",
    "models = get_models()\n",
    "# evaluate the models and store results\n",
    "results, names = list(), list()\n",
    "for name, model in models.items():\n",
    "    # evaluate the model\n",
    "    scores = evaluate_model(model, X_train, y_train)\n",
    "    # store the results\n",
    "    results.append(scores)\n",
    "    names.append(name)\n",
    "    # summarize the performance along the way\n",
    "    print('>%s %.3f (%.3f)' % (name, np.mean(scores), np.std(scores)))\n",
    "plt.boxplot(results, labels=names, showmeans=True)\n",
    "plt.ylabel('Cross validation error',fontsize=15)\n",
    "plt.xlabel('Depth of each tree',fontsize=15)"
   ]
  },
  {
   "cell_type": "code",
   "execution_count": 208,
   "metadata": {},
   "outputs": [
    {
     "name": "stdout",
     "output_type": "stream",
     "text": [
      ">0.0100 72273.4 (4464.4)\n",
      ">0.0500 48637.0 (3798.8)\n",
      ">0.1000 48697.0 (3726.1)\n",
      ">0.2000 48958.0 (3616.4)\n",
      ">0.3000 49334.9 (3720.6)\n",
      ">0.4000 49483.4 (3668.9)\n",
      ">0.5000 50007.6 (3759.1)\n",
      ">0.6000 50584.3 (3634.1)\n",
      ">0.8000 51059.1 (4096.9)\n",
      ">1.0000 51595.5 (3763.1)\n"
     ]
    },
    {
     "data": {
      "text/plain": [
       "Text(0.5, 0, 'Learning rate')"
      ]
     },
     "execution_count": 208,
     "metadata": {},
     "output_type": "execute_result"
    },
    {
     "data": {
      "image/png": "[encoded data removed]",
      "text/plain": [
       "<Figure size 504x504 with 1 Axes>"
      ]
     },
     "metadata": {
      "needs_background": "light"
     },
     "output_type": "display_data"
    }
   ],
   "source": [
    "def get_models():\n",
    "    models = dict()\n",
    "    # explore learning rates from 0.1 to 2 in 0.1 increments\n",
    "    for i in [0.01,0.05,0.1,0.2,0.3,0.4,0.5,0.6,0.8,1.0]:\n",
    "        key = '%.4f' % i\n",
    "        models[key] = xgb.XGBRegressor(learning_rate=i,random_state=1)\n",
    "    return models\n",
    "\n",
    "# evaluate a given model using cross-validation\n",
    "def evaluate_model(model, X_train, y_train):\n",
    "    # define the evaluation procedure\n",
    "    cv = KFold(n_splits=10, shuffle=True, random_state=1)\n",
    "    # evaluate the model and collect the results\n",
    "    scores = np.sqrt(-cross_val_score(model, X_train, y_train, scoring='neg_mean_squared_error', cv=cv, n_jobs=-1))\n",
    "    return scores\n",
    "\n",
    "# get the models to evaluate\n",
    "models = get_models()\n",
    "# evaluate the models and store results\n",
    "results, names = list(), list()\n",
    "for name, model in models.items():\n",
    "    # evaluate the model\n",
    "    scores = evaluate_model(model, X_train, y_train)\n",
    "    # store the results\n",
    "    results.append(scores)\n",
    "    names.append(name)\n",
    "    # summarize the performance along the way\n",
    "    print('>%s %.1f (%.1f)' % (name, np.mean(scores), np.std(scores)))\n",
    "# plot model performance for comparison\n",
    "plt.figure(figsize=(7, 7))\n",
    "plt.boxplot(results, labels=names, showmeans=True)\n",
    "plt.ylabel('Cross validation error',fontsize=15)\n",
    "plt.xlabel('Learning rate',fontsize=15)"
   ]
  },
  {
   "cell_type": "code",
   "execution_count": 209,
   "metadata": {},
   "outputs": [
    {
     "name": "stdout",
     "output_type": "stream",
     "text": [
      ">0.0000 49900.7 (3742.4)\n",
      ">0.5000 49326.5 (3850.1)\n",
      ">1.0000 49334.9 (3720.6)\n",
      ">1.5000 49054.0 (3659.7)\n",
      ">2.0000 49016.6 (3800.3)\n",
      ">10.0000 48708.5 (3952.9)\n",
      ">100.0000 48736.0 (3869.6)\n"
     ]
    },
    {
     "data": {
      "text/plain": [
       "Text(0.5, 0, 'reg_lambda')"
      ]
     },
     "execution_count": 209,
     "metadata": {},
     "output_type": "execute_result"
    },
    {
     "data": {
      "image/png": "[encoded data removed]",
      "text/plain": [
       "<Figure size 504x504 with 1 Axes>"
      ]
     },
     "metadata": {
      "needs_background": "light"
     },
     "output_type": "display_data"
    }
   ],
   "source": [
    "def get_models():\n",
    "    models = dict()\n",
    "    # explore 'reg_lambda' from 0.1 to 2 in 0.1 increments\n",
    "    for i in [0,0.5,1.0,1.5,2,10,100]:\n",
    "        key = '%.4f' % i\n",
    "        models[key] = xgb.XGBRegressor(reg_lambda=i,random_state=1)\n",
    "    return models\n",
    "\n",
    "# evaluate a given model using cross-validation\n",
    "def evaluate_model(model, X_train, y_train):\n",
    "    # define the evaluation procedure\n",
    "    cv = KFold(n_splits=10, shuffle=True, random_state=1)\n",
    "    # evaluate the model and collect the results\n",
    "    scores = np.sqrt(-cross_val_score(model, X_train, y_train, scoring='neg_mean_squared_error', cv=cv, n_jobs=-1))\n",
    "    return scores\n",
    "\n",
    "# get the models to evaluate\n",
    "models = get_models()\n",
    "# evaluate the models and store results\n",
    "results, names = list(), list()\n",
    "for name, model in models.items():\n",
    "    # evaluate the model\n",
    "    scores = evaluate_model(model, X_train, y_train)\n",
    "    # store the results\n",
    "    results.append(scores)\n",
    "    names.append(name)\n",
    "    # summarize the performance along the way\n",
    "    print('>%s %.1f (%.1f)' % (name, np.mean(scores), np.std(scores)))\n",
    "# plot model performance for comparison\n",
    "plt.figure(figsize=(7, 7))\n",
    "plt.boxplot(results, labels=names, showmeans=True)\n",
    "plt.ylabel('Cross validation error',fontsize=15)\n",
    "plt.xlabel('reg_lambda',fontsize=15)"
   ]
  },
  {
   "cell_type": "code",
   "execution_count": 210,
   "metadata": {},
   "outputs": [
    {
     "name": "stdout",
     "output_type": "stream",
     "text": [
      ">0.0000 49334.9 (3720.6)\n",
      ">10.0000 49334.9 (3720.6)\n",
      ">100.0000 49334.9 (3720.6)\n",
      ">1000.0000 49334.9 (3720.6)\n",
      ">10000.0000 49332.3 (3724.5)\n",
      ">100000.0000 49314.7 (3689.6)\n",
      ">1000000.0000 49286.4 (3746.7)\n",
      ">10000000.0000 49283.2 (3716.7)\n",
      ">100000000.0000 49209.1 (3599.2)\n",
      ">1000000000.0000 48689.8 (3732.1)\n"
     ]
    },
    {
     "data": {
      "text/plain": [
       "Text(0.5, 0, 'gamma')"
      ]
     },
     "execution_count": 210,
     "metadata": {},
     "output_type": "execute_result"
    },
    {
     "data": {
      "image/png": "[encoded data removed]",
      "text/plain": [
       "<Figure size 504x504 with 1 Axes>"
      ]
     },
     "metadata": {
      "needs_background": "light"
     },
     "output_type": "display_data"
    }
   ],
   "source": [
    "def get_models():\n",
    "    models = dict()\n",
    "    # explore gamma from 0.1 to 2 in 0.1 increments\n",
    "    for i in [0,10,1e2,1e3,1e4,1e5,1e6,1e7,1e8,1e9]:\n",
    "        key = '%.4f' % i\n",
    "        models[key] = xgb.XGBRegressor(gamma=i,random_state=1)\n",
    "    return models\n",
    "\n",
    "# evaluate a given model using cross-validation\n",
    "def evaluate_model(model, X_train, y_train):\n",
    "    # define the evaluation procedure\n",
    "    cv = KFold(n_splits=10, shuffle=True, random_state=1)\n",
    "    # evaluate the model and collect the results\n",
    "    scores = np.sqrt(-cross_val_score(model, X_train, y_train, scoring='neg_mean_squared_error', cv=cv, n_jobs=-1))\n",
    "    return scores\n",
    "\n",
    "# get the models to evaluate\n",
    "models = get_models()\n",
    "# evaluate the models and store results\n",
    "results, names = list(), list()\n",
    "for name, model in models.items():\n",
    "    # evaluate the model\n",
    "    scores = evaluate_model(model, X_train, y_train)\n",
    "    # store the results\n",
    "    results.append(scores)\n",
    "    names.append(name)\n",
    "    # summarize the performance along the way\n",
    "    print('>%s %.1f (%.1f)' % (name, np.mean(scores), np.std(scores)))\n",
    "# plot model performance for comparison\n",
    "plt.figure(figsize=(7, 7))\n",
    "plt.boxplot(results, labels=names, showmeans=True)\n",
    "plt.ylabel('Cross validation error',fontsize=15)\n",
    "plt.xlabel('gamma',fontsize=15)"
   ]
  },
  {
   "cell_type": "code",
   "execution_count": 31,
   "metadata": {},
   "outputs": [
    {
     "name": "stdout",
     "output_type": "stream",
     "text": [
      "[14:39:39] WARNING: /Users/runner/work/xgboost/xgboost/python-package/build/temp.macosx-10.9-x86_64-cpython-38/xgboost/src/learner.cc:767: \n",
      "Parameters: { \"loss\" } are not used.\n",
      "\n"
     ]
    }
   ],
   "source": [
    "model = xgb.XGBRegressor(max_depth=6,n_estimators=1000,learning_rate=0.05, reg_lambda= 100,\n",
    "                         random_state=1,subsample=0.75,gamma=1e9,loss='huber').fit(X_train,y_train)"
   ]
  },
  {
   "cell_type": "code",
   "execution_count": 32,
   "metadata": {},
   "outputs": [
    {
     "data": {
      "text/plain": [
       "35818.10832168229"
      ]
     },
     "execution_count": 32,
     "metadata": {},
     "output_type": "execute_result"
    }
   ],
   "source": [
    "y_pred = model.predict(X_test)\n",
    "\n",
    "\n",
    "(y_pred - y_test).abs().mean()"
   ]
  },
  {
   "cell_type": "code",
   "execution_count": 235,
   "metadata": {},
   "outputs": [
    {
     "data": {
      "image/png": "[encoded data removed]",
      "text/plain": [
       "<Figure size 432x288 with 1 Axes>"
      ]
     },
     "metadata": {
      "needs_background": "light"
     },
     "output_type": "display_data"
    }
   ],
   "source": [
    "sns.scatterplot(x=y_test, y=y_pred)\n",
    "\n",
    "min_val = min(min(y_pred), min(y_test))\n",
    "max_val = max(max(y_pred), max(y_test))\n",
    "perfect_values = np.linspace(min_val, max_val, 100)\n",
    "plt.plot(perfect_values, perfect_values, color='red', linestyle='--', label='Perfect Values')\n",
    "\n",
    "plt.title('Actual vs. Predicted')\n",
    "plt.xlabel('Actual Values')\n",
    "plt.ylabel('Predicted Values')\n",
    "\n",
    "plt.show()"
   ]
  },
  {
   "cell_type": "code",
   "execution_count": 57,
   "metadata": {},
   "outputs": [
    {
     "name": "stdout",
     "output_type": "stream",
     "text": [
      "Rank: 1, MAE: 1147.717801 (params: {'subsample': 0.75, 'reg_lambda': 1, 'n_estimators': 1000, 'max_depth': 6, 'learning_rate': 0.05, 'gamma': 100})\n",
      "Rank: 2, MAE: 1163.024403 (params: {'subsample': 1.0, 'reg_lambda': 1, 'n_estimators': 1000, 'max_depth': 8, 'learning_rate': 0.05, 'gamma': 0})\n",
      "Rank: 3, MAE: 1163.311357 (params: {'subsample': 1.0, 'reg_lambda': 0, 'n_estimators': 500, 'max_depth': 4, 'learning_rate': 0.05, 'gamma': 10})\n",
      "Rank: 4, MAE: 1163.311474 (params: {'subsample': 1.0, 'reg_lambda': 0, 'n_estimators': 500, 'max_depth': 4, 'learning_rate': 0.05, 'gamma': 100})\n",
      "Rank: 5, MAE: 1253.229652 (params: {'subsample': 0.75, 'reg_lambda': 0, 'n_estimators': 1000, 'max_depth': 8, 'learning_rate': 0.01, 'gamma': 0})\n",
      "Rank: 6, MAE: 1283.526776 (params: {'subsample': 0.75, 'reg_lambda': 0, 'n_estimators': 500, 'max_depth': 4, 'learning_rate': 0.05, 'gamma': 0})\n",
      "Rank: 7, MAE: 1283.838544 (params: {'subsample': 1.0, 'reg_lambda': 0, 'n_estimators': 1000, 'max_depth': 8, 'learning_rate': 0.05, 'gamma': 0})\n",
      "Rank: 8, MAE: 1348.338512 (params: {'subsample': 0.75, 'reg_lambda': 10, 'n_estimators': 500, 'max_depth': 8, 'learning_rate': 0.1, 'gamma': 10})\n",
      "Rank: 9, MAE: 1387.429904 (params: {'subsample': 0.75, 'reg_lambda': 1, 'n_estimators': 500, 'max_depth': 4, 'learning_rate': 0.1, 'gamma': 0})\n",
      "Rank: 10, MAE: 1403.298176 (params: {'subsample': 0.5, 'reg_lambda': 1, 'n_estimators': 500, 'max_depth': 6, 'learning_rate': 0.05, 'gamma': 100})\n",
      "Rank: 11, MAE: 1405.250671 (params: {'subsample': 0.5, 'reg_lambda': 10, 'n_estimators': 1000, 'max_depth': 8, 'learning_rate': 0.05, 'gamma': 0})\n",
      "Rank: 12, MAE: 1441.002724 (params: {'subsample': 0.5, 'reg_lambda': 0, 'n_estimators': 500, 'max_depth': 4, 'learning_rate': 0.05, 'gamma': 0})\n",
      "Rank: 13, MAE: 1513.084766 (params: {'subsample': 0.5, 'reg_lambda': 10, 'n_estimators': 500, 'max_depth': 8, 'learning_rate': 0.1, 'gamma': 10})\n",
      "Rank: 14, MAE: 1627.452897 (params: {'subsample': 0.75, 'reg_lambda': 10, 'n_estimators': 500, 'max_depth': 4, 'learning_rate': 0.05, 'gamma': 0})\n",
      "Rank: 15, MAE: 1648.586032 (params: {'subsample': 1.0, 'reg_lambda': 1, 'n_estimators': 1000, 'max_depth': 4, 'learning_rate': 0.01, 'gamma': 0})\n",
      "Rank: 16, MAE: 1709.537202 (params: {'subsample': 1.0, 'reg_lambda': 1, 'n_estimators': 100, 'max_depth': 4, 'learning_rate': 0.1, 'gamma': 0})\n",
      "Rank: 17, MAE: 1823.203304 (params: {'subsample': 0.5, 'reg_lambda': 10, 'n_estimators': 500, 'max_depth': 4, 'learning_rate': 0.05, 'gamma': 100})\n",
      "Rank: 18, MAE: 2118.373030 (params: {'subsample': 0.75, 'reg_lambda': 1, 'n_estimators': 500, 'max_depth': 6, 'learning_rate': 0.01, 'gamma': 0})\n",
      "Rank: 19, MAE: 2143.695649 (params: {'subsample': 0.75, 'reg_lambda': 10, 'n_estimators': 100, 'max_depth': 4, 'learning_rate': 0.1, 'gamma': 100})\n",
      "Rank: 20, MAE: 2240.750283 (params: {'subsample': 0.5, 'reg_lambda': 1, 'n_estimators': 100, 'max_depth': 6, 'learning_rate': 0.05, 'gamma': 100})\n",
      "Rank: 21, MAE: 2281.529863 (params: {'subsample': 1.0, 'reg_lambda': 10, 'n_estimators': 500, 'max_depth': 6, 'learning_rate': 0.01, 'gamma': 100})\n",
      "Rank: 22, MAE: 51466.728976 (params: {'subsample': 0.5, 'reg_lambda': 0, 'n_estimators': 100, 'max_depth': 8, 'learning_rate': 0.01, 'gamma': 100})\n",
      "Rank: 23, MAE: 51471.543158 (params: {'subsample': 0.75, 'reg_lambda': 0, 'n_estimators': 100, 'max_depth': 6, 'learning_rate': 0.01, 'gamma': 0})\n",
      "Rank: 24, MAE: 51727.352319 (params: {'subsample': 0.5, 'reg_lambda': 0, 'n_estimators': 100, 'max_depth': 4, 'learning_rate': 0.01, 'gamma': 0})\n",
      "Rank: 25, MAE: 51924.561963 (params: {'subsample': 0.75, 'reg_lambda': 1, 'n_estimators': 100, 'max_depth': 4, 'learning_rate': 0.01, 'gamma': 0})\n"
     ]
    }
   ],
   "source": [
    "means = optimal_params.cv_results_['mean_test_score']\n",
    "stds = optimal_params.cv_results_['std_test_score']\n",
    "params = optimal_params.cv_results_['params']\n",
    "ranks = optimal_params.cv_results_['rank_test_score']\n",
    "\n",
    "# Combine MAE, rank, and params into a list of tuples\n",
    "results = list(zip(means, ranks, params))\n",
    "# Sort the results based on MAE in ascending order\n",
    "results.sort(key=lambda x: -x[0])  # Sort in descending order of MAE\n",
    "\n",
    "# Print MAE and rank for each model in ascending order of MAE\n",
    "for i, (mean, rank, param) in enumerate(results):\n",
    "    neg_mse = mean  # Negative mean squared error\n",
    "    mae = -neg_mse  # Convert back to positive MAE\n",
    "    print(\"Rank: %d, MAE: %f (params: %r)\" % (i+1, mae, param))"
   ]
  },
  {
   "cell_type": "code",
   "execution_count": 11,
   "metadata": {},
   "outputs": [
    {
     "name": "stdout",
     "output_type": "stream",
     "text": [
      "Fitting 2 folds for each of 500 candidates, totalling 1000 fits\n",
      "Optimal parameter values = {'subsample': 0.5, 'reg_lambda': 100, 'n_estimators': 1000, 'max_depth': 8, 'learning_rate': 0.01, 'gamma': 10}\n",
      "Optimal cross validation R-squared =  -36568.345355902624\n",
      "Time taken =  142  minutes\n"
     ]
    }
   ],
   "source": [
    "start_time = time.time()\n",
    "param_grid = {'max_depth': [4,6,8,12,15],\n",
    "              'learning_rate': [0.01, 0.05, 0.1],\n",
    "               'reg_lambda':[0, 1, 10, 100],\n",
    "                'n_estimators':[1000, 2000, 3000, 4000],\n",
    "                'gamma': [0, 10, 100, 10000, 1e6, 1e9] ,\n",
    "                'subsample': [0.5, 0.75, 1.0]\n",
    "                }\n",
    "\n",
    "cv = KFold(n_splits=2,shuffle=True,random_state=45)\n",
    "optimal_params = RandomizedSearchCV(estimator=xgb.XGBRegressor(random_state=45),                                                       \n",
    "                             param_distributions = param_grid, n_iter = 500,\n",
    "                             verbose = 1,\n",
    "                             n_jobs=-1,\n",
    "                             scoring='neg_mean_absolute_error',\n",
    "                             cv = cv)\n",
    "optimal_params.fit(X_train,y_train)\n",
    "print(\"Optimal parameter values =\", optimal_params.best_params_)\n",
    "print(\"Optimal cross validation R-squared = \",optimal_params.best_score_)\n",
    "print(\"Time taken = \", round((time.time()-start_time)/60), \" minutes\")"
   ]
  },
  {
   "cell_type": "code",
   "execution_count": 21,
   "metadata": {},
   "outputs": [
    {
     "name": "stdout",
     "output_type": "stream",
     "text": [
      "Fitting 2 folds for each of 200 candidates, totalling 400 fits\n",
      "Optimal parameter values = {'subsample': 0.625, 'reg_lambda': 100, 'n_estimators': 1500, 'max_depth': 7, 'learning_rate': 0.01, 'gamma': 10}\n",
      "Optimal cross validation R-squared =  -36488.927135106496\n",
      "Time taken =  37  minutes\n"
     ]
    }
   ],
   "source": [
    "start_time = time.time()\n",
    "param_grid = {'max_depth': [7,8,9],\n",
    "              'learning_rate': [0.01, 0.025, 0.05, 0.1],\n",
    "               'reg_lambda':[0, 1, 10, 100],\n",
    "                'n_estimators':[1000, 1500, 2000, 2500],\n",
    "                'gamma': [0, 10, 100, 10000, 1e6, 1e9] ,\n",
    "                'subsample': [0.5, 0.625, 0.75, 0.875, 1.0]\n",
    "                }\n",
    "\n",
    "cv = KFold(n_splits=2,shuffle=True,random_state=45)\n",
    "optimal_params = RandomizedSearchCV(estimator=xgb.XGBRegressor(random_state=45),                                                       \n",
    "                             param_distributions = param_grid, n_iter = 200,\n",
    "                             verbose = 1,\n",
    "                             n_jobs=-1,\n",
    "                             scoring='neg_mean_absolute_error',\n",
    "                             cv = cv)\n",
    "optimal_params.fit(X_train,y_train)\n",
    "print(\"Optimal parameter values =\", optimal_params.best_params_)\n",
    "print(\"Optimal cross validation R-squared = \",optimal_params.best_score_)\n",
    "print(\"Time taken = \", round((time.time()-start_time)/60), \" minutes\")"
   ]
  },
  {
   "cell_type": "code",
   "execution_count": 154,
   "metadata": {},
   "outputs": [
    {
     "name": "stdout",
     "output_type": "stream",
     "text": [
      "[15:29:10] WARNING: /Users/runner/work/xgboost/xgboost/python-package/build/temp.macosx-10.9-x86_64-cpython-38/xgboost/src/learner.cc:767: \n",
      "Parameters: { \"loss\" } are not used.\n",
      "\n"
     ]
    }
   ],
   "source": [
    "lmodel = xgb.XGBRegressor(max_depth=7,n_estimators=3000,learning_rate=0.01, reg_lambda= 100,\n",
    "                         random_state=1,subsample=0.625,gamma=10,loss='huber').fit(X_trainl,y_trainl)"
   ]
  },
  {
   "cell_type": "code",
   "execution_count": 244,
   "metadata": {},
   "outputs": [
    {
     "name": "stdout",
     "output_type": "stream",
     "text": [
      "[16:18:53] WARNING: /Users/runner/work/xgboost/xgboost/python-package/build/temp.macosx-10.9-x86_64-cpython-38/xgboost/src/learner.cc:767: \n",
      "Parameters: { \"loss\" } are not used.\n",
      "\n"
     ]
    }
   ],
   "source": [
    "model = xgb.XGBRegressor(max_depth=7,n_estimators=2600,learning_rate=0.016, reg_lambda= 100,\n",
    "                         random_state=1,subsample=0.68,gamma=10,loss='huber').fit(X_train,y_train)"
   ]
  },
  {
   "cell_type": "code",
   "execution_count": 245,
   "metadata": {},
   "outputs": [
    {
     "data": {
      "text/plain": [
       "35643.055371211834"
      ]
     },
     "execution_count": 245,
     "metadata": {},
     "output_type": "execute_result"
    }
   ],
   "source": [
    "y_pred = model.predict(X_test)\n",
    "\n",
    "\n",
    "(y_pred - y_test).abs().mean()"
   ]
  },
  {
   "cell_type": "code",
   "execution_count": 158,
   "metadata": {},
   "outputs": [],
   "source": [
    "pd.DataFrame(y_pred).to_csv('XGBoostpredict.csv')"
   ]
  },
  {
   "cell_type": "code",
   "execution_count": 84,
   "metadata": {},
   "outputs": [
    {
     "data": {
      "image/png": "[encoded data removed]",
      "text/plain": [
       "<Figure size 432x288 with 1 Axes>"
      ]
     },
     "metadata": {
      "needs_background": "light"
     },
     "output_type": "display_data"
    }
   ],
   "source": [
    "sns.scatterplot(x=y_testl, y=y_pred)\n",
    "\n",
    "min_val = min(min(y_pred), min(y_testl))\n",
    "max_val = max(max(y_pred), max(y_testl))\n",
    "perfect_values = np.linspace(min_val, max_val, 100)\n",
    "plt.plot(perfect_values, perfect_values, color='red', linestyle='--', label='Perfect Values')\n",
    "\n",
    "plt.title('Actual vs. Predicted')\n",
    "plt.xlabel('Actual Values')\n",
    "plt.ylabel('Predicted Values')\n",
    "\n",
    "plt.show()"
   ]
  },
  {
   "cell_type": "code",
   "execution_count": 133,
   "metadata": {},
   "outputs": [],
   "source": [
    "new_y_predl = lmodel.predict(X_test)\n",
    "\n",
    "for i in range(len(y_pred)):\n",
    "    if y_pred[i] > threshold:\n",
    "        y_pred[i] = new_y_predl[i]"
   ]
  },
  {
   "cell_type": "code",
   "execution_count": 153,
   "metadata": {},
   "outputs": [
    {
     "data": {
      "text/plain": [
       "54271.8025241838"
      ]
     },
     "execution_count": 153,
     "metadata": {},
     "output_type": "execute_result"
    }
   ],
   "source": [
    "(y_pred - y_test).abs().mean()"
   ]
  },
  {
   "cell_type": "code",
   "execution_count": 74,
   "metadata": {},
   "outputs": [],
   "source": [
    "y_train[y_train > 200000] = y_train[y_train > 200000] - 30000"
   ]
  },
  {
   "cell_type": "code",
   "execution_count": null,
   "metadata": {},
   "outputs": [],
   "source": [
    "data['abs_diff'] = abs(y_test - y_pred)\n",
    "\n",
    "data[data['abs_diff'] > 100]"
   ]
  }
 ],
 "metadata": {
  "kernelspec": {
   "display_name": "base",
   "language": "python",
   "name": "python3"
  },
  "language_info": {
   "codemirror_mode": {
    "name": "ipython",
    "version": 3
   },
   "file_extension": ".py",
   "mimetype": "text/x-python",
   "name": "python",
   "nbconvert_exporter": "python",
   "pygments_lexer": "ipython3",
   "version": "3.9.12"
  },
  "orig_nbformat": 4
 },
 "nbformat": 4,
 "nbformat_minor": 2
}
